{
 "cells": [
  {
   "cell_type": "markdown",
   "metadata": {},
   "source": [
    "<div style=\"background: #0000; padding: 5px; border: 3px solid blue; border-radius: 5px;\">\n",
    "<font size=\"4\", color = \"black\">\n",
    "<b>КОММЕНТАРИЙ РЕВЬЮЕРА</b>\n",
    "<br /><br />\n",
    "Рад приветствовать тебя, Антон! <br />\n",
    "<br />    \n",
    "<br />\n",
    "Меня зовут Георгий Озбетелашвили, можно просто Гио. \n",
    "<br />\n",
    "Благодарю тебя, что прислал задание! Я перейду сразу на \"ты\" (если неудобно, то скажи мне).<br /> <br />Я буду комментировать твои задания по следующим принципам:<br />\n",
    "<b>ТАКОЙ ШРИФТ</b> - всегда начало моего комментария <br />\n",
    "<font color='blue'>такой фон</font> - комментарии с интересной ссылкой и дополнительной инфой<br/>\n",
    "<font color='green'>такой фон</font> - комментарии о том, что всё сделано правильно. Могу тут же оставить полезную рекомендацию <br/>\n",
    "<font color='orange'>такой фон</font> - комментарии о том, что всё хорошо, однако есть на что обратить внимание<br/>\n",
    "<font color='red'>такой фон</font> - комментарии о том, что есть критически важный момент, которому стоит уделить особое внимание и исправить.<br/>\n",
    "Чтобы было легче различать комментарии, я буду прикладывать к каждому типу комментария свой смайлик. Они буду ниже в примерах.\n",
    "<br /><br />\n",
    "Я буду стараться передавать тебе свой опыт и направлять тебя к правильному и эффективному решению, чтобы в дальнейшем ты мог расти дальше как крутой специалист ;) Будет круто, если будешь оставлять свои комментарии (просьба не удалять мои)! Помни, что глупых вопросов не бывает! А твой дружелюбный сосед ревьюер всегда будет рядом и поможет тебе)<br>\n",
    "<br> Ну что, народ, погнали!<br>\n",
    "    </font>\n",
    "    \n",
    "# ---------------------------------------------------------------------------------------------------------------\n",
    "# Примеры комментариев\n",
    "    \n",
    "<div class=\"alert alert-info\"; style=\"border-left: 7px solid blue\">\n",
    "<font size=\"4\"><b>Комментарий ревьюера 🎓</b></font>\n",
    "    <br /> \n",
    "    <font size=\"3\", color = \"black\">\n",
    "<br />\n",
    "      <br />Тут полезная ссылочка, советую посмотреть, если будет время :) Данная тема часто спрашивается на собеседованиях на джун-позиции  <br/>\n",
    "        <br /> <a href=\"hhttps://devpractice.ru/python-lesson-15-iterators-and-generators/\">Введение в генераторы Python</a>\n",
    "    <br />\n",
    "    </font>\n",
    "\n",
    "</div>\n",
    "    \n",
    "<div class=\"alert alert-success\"; style=\"border-left: 7px solid green\">\n",
    "<font size=\"4\"><b>Комментарий ревьюера 🚀</b></font>\n",
    "    <br />\n",
    "    <font size=\"3\", color = \"black\">\n",
    "    <br /> Все отлично, интересная логика решения!  \n",
    "     <br />\n",
    "    </font>\n",
    "\n",
    "</div>\n",
    " \n",
    "<div class=\"alert alert-warning\" ; style=\"border-left: 7px solid orange\">\n",
    "<font size=\"4\"><b>Комментарий ревьюера 👀</b></font>\n",
    "    <br />\n",
    "    <font size=\"3\", color = \"black\">\n",
    "    <br /> Если таких замечаний >= 3, то следует исправить недочеты. Если кол-во замечаний меньше 3, то зачту проект \n",
    "    <br />\n",
    "    </font>\n",
    "\n",
    "</div>\n",
    "    \n",
    "<div class=\"alert alert-danger\"; style=\"border-left: 7px solid red\">\n",
    "<font size=\"4\"><b>Комментарий ревьюера 🦔 </b></font>\n",
    "    <br /> \n",
    "    <font size=\"3\", color = \"black\">\n",
    "<br />\n",
    "    Стоит исправить ошибки)  \n",
    "    <br />\n",
    "    </font>\n",
    "\n",
    "</div>"
   ]
  },
  {
   "cell_type": "markdown",
   "metadata": {},
   "source": [
    "<div class=\"alert alert-info\"; style=\"border-left: 7px solid pink\">\n",
    "<font size=\"4\"><b>Комментарий студента</b></font>\n",
    "    <br /> \n",
    "    <font size=\"3\", color = \"black\">\n",
    "<br />\n",
    "      <br />Привет, Георгий! Спасибо за аргументированные замечания и интересные советы по доработке проекта - до некоторых интересных и полезных моментов сам не додумался, буду стараться учитывать в будущем. Проект поправил по твоим замечаниям, надеюсь, что все правильно и понятно. Свои комментарии оставил в таких блоках с розовой полосой.<br/>\n",
    "    </font>\n",
    "\n",
    "</div>"
   ]
  },
  {
   "cell_type": "markdown",
   "metadata": {},
   "source": [
    "<div style=\"background: #0000; padding: 5px; border: 3px solid blue; border-radius: 5px;\">\n",
    "<font size=\"4\", color = \"black\">\n",
    "<b>КОММЕНТАРИЙ РЕВЬЮЕРА v2</b>\n",
    "<br /><br />Привет, Антон! Спасибо тебе за важные исправления! Рад, что понравилось ревью✊ Принимаю работу и желаю удачи в дальнейшем становлении крутым спецом😎<br>\n",
    "    <br> Мои новые комментарии будут с припиской  v2<br> \n",
    "    </font>"
   ]
  },
  {
   "cell_type": "markdown",
   "metadata": {},
   "source": [
    "<div class=\"alert alert-success\"; style=\"border-left: 7px solid green\">\n",
    "<font size=\"4\"><b>Комментарий ревьюера 🚀</b></font>\n",
    "    <br />\n",
    "    <font size=\"3\", color = \"black\">\n",
    "    <br /> Отличное содержание проекта. Позволяет легко ориентироваться в нем.\n",
    "     <br />\n",
    "    </font>\n",
    "\n",
    "</div>"
   ]
  },
  {
   "cell_type": "markdown",
   "metadata": {},
   "source": [
    "# Проверка гипотез с целью увеличения выручки интернет-магазина, проведение А/В теста."
   ]
  },
  {
   "cell_type": "markdown",
   "metadata": {},
   "source": [
    "Составлен список гипотез, необходимо выбрать наиболее перспективную и провести по ней А/В тест.\n",
    "\n",
    "Таким образом, проект будет состояить из 2-х частей.\n",
    "\n",
    "**1 часть -  приоритизация гипотез:**\n",
    "- применим фреймворк ICE;\n",
    "- применим фреймворк RICE;\n",
    "- сравним результат и сделаем выводы.\n",
    "\n",
    "**2 часть - анализ A/B-теста:**\n",
    "- загрузим данные и проведем предобработку;\n",
    "- построим графики кумулятивной выручки по группам, кумулятивного среднего чека по группам, относительного изменения кумулятивного среднего чека, кумулятивной конверсии по группам, относительного изменения кумулятивной конверсии;\n",
    "- построим точечный график количества заказов по пользователям и посчитаем 95-й и 99-й перцентили количества заказов на пользователя;\n",
    "- построим точечный график стоимостей заказов и посчитаем 95-й и 99-й перцентили стоимости заказов;\n",
    "- посчитаем статистическую значимость различий в конверсии между группами и статистическую значимость различий в среднем чеке заказа между группами по «сырым» данным;\n",
    "- посчитаем статистическую значимость различий в конверсии между группами и статистическую значимость различий в среднем чеке заказа между группами по «очищенным» данным;\n",
    "- примим решение по результатам теста."
   ]
  },
  {
   "cell_type": "markdown",
   "metadata": {},
   "source": [
    "<div class=\"alert alert-warning\" ; style=\"border-left: 7px solid orange\">\n",
    "<font size=\"4\"><b>Комментарий ревьюера 👀</b></font>\n",
    "    <br />\n",
    "    <font size=\"3\", color = \"black\">\n",
    "    <br /> Стоит чуть подробнее описать проект. Расписать цели и задачи. В ТЗ к проекту мало описания, требуется твое понимание проделанной работы - общая характеристика проекта\n",
    "    <br />\n",
    "    </font>\n",
    "</div>"
   ]
  },
  {
   "cell_type": "markdown",
   "metadata": {},
   "source": [
    "<div class=\"alert alert-info\"; style=\"border-left: 7px solid pink\">\n",
    "<font size=\"4\"><b>Комментарий студента</b></font>\n",
    "    <br /> \n",
    "    <font size=\"3\", color = \"black\">\n",
    "<br />\n",
    "      <br />Добавил описания проекту, надеюсь, теперь более понятно выглядит.<br/>\n",
    "    </font>\n",
    "\n",
    "</div>"
   ]
  },
  {
   "cell_type": "markdown",
   "metadata": {},
   "source": [
    "<div class=\"alert alert-success\"; style=\"border-left: 7px solid green\">\n",
    "<font size=\"4\"><b>Комментарий ревьюера 🚀 v2</b></font>\n",
    "    <br />\n",
    "    <font size=\"3\", color = \"black\">\n",
    "    <br /> Супер, спасибо!\n",
    "     <br />\n",
    "    </font>\n",
    "\n",
    "</div>"
   ]
  },
  {
   "cell_type": "markdown",
   "metadata": {},
   "source": [
    "## Часть 1. Приоритизация гипотез."
   ]
  },
  {
   "cell_type": "markdown",
   "metadata": {},
   "source": [
    "Задача:\n",
    "\n",
    "- Применить фреймворк ICE для приоритизации гипотез. Отсортировать их по убыванию приоритета.\n",
    "- Применить фреймворк RICE для приоритизации гипотез. Отсортировать их по убыванию приоритета.\n",
    "- Проверить как изменилась приоритизация гипотез при применении RICE вместо ICE. Объяснить изменения."
   ]
  },
  {
   "cell_type": "markdown",
   "metadata": {},
   "source": [
    "### Загрузим данные и подготовим их к анализу"
   ]
  },
  {
   "cell_type": "code",
   "execution_count": 9,
   "metadata": {},
   "outputs": [],
   "source": [
    "import pandas as pd\n",
    "import scipy.stats as stats\n",
    "import numpy as np\n",
    "import datetime as dt\n",
    "import matplotlib.pyplot as plt"
   ]
  },
  {
   "cell_type": "markdown",
   "metadata": {},
   "source": [
    "<div class=\"alert alert-success\"; style=\"border-left: 7px solid green\">\n",
    "<font size=\"4\"><b>Комментарий ревьюера 🚀</b></font>\n",
    "    <br />\n",
    "    <font size=\"3\", color = \"black\">\n",
    "    <br /> Вызваны все необходимые библиотеки для решения задач данного проекта! Обладаешь обширным инструментарием.\n",
    "     <br />\n",
    "    </font>\n",
    "\n",
    "</div>"
   ]
  },
  {
   "cell_type": "code",
   "execution_count": 10,
   "metadata": {
    "scrolled": true
   },
   "outputs": [
    {
     "data": {
      "text/html": [
       "<style  type=\"text/css\" >\n",
       "#T_650a5_row0_col0,#T_650a5_row1_col0,#T_650a5_row2_col0,#T_650a5_row3_col0,#T_650a5_row4_col0,#T_650a5_row5_col0,#T_650a5_row6_col0,#T_650a5_row7_col0,#T_650a5_row8_col0{\n",
       "            width-min:  300px;\n",
       "        }</style><table id=\"T_650a5_\" ><thead>    <tr>        <th class=\"blank level0\" ></th>        <th class=\"col_heading level0 col0\" >Hypothesis</th>        <th class=\"col_heading level0 col1\" >Reach</th>        <th class=\"col_heading level0 col2\" >Impact</th>        <th class=\"col_heading level0 col3\" >Confidence</th>        <th class=\"col_heading level0 col4\" >Efforts</th>    </tr></thead><tbody>\n",
       "                <tr>\n",
       "                        <th id=\"T_650a5_level0_row0\" class=\"row_heading level0 row0\" >0</th>\n",
       "                        <td id=\"T_650a5_row0_col0\" class=\"data row0 col0\" >Добавить два новых канала привлечения трафика, что позволит привлекать на 30% больше пользователей</td>\n",
       "                        <td id=\"T_650a5_row0_col1\" class=\"data row0 col1\" >3</td>\n",
       "                        <td id=\"T_650a5_row0_col2\" class=\"data row0 col2\" >10</td>\n",
       "                        <td id=\"T_650a5_row0_col3\" class=\"data row0 col3\" >8</td>\n",
       "                        <td id=\"T_650a5_row0_col4\" class=\"data row0 col4\" >6</td>\n",
       "            </tr>\n",
       "            <tr>\n",
       "                        <th id=\"T_650a5_level0_row1\" class=\"row_heading level0 row1\" >1</th>\n",
       "                        <td id=\"T_650a5_row1_col0\" class=\"data row1 col0\" >Запустить собственную службу доставки, что сократит срок доставки заказов</td>\n",
       "                        <td id=\"T_650a5_row1_col1\" class=\"data row1 col1\" >2</td>\n",
       "                        <td id=\"T_650a5_row1_col2\" class=\"data row1 col2\" >5</td>\n",
       "                        <td id=\"T_650a5_row1_col3\" class=\"data row1 col3\" >4</td>\n",
       "                        <td id=\"T_650a5_row1_col4\" class=\"data row1 col4\" >10</td>\n",
       "            </tr>\n",
       "            <tr>\n",
       "                        <th id=\"T_650a5_level0_row2\" class=\"row_heading level0 row2\" >2</th>\n",
       "                        <td id=\"T_650a5_row2_col0\" class=\"data row2 col0\" >Добавить блоки рекомендаций товаров на сайт интернет магазина, чтобы повысить конверсию и средний чек заказа</td>\n",
       "                        <td id=\"T_650a5_row2_col1\" class=\"data row2 col1\" >8</td>\n",
       "                        <td id=\"T_650a5_row2_col2\" class=\"data row2 col2\" >3</td>\n",
       "                        <td id=\"T_650a5_row2_col3\" class=\"data row2 col3\" >7</td>\n",
       "                        <td id=\"T_650a5_row2_col4\" class=\"data row2 col4\" >3</td>\n",
       "            </tr>\n",
       "            <tr>\n",
       "                        <th id=\"T_650a5_level0_row3\" class=\"row_heading level0 row3\" >3</th>\n",
       "                        <td id=\"T_650a5_row3_col0\" class=\"data row3 col0\" >Изменить структура категорий, что увеличит конверсию, т.к. пользователи быстрее найдут нужный товар</td>\n",
       "                        <td id=\"T_650a5_row3_col1\" class=\"data row3 col1\" >8</td>\n",
       "                        <td id=\"T_650a5_row3_col2\" class=\"data row3 col2\" >3</td>\n",
       "                        <td id=\"T_650a5_row3_col3\" class=\"data row3 col3\" >3</td>\n",
       "                        <td id=\"T_650a5_row3_col4\" class=\"data row3 col4\" >8</td>\n",
       "            </tr>\n",
       "            <tr>\n",
       "                        <th id=\"T_650a5_level0_row4\" class=\"row_heading level0 row4\" >4</th>\n",
       "                        <td id=\"T_650a5_row4_col0\" class=\"data row4 col0\" >Изменить цвет фона главной страницы, чтобы увеличить вовлеченность пользователей</td>\n",
       "                        <td id=\"T_650a5_row4_col1\" class=\"data row4 col1\" >3</td>\n",
       "                        <td id=\"T_650a5_row4_col2\" class=\"data row4 col2\" >1</td>\n",
       "                        <td id=\"T_650a5_row4_col3\" class=\"data row4 col3\" >1</td>\n",
       "                        <td id=\"T_650a5_row4_col4\" class=\"data row4 col4\" >1</td>\n",
       "            </tr>\n",
       "            <tr>\n",
       "                        <th id=\"T_650a5_level0_row5\" class=\"row_heading level0 row5\" >5</th>\n",
       "                        <td id=\"T_650a5_row5_col0\" class=\"data row5 col0\" >Добавить страницу отзывов клиентов о магазине, что позволит увеличить количество заказов</td>\n",
       "                        <td id=\"T_650a5_row5_col1\" class=\"data row5 col1\" >3</td>\n",
       "                        <td id=\"T_650a5_row5_col2\" class=\"data row5 col2\" >2</td>\n",
       "                        <td id=\"T_650a5_row5_col3\" class=\"data row5 col3\" >2</td>\n",
       "                        <td id=\"T_650a5_row5_col4\" class=\"data row5 col4\" >3</td>\n",
       "            </tr>\n",
       "            <tr>\n",
       "                        <th id=\"T_650a5_level0_row6\" class=\"row_heading level0 row6\" >6</th>\n",
       "                        <td id=\"T_650a5_row6_col0\" class=\"data row6 col0\" >Показать на главной странице баннеры с актуальными акциями и распродажами, чтобы увеличить конверсию</td>\n",
       "                        <td id=\"T_650a5_row6_col1\" class=\"data row6 col1\" >5</td>\n",
       "                        <td id=\"T_650a5_row6_col2\" class=\"data row6 col2\" >3</td>\n",
       "                        <td id=\"T_650a5_row6_col3\" class=\"data row6 col3\" >8</td>\n",
       "                        <td id=\"T_650a5_row6_col4\" class=\"data row6 col4\" >3</td>\n",
       "            </tr>\n",
       "            <tr>\n",
       "                        <th id=\"T_650a5_level0_row7\" class=\"row_heading level0 row7\" >7</th>\n",
       "                        <td id=\"T_650a5_row7_col0\" class=\"data row7 col0\" >Добавить форму подписки на все основные страницы, чтобы собрать базу клиентов для email-рассылок</td>\n",
       "                        <td id=\"T_650a5_row7_col1\" class=\"data row7 col1\" >10</td>\n",
       "                        <td id=\"T_650a5_row7_col2\" class=\"data row7 col2\" >7</td>\n",
       "                        <td id=\"T_650a5_row7_col3\" class=\"data row7 col3\" >8</td>\n",
       "                        <td id=\"T_650a5_row7_col4\" class=\"data row7 col4\" >5</td>\n",
       "            </tr>\n",
       "            <tr>\n",
       "                        <th id=\"T_650a5_level0_row8\" class=\"row_heading level0 row8\" >8</th>\n",
       "                        <td id=\"T_650a5_row8_col0\" class=\"data row8 col0\" >Запустить акцию, дающую скидку на товар в день рождения</td>\n",
       "                        <td id=\"T_650a5_row8_col1\" class=\"data row8 col1\" >1</td>\n",
       "                        <td id=\"T_650a5_row8_col2\" class=\"data row8 col2\" >9</td>\n",
       "                        <td id=\"T_650a5_row8_col3\" class=\"data row8 col3\" >9</td>\n",
       "                        <td id=\"T_650a5_row8_col4\" class=\"data row8 col4\" >5</td>\n",
       "            </tr>\n",
       "    </tbody></table>"
      ],
      "text/plain": [
       "<pandas.io.formats.style.Styler at 0x7f6ca1ed4ee0>"
      ]
     },
     "execution_count": 10,
     "metadata": {},
     "output_type": "execute_result"
    }
   ],
   "source": [
    "try:\n",
    "    hypothesis = pd.read_csv('/datasets/hypothesis.csv')\n",
    "except:\n",
    "    print('Файл не читается!')\n",
    "\n",
    "hypothesis.style.set_properties(subset=['Hypothesis'], **{'width-min': '300px'})"
   ]
  },
  {
   "cell_type": "markdown",
   "metadata": {},
   "source": [
    "<div class=\"alert alert-success\"; style=\"border-left: 7px solid green\">\n",
    "<font size=\"4\"><b>Комментарий ревьюера 🚀</b></font>\n",
    "    <br />\n",
    "    <font size=\"3\", color = \"black\">\n",
    "    <br /> Супер, что увеличиваешь ширину столбца!\n",
    "     <br />\n",
    "    </font>\n",
    "\n",
    "</div>"
   ]
  },
  {
   "cell_type": "markdown",
   "metadata": {},
   "source": [
    "Приведем названия столбцов к нижнему регистру:"
   ]
  },
  {
   "cell_type": "code",
   "execution_count": 11,
   "metadata": {},
   "outputs": [
    {
     "data": {
      "text/plain": [
       "Index(['hypothesis', 'reach', 'impact', 'confidence', 'efforts'], dtype='object')"
      ]
     },
     "execution_count": 11,
     "metadata": {},
     "output_type": "execute_result"
    }
   ],
   "source": [
    "hypothesis.columns = hypothesis.columns.str.lower()\n",
    "hypothesis.columns"
   ]
  },
  {
   "cell_type": "markdown",
   "metadata": {},
   "source": [
    "<div class=\"alert alert-success\"; style=\"border-left: 7px solid green\">\n",
    "<font size=\"4\"><b>Комментарий ревьюера 🚀</b></font>\n",
    "    <br />\n",
    "    <font size=\"3\", color = \"black\">\n",
    "    <br /> Отлично, что используешь метод str.lower(). Так будем меньше хардкодить (писать изменения вручную).\n",
    "     <br />\n",
    "    </font>\n",
    "\n",
    "</div>"
   ]
  },
  {
   "cell_type": "markdown",
   "metadata": {},
   "source": [
    "По документации:\n",
    "\n",
    "- Hypothesis — краткое описание гипотезы;\n",
    "- Reach — охват пользователей по 10-балльной шкале;\n",
    "- Impact — влияние на пользователей по 10-балльной шкале;\n",
    "- Confidence — уверенность в гипотезе по 10-балльной шкале;\n",
    "- Efforts — затраты ресурсов на проверку гипотезы по 10-балльной шкале."
   ]
  },
  {
   "cell_type": "markdown",
   "metadata": {},
   "source": [
    "**Примечание:** данные в файле корректны, можно приступить к работе."
   ]
  },
  {
   "cell_type": "markdown",
   "metadata": {},
   "source": [
    "<div class=\"alert alert-success\"; style=\"border-left: 7px solid green\">\n",
    "<font size=\"4\"><b>Комментарий ревьюера 🚀</b></font>\n",
    "    <br />\n",
    "    <font size=\"3\", color = \"black\">\n",
    "    <br /> Отличное описание данных\n",
    "     <br />\n",
    "    </font>\n",
    "\n",
    "</div>"
   ]
  },
  {
   "cell_type": "markdown",
   "metadata": {},
   "source": [
    "### Применим фреймворк ICE для приоритизации гипотез. Отсортируем их по убыванию приоритета."
   ]
  },
  {
   "cell_type": "code",
   "execution_count": 12,
   "metadata": {},
   "outputs": [
    {
     "data": {
      "text/html": [
       "<style  type=\"text/css\" >\n",
       "#T_f0e50_row0_col0,#T_f0e50_row1_col0,#T_f0e50_row2_col0,#T_f0e50_row3_col0,#T_f0e50_row4_col0,#T_f0e50_row5_col0,#T_f0e50_row6_col0,#T_f0e50_row7_col0,#T_f0e50_row8_col0{\n",
       "            width-min:  300px;\n",
       "        }</style><table id=\"T_f0e50_\" ><thead>    <tr>        <th class=\"blank level0\" ></th>        <th class=\"col_heading level0 col0\" >hypothesis</th>        <th class=\"col_heading level0 col1\" >ICE</th>    </tr></thead><tbody>\n",
       "                <tr>\n",
       "                        <th id=\"T_f0e50_level0_row0\" class=\"row_heading level0 row0\" >8</th>\n",
       "                        <td id=\"T_f0e50_row0_col0\" class=\"data row0 col0\" >Запустить акцию, дающую скидку на товар в день рождения</td>\n",
       "                        <td id=\"T_f0e50_row0_col1\" class=\"data row0 col1\" >16.200000</td>\n",
       "            </tr>\n",
       "            <tr>\n",
       "                        <th id=\"T_f0e50_level0_row1\" class=\"row_heading level0 row1\" >0</th>\n",
       "                        <td id=\"T_f0e50_row1_col0\" class=\"data row1 col0\" >Добавить два новых канала привлечения трафика, что позволит привлекать на 30% больше пользователей</td>\n",
       "                        <td id=\"T_f0e50_row1_col1\" class=\"data row1 col1\" >13.333333</td>\n",
       "            </tr>\n",
       "            <tr>\n",
       "                        <th id=\"T_f0e50_level0_row2\" class=\"row_heading level0 row2\" >7</th>\n",
       "                        <td id=\"T_f0e50_row2_col0\" class=\"data row2 col0\" >Добавить форму подписки на все основные страницы, чтобы собрать базу клиентов для email-рассылок</td>\n",
       "                        <td id=\"T_f0e50_row2_col1\" class=\"data row2 col1\" >11.200000</td>\n",
       "            </tr>\n",
       "            <tr>\n",
       "                        <th id=\"T_f0e50_level0_row3\" class=\"row_heading level0 row3\" >6</th>\n",
       "                        <td id=\"T_f0e50_row3_col0\" class=\"data row3 col0\" >Показать на главной странице баннеры с актуальными акциями и распродажами, чтобы увеличить конверсию</td>\n",
       "                        <td id=\"T_f0e50_row3_col1\" class=\"data row3 col1\" >8.000000</td>\n",
       "            </tr>\n",
       "            <tr>\n",
       "                        <th id=\"T_f0e50_level0_row4\" class=\"row_heading level0 row4\" >2</th>\n",
       "                        <td id=\"T_f0e50_row4_col0\" class=\"data row4 col0\" >Добавить блоки рекомендаций товаров на сайт интернет магазина, чтобы повысить конверсию и средний чек заказа</td>\n",
       "                        <td id=\"T_f0e50_row4_col1\" class=\"data row4 col1\" >7.000000</td>\n",
       "            </tr>\n",
       "            <tr>\n",
       "                        <th id=\"T_f0e50_level0_row5\" class=\"row_heading level0 row5\" >1</th>\n",
       "                        <td id=\"T_f0e50_row5_col0\" class=\"data row5 col0\" >Запустить собственную службу доставки, что сократит срок доставки заказов</td>\n",
       "                        <td id=\"T_f0e50_row5_col1\" class=\"data row5 col1\" >2.000000</td>\n",
       "            </tr>\n",
       "            <tr>\n",
       "                        <th id=\"T_f0e50_level0_row6\" class=\"row_heading level0 row6\" >5</th>\n",
       "                        <td id=\"T_f0e50_row6_col0\" class=\"data row6 col0\" >Добавить страницу отзывов клиентов о магазине, что позволит увеличить количество заказов</td>\n",
       "                        <td id=\"T_f0e50_row6_col1\" class=\"data row6 col1\" >1.333333</td>\n",
       "            </tr>\n",
       "            <tr>\n",
       "                        <th id=\"T_f0e50_level0_row7\" class=\"row_heading level0 row7\" >3</th>\n",
       "                        <td id=\"T_f0e50_row7_col0\" class=\"data row7 col0\" >Изменить структура категорий, что увеличит конверсию, т.к. пользователи быстрее найдут нужный товар</td>\n",
       "                        <td id=\"T_f0e50_row7_col1\" class=\"data row7 col1\" >1.125000</td>\n",
       "            </tr>\n",
       "            <tr>\n",
       "                        <th id=\"T_f0e50_level0_row8\" class=\"row_heading level0 row8\" >4</th>\n",
       "                        <td id=\"T_f0e50_row8_col0\" class=\"data row8 col0\" >Изменить цвет фона главной страницы, чтобы увеличить вовлеченность пользователей</td>\n",
       "                        <td id=\"T_f0e50_row8_col1\" class=\"data row8 col1\" >1.000000</td>\n",
       "            </tr>\n",
       "    </tbody></table>"
      ],
      "text/plain": [
       "<pandas.io.formats.style.Styler at 0x7f6ca1e6c370>"
      ]
     },
     "execution_count": 12,
     "metadata": {},
     "output_type": "execute_result"
    }
   ],
   "source": [
    "hypothesis['ICE'] = hypothesis['impact'] * hypothesis['confidence'] / hypothesis['efforts']\n",
    "hypothesis[['hypothesis', 'ICE']].sort_values(\n",
    "    by='ICE', ascending=False\n",
    ").style.set_properties(\n",
    "    subset=['hypothesis'], **{'width-min': '300px'}\n",
    ")"
   ]
  },
  {
   "cell_type": "markdown",
   "metadata": {},
   "source": [
    "<div class=\"alert alert-success\"; style=\"border-left: 7px solid green\">\n",
    "<font size=\"4\"><b>Комментарий ревьюера 🚀</b></font>\n",
    "    <br />\n",
    "    <font size=\"3\", color = \"black\">\n",
    "    <br /> Абсолютно верная формула для расчета ICE\n",
    "     <br />\n",
    "    </font>\n",
    "\n",
    "</div>"
   ]
  },
  {
   "cell_type": "markdown",
   "metadata": {},
   "source": [
    "**Вывод:** наиболее приоритетной гипотизой по ICE является \"Запустить акцию, дающую скидку на товар в день рождения\" (гипотиза с индексом 8), также на 2-м и на 3-м месте по приоритету гипотезы с индексом 0 и 7 соответственно."
   ]
  },
  {
   "cell_type": "markdown",
   "metadata": {},
   "source": [
    "### Применим фреймворк RICE для приоритизации гипотез. Отсортируем их по убыванию приоритета."
   ]
  },
  {
   "cell_type": "code",
   "execution_count": 13,
   "metadata": {},
   "outputs": [
    {
     "data": {
      "text/html": [
       "<style  type=\"text/css\" >\n",
       "#T_67b38_row0_col0,#T_67b38_row1_col0,#T_67b38_row2_col0,#T_67b38_row3_col0,#T_67b38_row4_col0,#T_67b38_row5_col0,#T_67b38_row6_col0,#T_67b38_row7_col0,#T_67b38_row8_col0{\n",
       "            width-min:  300px;\n",
       "        }</style><table id=\"T_67b38_\" ><thead>    <tr>        <th class=\"blank level0\" ></th>        <th class=\"col_heading level0 col0\" >hypothesis</th>        <th class=\"col_heading level0 col1\" >RICE</th>    </tr></thead><tbody>\n",
       "                <tr>\n",
       "                        <th id=\"T_67b38_level0_row0\" class=\"row_heading level0 row0\" >7</th>\n",
       "                        <td id=\"T_67b38_row0_col0\" class=\"data row0 col0\" >Добавить форму подписки на все основные страницы, чтобы собрать базу клиентов для email-рассылок</td>\n",
       "                        <td id=\"T_67b38_row0_col1\" class=\"data row0 col1\" >112.000000</td>\n",
       "            </tr>\n",
       "            <tr>\n",
       "                        <th id=\"T_67b38_level0_row1\" class=\"row_heading level0 row1\" >2</th>\n",
       "                        <td id=\"T_67b38_row1_col0\" class=\"data row1 col0\" >Добавить блоки рекомендаций товаров на сайт интернет магазина, чтобы повысить конверсию и средний чек заказа</td>\n",
       "                        <td id=\"T_67b38_row1_col1\" class=\"data row1 col1\" >56.000000</td>\n",
       "            </tr>\n",
       "            <tr>\n",
       "                        <th id=\"T_67b38_level0_row2\" class=\"row_heading level0 row2\" >0</th>\n",
       "                        <td id=\"T_67b38_row2_col0\" class=\"data row2 col0\" >Добавить два новых канала привлечения трафика, что позволит привлекать на 30% больше пользователей</td>\n",
       "                        <td id=\"T_67b38_row2_col1\" class=\"data row2 col1\" >40.000000</td>\n",
       "            </tr>\n",
       "            <tr>\n",
       "                        <th id=\"T_67b38_level0_row3\" class=\"row_heading level0 row3\" >6</th>\n",
       "                        <td id=\"T_67b38_row3_col0\" class=\"data row3 col0\" >Показать на главной странице баннеры с актуальными акциями и распродажами, чтобы увеличить конверсию</td>\n",
       "                        <td id=\"T_67b38_row3_col1\" class=\"data row3 col1\" >40.000000</td>\n",
       "            </tr>\n",
       "            <tr>\n",
       "                        <th id=\"T_67b38_level0_row4\" class=\"row_heading level0 row4\" >8</th>\n",
       "                        <td id=\"T_67b38_row4_col0\" class=\"data row4 col0\" >Запустить акцию, дающую скидку на товар в день рождения</td>\n",
       "                        <td id=\"T_67b38_row4_col1\" class=\"data row4 col1\" >16.200000</td>\n",
       "            </tr>\n",
       "            <tr>\n",
       "                        <th id=\"T_67b38_level0_row5\" class=\"row_heading level0 row5\" >3</th>\n",
       "                        <td id=\"T_67b38_row5_col0\" class=\"data row5 col0\" >Изменить структура категорий, что увеличит конверсию, т.к. пользователи быстрее найдут нужный товар</td>\n",
       "                        <td id=\"T_67b38_row5_col1\" class=\"data row5 col1\" >9.000000</td>\n",
       "            </tr>\n",
       "            <tr>\n",
       "                        <th id=\"T_67b38_level0_row6\" class=\"row_heading level0 row6\" >1</th>\n",
       "                        <td id=\"T_67b38_row6_col0\" class=\"data row6 col0\" >Запустить собственную службу доставки, что сократит срок доставки заказов</td>\n",
       "                        <td id=\"T_67b38_row6_col1\" class=\"data row6 col1\" >4.000000</td>\n",
       "            </tr>\n",
       "            <tr>\n",
       "                        <th id=\"T_67b38_level0_row7\" class=\"row_heading level0 row7\" >5</th>\n",
       "                        <td id=\"T_67b38_row7_col0\" class=\"data row7 col0\" >Добавить страницу отзывов клиентов о магазине, что позволит увеличить количество заказов</td>\n",
       "                        <td id=\"T_67b38_row7_col1\" class=\"data row7 col1\" >4.000000</td>\n",
       "            </tr>\n",
       "            <tr>\n",
       "                        <th id=\"T_67b38_level0_row8\" class=\"row_heading level0 row8\" >4</th>\n",
       "                        <td id=\"T_67b38_row8_col0\" class=\"data row8 col0\" >Изменить цвет фона главной страницы, чтобы увеличить вовлеченность пользователей</td>\n",
       "                        <td id=\"T_67b38_row8_col1\" class=\"data row8 col1\" >3.000000</td>\n",
       "            </tr>\n",
       "    </tbody></table>"
      ],
      "text/plain": [
       "<pandas.io.formats.style.Styler at 0x7f6ca1e6c310>"
      ]
     },
     "execution_count": 13,
     "metadata": {},
     "output_type": "execute_result"
    }
   ],
   "source": [
    "hypothesis['RICE'] = hypothesis['reach'] * hypothesis['impact'] * hypothesis['confidence'] / hypothesis['efforts']\n",
    "hypothesis[['hypothesis', 'RICE']].sort_values(\n",
    "    by='RICE', ascending=False\n",
    ").style.set_properties(\n",
    "    subset=['hypothesis'], **{'width-min': '300px'}\n",
    ")"
   ]
  },
  {
   "cell_type": "markdown",
   "metadata": {},
   "source": [
    "**Вывод:** наиболее приоритетной гипотизой по RICE является \"Добавить форму подписки на все основные страницы, чтобы собрать базу клиентов для email-рассылок\" (гипотиза с индексом 7), также на 2-м и на 3-м месте по приоритету гипотезы с индексом 2 и 0 соответственно."
   ]
  },
  {
   "cell_type": "markdown",
   "metadata": {},
   "source": [
    "### Сделаем выводы по изменениям приоритизации гипотез при применении RICE вместо ICE:"
   ]
  },
  {
   "cell_type": "markdown",
   "metadata": {},
   "source": [
    "- гипотиза с индексом 8 \"Запустить акцию, дающую скидку на товар в день рождения\" по ICE самая приоритетная в связи с высокими показателями Impact и Confidence при средних значениях Efforts;\n",
    "- по RICE самая приоритетная гипотиза с индексом 7 \"Добавить форму подписки на все основные страницы, чтобы собрать базу клиентов для email-рассылок\", потому что ее показатель Reach самый высокий среди всех предложенных гипотиз."
   ]
  },
  {
   "cell_type": "markdown",
   "metadata": {},
   "source": [
    "<div class=\"alert alert-success\"; style=\"border-left: 7px solid green\">\n",
    "<font size=\"4\"><b>Комментарий ревьюера 🚀</b></font>\n",
    "    <br />\n",
    "    <font size=\"3\", color = \"black\">\n",
    "    <br /> Молодец, произведены верные подсчеты по двум фрейворкам. Правильная сортировка по показателям.\n",
    "     <br /><br />\n",
    "        Нравится объяснение полученных результатов. Есть отличное понимание причинно-следственной связи\n",
    "    </font>\n",
    "\n",
    "</div>"
   ]
  },
  {
   "cell_type": "markdown",
   "metadata": {},
   "source": [
    "## Часть 2. Анализ A/B-теста"
   ]
  },
  {
   "cell_type": "markdown",
   "metadata": {},
   "source": [
    "### Загрузим данные и подготовим их к анализу"
   ]
  },
  {
   "cell_type": "code",
   "execution_count": 14,
   "metadata": {},
   "outputs": [
    {
     "name": "stdout",
     "output_type": "stream",
     "text": [
      "<class 'pandas.core.frame.DataFrame'>\n",
      "RangeIndex: 1197 entries, 0 to 1196\n",
      "Data columns (total 5 columns):\n",
      " #   Column         Non-Null Count  Dtype \n",
      "---  ------         --------------  ----- \n",
      " 0   transactionId  1197 non-null   int64 \n",
      " 1   visitorId      1197 non-null   int64 \n",
      " 2   date           1197 non-null   object\n",
      " 3   revenue        1197 non-null   int64 \n",
      " 4   group          1197 non-null   object\n",
      "dtypes: int64(3), object(2)\n",
      "memory usage: 46.9+ KB\n"
     ]
    },
    {
     "data": {
      "text/html": [
       "<div>\n",
       "<style scoped>\n",
       "    .dataframe tbody tr th:only-of-type {\n",
       "        vertical-align: middle;\n",
       "    }\n",
       "\n",
       "    .dataframe tbody tr th {\n",
       "        vertical-align: top;\n",
       "    }\n",
       "\n",
       "    .dataframe thead th {\n",
       "        text-align: right;\n",
       "    }\n",
       "</style>\n",
       "<table border=\"1\" class=\"dataframe\">\n",
       "  <thead>\n",
       "    <tr style=\"text-align: right;\">\n",
       "      <th></th>\n",
       "      <th>transactionId</th>\n",
       "      <th>visitorId</th>\n",
       "      <th>date</th>\n",
       "      <th>revenue</th>\n",
       "      <th>group</th>\n",
       "    </tr>\n",
       "  </thead>\n",
       "  <tbody>\n",
       "    <tr>\n",
       "      <th>0</th>\n",
       "      <td>3667963787</td>\n",
       "      <td>3312258926</td>\n",
       "      <td>2019-08-15</td>\n",
       "      <td>1650</td>\n",
       "      <td>B</td>\n",
       "    </tr>\n",
       "    <tr>\n",
       "      <th>1</th>\n",
       "      <td>2804400009</td>\n",
       "      <td>3642806036</td>\n",
       "      <td>2019-08-15</td>\n",
       "      <td>730</td>\n",
       "      <td>B</td>\n",
       "    </tr>\n",
       "    <tr>\n",
       "      <th>2</th>\n",
       "      <td>2961555356</td>\n",
       "      <td>4069496402</td>\n",
       "      <td>2019-08-15</td>\n",
       "      <td>400</td>\n",
       "      <td>A</td>\n",
       "    </tr>\n",
       "    <tr>\n",
       "      <th>3</th>\n",
       "      <td>3797467345</td>\n",
       "      <td>1196621759</td>\n",
       "      <td>2019-08-15</td>\n",
       "      <td>9759</td>\n",
       "      <td>B</td>\n",
       "    </tr>\n",
       "    <tr>\n",
       "      <th>4</th>\n",
       "      <td>2282983706</td>\n",
       "      <td>2322279887</td>\n",
       "      <td>2019-08-15</td>\n",
       "      <td>2308</td>\n",
       "      <td>B</td>\n",
       "    </tr>\n",
       "  </tbody>\n",
       "</table>\n",
       "</div>"
      ],
      "text/plain": [
       "   transactionId   visitorId        date  revenue group\n",
       "0     3667963787  3312258926  2019-08-15     1650     B\n",
       "1     2804400009  3642806036  2019-08-15      730     B\n",
       "2     2961555356  4069496402  2019-08-15      400     A\n",
       "3     3797467345  1196621759  2019-08-15     9759     B\n",
       "4     2282983706  2322279887  2019-08-15     2308     B"
      ]
     },
     "execution_count": 14,
     "metadata": {},
     "output_type": "execute_result"
    }
   ],
   "source": [
    "orders = pd.read_csv('/datasets/orders.csv')\n",
    "orders.info()\n",
    "orders.head()"
   ]
  },
  {
   "cell_type": "code",
   "execution_count": 15,
   "metadata": {},
   "outputs": [
    {
     "name": "stdout",
     "output_type": "stream",
     "text": [
      "<class 'pandas.core.frame.DataFrame'>\n",
      "RangeIndex: 62 entries, 0 to 61\n",
      "Data columns (total 3 columns):\n",
      " #   Column    Non-Null Count  Dtype \n",
      "---  ------    --------------  ----- \n",
      " 0   date      62 non-null     object\n",
      " 1   group     62 non-null     object\n",
      " 2   visitors  62 non-null     int64 \n",
      "dtypes: int64(1), object(2)\n",
      "memory usage: 1.6+ KB\n"
     ]
    },
    {
     "data": {
      "text/html": [
       "<div>\n",
       "<style scoped>\n",
       "    .dataframe tbody tr th:only-of-type {\n",
       "        vertical-align: middle;\n",
       "    }\n",
       "\n",
       "    .dataframe tbody tr th {\n",
       "        vertical-align: top;\n",
       "    }\n",
       "\n",
       "    .dataframe thead th {\n",
       "        text-align: right;\n",
       "    }\n",
       "</style>\n",
       "<table border=\"1\" class=\"dataframe\">\n",
       "  <thead>\n",
       "    <tr style=\"text-align: right;\">\n",
       "      <th></th>\n",
       "      <th>date</th>\n",
       "      <th>group</th>\n",
       "      <th>visitors</th>\n",
       "    </tr>\n",
       "  </thead>\n",
       "  <tbody>\n",
       "    <tr>\n",
       "      <th>0</th>\n",
       "      <td>2019-08-01</td>\n",
       "      <td>A</td>\n",
       "      <td>719</td>\n",
       "    </tr>\n",
       "    <tr>\n",
       "      <th>1</th>\n",
       "      <td>2019-08-02</td>\n",
       "      <td>A</td>\n",
       "      <td>619</td>\n",
       "    </tr>\n",
       "    <tr>\n",
       "      <th>2</th>\n",
       "      <td>2019-08-03</td>\n",
       "      <td>A</td>\n",
       "      <td>507</td>\n",
       "    </tr>\n",
       "    <tr>\n",
       "      <th>3</th>\n",
       "      <td>2019-08-04</td>\n",
       "      <td>A</td>\n",
       "      <td>717</td>\n",
       "    </tr>\n",
       "    <tr>\n",
       "      <th>4</th>\n",
       "      <td>2019-08-05</td>\n",
       "      <td>A</td>\n",
       "      <td>756</td>\n",
       "    </tr>\n",
       "  </tbody>\n",
       "</table>\n",
       "</div>"
      ],
      "text/plain": [
       "         date group  visitors\n",
       "0  2019-08-01     A       719\n",
       "1  2019-08-02     A       619\n",
       "2  2019-08-03     A       507\n",
       "3  2019-08-04     A       717\n",
       "4  2019-08-05     A       756"
      ]
     },
     "execution_count": 15,
     "metadata": {},
     "output_type": "execute_result"
    }
   ],
   "source": [
    "visitors = pd.read_csv('/datasets/visitors.csv')\n",
    "visitors.info()\n",
    "visitors.head()"
   ]
  },
  {
   "cell_type": "code",
   "execution_count": 16,
   "metadata": {
    "scrolled": true
   },
   "outputs": [
    {
     "data": {
      "text/plain": [
       "Index(['transaction_id', 'visitor_id', 'date', 'revenue', 'group'], dtype='object')"
      ]
     },
     "execution_count": 16,
     "metadata": {},
     "output_type": "execute_result"
    }
   ],
   "source": [
    "orders = orders.rename(columns={'transactionId': 'transaction_id', 'visitorId': 'visitor_id'})\n",
    "orders.columns"
   ]
  },
  {
   "cell_type": "code",
   "execution_count": 17,
   "metadata": {},
   "outputs": [
    {
     "name": "stdout",
     "output_type": "stream",
     "text": [
      "<class 'pandas.core.frame.DataFrame'>\n",
      "RangeIndex: 1197 entries, 0 to 1196\n",
      "Data columns (total 5 columns):\n",
      " #   Column          Non-Null Count  Dtype         \n",
      "---  ------          --------------  -----         \n",
      " 0   transaction_id  1197 non-null   int64         \n",
      " 1   visitor_id      1197 non-null   int64         \n",
      " 2   date            1197 non-null   datetime64[ns]\n",
      " 3   revenue         1197 non-null   int64         \n",
      " 4   group           1197 non-null   object        \n",
      "dtypes: datetime64[ns](1), int64(3), object(1)\n",
      "memory usage: 46.9+ KB\n"
     ]
    },
    {
     "data": {
      "text/plain": [
       "'----------------------------------'"
      ]
     },
     "metadata": {},
     "output_type": "display_data"
    },
    {
     "name": "stdout",
     "output_type": "stream",
     "text": [
      "<class 'pandas.core.frame.DataFrame'>\n",
      "RangeIndex: 62 entries, 0 to 61\n",
      "Data columns (total 3 columns):\n",
      " #   Column    Non-Null Count  Dtype         \n",
      "---  ------    --------------  -----         \n",
      " 0   date      62 non-null     datetime64[ns]\n",
      " 1   group     62 non-null     object        \n",
      " 2   visitors  62 non-null     int64         \n",
      "dtypes: datetime64[ns](1), int64(1), object(1)\n",
      "memory usage: 1.6+ KB\n"
     ]
    }
   ],
   "source": [
    "orders['date'] = orders['date'].map(\n",
    "    lambda x: dt.datetime.strptime(x, '%Y-%m-%d')\n",
    ")\n",
    "\n",
    "visitors['date'] = visitors['date'].map(\n",
    "    lambda x: dt.datetime.strptime(x, '%Y-%m-%d')\n",
    ")\n",
    "\n",
    "orders.info()\n",
    "display('----------------------------------')\n",
    "visitors.info()"
   ]
  },
  {
   "cell_type": "markdown",
   "metadata": {},
   "source": [
    "<div class=\"alert alert-warning\" ; style=\"border-left: 7px solid orange\">\n",
    "<font size=\"4\"><b>Комментарий ревьюера 👀</b></font>\n",
    "    <br />\n",
    "    <font size=\"3\", color = \"black\">\n",
    "    <br /> При изменении типов данных на datetime советую использовать фиксированный форматом даты, то есть упорядочить год, месяц и день\n",
    "     <br />\n",
    "    </font>\n",
    "\n",
    "</div>"
   ]
  },
  {
   "cell_type": "markdown",
   "metadata": {},
   "source": [
    "<div class=\"alert alert-info\"; style=\"border-left: 7px solid pink\">\n",
    "<font size=\"4\"><b>Комментарий студента</b></font>\n",
    "    <br /> \n",
    "    <font size=\"3\", color = \"black\">\n",
    "<br />\n",
    "      <br />Вроде поправил. А я не мог понять, почему в теоретической части применяют другой метод - объяснения не было, только обращали внимание на это. Я правильно понимаю, что метод strptime позволяет сохранить формат даты, как она была отражена в строчном формате?<br/>\n",
    "    </font>\n",
    "\n",
    "</div>"
   ]
  },
  {
   "cell_type": "markdown",
   "metadata": {},
   "source": [
    "<div class=\"alert alert-success\"; style=\"border-left: 7px solid green\">\n",
    "<font size=\"4\"><b>Комментарий ревьюера 🚀 v2</b></font>\n",
    "    <br />\n",
    "    <font size=\"3\", color = \"black\">\n",
    "    <br /> Супер, спасибо! Метод strptime позволяет перевести строку в тип datetime с нужным нам форматом. Дело в том, что даты иногда могут быть записаны в американском стиле, где другая последовательность года, месяца и дня. Поэтому рекомендуется четко указывать формат, чтобы не допустить ошибок\n",
    "     <br />\n",
    "    </font>\n",
    "\n",
    "</div>"
   ]
  },
  {
   "cell_type": "markdown",
   "metadata": {},
   "source": [
    "Проверим наличие в данных таких пользователей, которые попали в обе группы:"
   ]
  },
  {
   "cell_type": "code",
   "execution_count": 18,
   "metadata": {},
   "outputs": [],
   "source": [
    "orders_A = orders.query('group == \"A\"')\n",
    "orders_B = orders.query('group == \"B\"')"
   ]
  },
  {
   "cell_type": "code",
   "execution_count": 19,
   "metadata": {},
   "outputs": [
    {
     "data": {
      "text/plain": [
       "58"
      ]
     },
     "execution_count": 19,
     "metadata": {},
     "output_type": "execute_result"
    }
   ],
   "source": [
    "visitors_A = list(orders_A['visitor_id'])\n",
    "visitors_B = list(orders_B['visitor_id'])\n",
    "doubling_visitors = []\n",
    "\n",
    "for visitor in visitors_A:\n",
    "    if visitor in visitors_B:\n",
    "        doubling_visitors.append(visitor)\n",
    "        \n",
    "doubling_visitors = pd.Series(doubling_visitors)\n",
    "doubling_visitors.nunique()"
   ]
  },
  {
   "cell_type": "code",
   "execution_count": 12,
   "metadata": {},
   "outputs": [
    {
     "data": {
      "text/plain": [
       "181"
      ]
     },
     "execution_count": 12,
     "metadata": {},
     "output_type": "execute_result"
    }
   ],
   "source": [
    "len(orders.query('visitor_id in @doubling_visitors'))"
   ]
  },
  {
   "cell_type": "markdown",
   "metadata": {},
   "source": [
    "**Примечание:** в данных есть 58 пользователей, которые попали в обе группы и совершили в сумме 181 транзакцию из 1197. Это достаточно большое количество транзакций на каждого пользователя, запомним данный факт и исключим данных пользователей, когда будем проводить проверку по \"очищенным\" данным, т.к. данные пользователи похожи на аномальных."
   ]
  },
  {
   "cell_type": "markdown",
   "metadata": {},
   "source": [
    "Создадим датафрейм dates_groups с уникальными парами значений 'date' и 'group', таблицы orders. Избавимся от дубликатов методом drop_duplicates()"
   ]
  },
  {
   "cell_type": "code",
   "execution_count": 13,
   "metadata": {},
   "outputs": [
    {
     "data": {
      "text/html": [
       "<div>\n",
       "<style scoped>\n",
       "    .dataframe tbody tr th:only-of-type {\n",
       "        vertical-align: middle;\n",
       "    }\n",
       "\n",
       "    .dataframe tbody tr th {\n",
       "        vertical-align: top;\n",
       "    }\n",
       "\n",
       "    .dataframe thead th {\n",
       "        text-align: right;\n",
       "    }\n",
       "</style>\n",
       "<table border=\"1\" class=\"dataframe\">\n",
       "  <thead>\n",
       "    <tr style=\"text-align: right;\">\n",
       "      <th></th>\n",
       "      <th>date</th>\n",
       "      <th>group</th>\n",
       "    </tr>\n",
       "  </thead>\n",
       "  <tbody>\n",
       "    <tr>\n",
       "      <th>0</th>\n",
       "      <td>2019-08-15</td>\n",
       "      <td>B</td>\n",
       "    </tr>\n",
       "    <tr>\n",
       "      <th>2</th>\n",
       "      <td>2019-08-15</td>\n",
       "      <td>A</td>\n",
       "    </tr>\n",
       "    <tr>\n",
       "      <th>45</th>\n",
       "      <td>2019-08-16</td>\n",
       "      <td>A</td>\n",
       "    </tr>\n",
       "    <tr>\n",
       "      <th>47</th>\n",
       "      <td>2019-08-16</td>\n",
       "      <td>B</td>\n",
       "    </tr>\n",
       "    <tr>\n",
       "      <th>55</th>\n",
       "      <td>2019-08-01</td>\n",
       "      <td>A</td>\n",
       "    </tr>\n",
       "  </tbody>\n",
       "</table>\n",
       "</div>"
      ],
      "text/plain": [
       "         date group\n",
       "0  2019-08-15     B\n",
       "2  2019-08-15     A\n",
       "45 2019-08-16     A\n",
       "47 2019-08-16     B\n",
       "55 2019-08-01     A"
      ]
     },
     "execution_count": 13,
     "metadata": {},
     "output_type": "execute_result"
    }
   ],
   "source": [
    "dates_groups = orders[['date','group']].drop_duplicates()\n",
    "dates_groups.head()"
   ]
  },
  {
   "cell_type": "markdown",
   "metadata": {},
   "source": [
    "<div class=\"alert alert-danger\"; style=\"border-left: 7px solid red\">\n",
    "<font size=\"4\"><b>Комментарий ревьюера 🦔 </b></font>\n",
    "    <br /> \n",
    "    <font size=\"3\", color = \"black\">\n",
    "<br />\n",
    "    На данном этапе также следует сделать проверку наличия таких пользователей, которые одновременно находятся в 2 группах. Что следует делать с такими пользователями? И что делать с тестом?\n",
    "    <br />\n",
    "    </font>\n",
    "\n",
    "</div>"
   ]
  },
  {
   "cell_type": "markdown",
   "metadata": {},
   "source": [
    "<div class=\"alert alert-info\"; style=\"border-left: 7px solid pink\">\n",
    "<font size=\"4\"><b>Комментарий студента</b></font>\n",
    "    <br /> \n",
    "    <font size=\"3\", color = \"black\">\n",
    "<br />\n",
    "      <br />Вычислил пользователей, которые попали в обе группы, не стал убирать из теста сразу, убрал пользователей только при проверке \"очищенных\" данных.<br/>\n",
    "    </font>\n",
    "\n",
    "</div>"
   ]
  },
  {
   "cell_type": "markdown",
   "metadata": {},
   "source": [
    "<div class=\"alert alert-success\"; style=\"border-left: 7px solid green\">\n",
    "<font size=\"4\"><b>Комментарий ревьюера 🚀 v2</b></font>\n",
    "    <br />\n",
    "    <font size=\"3\", color = \"black\">\n",
    "    <br /> На самом деле, тут возникает спорная ситуация по тому, что делать с такими пользователями. Со одной стороны можно удалить пользователей, так как их около 5% от всех уникальных пользователей и 15% от всех заказов, но тогда потеряем точность в конверсии. С другой стороны можно оставить пользователей, так как они не так сильно повлияют на интерпретируемость полученных результатов. Но, как мне кажется, лучше все-таки не трогать пользователей, так как мы на самом деле не знаем (по тем данным, которые у нас есть), сколько раз тот или иной пользователь зашел для того, чтобы совершить заказ, а есть только агрегированные данные. Как раз из-за агрегированных данных, не позволяющих полностью удалить информацию о таких аномальных клиентах, я бы не стал удалять.\n",
    "     <br /><br />\n",
    "        В реальной же жизни следует остановить тест и сообщить об ошибке в сборе данных\n",
    "    </font>\n",
    "\n",
    "</div>"
   ]
  },
  {
   "cell_type": "markdown",
   "metadata": {},
   "source": [
    "Подготовим данные кумулятивной выручки:"
   ]
  },
  {
   "cell_type": "code",
   "execution_count": 14,
   "metadata": {},
   "outputs": [],
   "source": [
    "orders_aggregated = dates_groups.apply(\n",
    "    lambda x: orders[np.logical_and(orders['date'] <= x['date'],\n",
    "                                    orders['group'] == x['group'])]\\\n",
    "    .agg(\n",
    "        {'date' : 'max', 'group' : 'max', 'transaction_id' : 'nunique', 'visitor_id' : 'nunique', 'revenue' : 'sum'}\n",
    "    ), axis=1).sort_values(by=['date','group'])"
   ]
  },
  {
   "cell_type": "code",
   "execution_count": 15,
   "metadata": {},
   "outputs": [],
   "source": [
    "visitors_aggregated = dates_groups.apply(\n",
    "    lambda x: visitors[np.logical_and(visitors['date'] <= x['date'],\n",
    "                                      visitors['group'] == x['group'])]\\\n",
    "    .agg({'date' : 'max', 'group' : 'max', 'visitors' : 'sum'}), axis=1).sort_values(by=['date','group'])"
   ]
  },
  {
   "cell_type": "code",
   "execution_count": 16,
   "metadata": {},
   "outputs": [
    {
     "data": {
      "text/html": [
       "<div>\n",
       "<style scoped>\n",
       "    .dataframe tbody tr th:only-of-type {\n",
       "        vertical-align: middle;\n",
       "    }\n",
       "\n",
       "    .dataframe tbody tr th {\n",
       "        vertical-align: top;\n",
       "    }\n",
       "\n",
       "    .dataframe thead th {\n",
       "        text-align: right;\n",
       "    }\n",
       "</style>\n",
       "<table border=\"1\" class=\"dataframe\">\n",
       "  <thead>\n",
       "    <tr style=\"text-align: right;\">\n",
       "      <th></th>\n",
       "      <th>date</th>\n",
       "      <th>group</th>\n",
       "      <th>transactions</th>\n",
       "      <th>buyers</th>\n",
       "      <th>revenue</th>\n",
       "      <th>visitors</th>\n",
       "    </tr>\n",
       "  </thead>\n",
       "  <tbody>\n",
       "    <tr>\n",
       "      <th>0</th>\n",
       "      <td>2019-08-01</td>\n",
       "      <td>A</td>\n",
       "      <td>24</td>\n",
       "      <td>20</td>\n",
       "      <td>148579</td>\n",
       "      <td>719</td>\n",
       "    </tr>\n",
       "    <tr>\n",
       "      <th>1</th>\n",
       "      <td>2019-08-01</td>\n",
       "      <td>B</td>\n",
       "      <td>21</td>\n",
       "      <td>20</td>\n",
       "      <td>101217</td>\n",
       "      <td>713</td>\n",
       "    </tr>\n",
       "    <tr>\n",
       "      <th>2</th>\n",
       "      <td>2019-08-02</td>\n",
       "      <td>A</td>\n",
       "      <td>44</td>\n",
       "      <td>38</td>\n",
       "      <td>242401</td>\n",
       "      <td>1338</td>\n",
       "    </tr>\n",
       "    <tr>\n",
       "      <th>3</th>\n",
       "      <td>2019-08-02</td>\n",
       "      <td>B</td>\n",
       "      <td>45</td>\n",
       "      <td>43</td>\n",
       "      <td>266748</td>\n",
       "      <td>1294</td>\n",
       "    </tr>\n",
       "    <tr>\n",
       "      <th>4</th>\n",
       "      <td>2019-08-03</td>\n",
       "      <td>A</td>\n",
       "      <td>68</td>\n",
       "      <td>62</td>\n",
       "      <td>354874</td>\n",
       "      <td>1845</td>\n",
       "    </tr>\n",
       "  </tbody>\n",
       "</table>\n",
       "</div>"
      ],
      "text/plain": [
       "        date group  transactions  buyers  revenue  visitors\n",
       "0 2019-08-01     A            24      20   148579       719\n",
       "1 2019-08-01     B            21      20   101217       713\n",
       "2 2019-08-02     A            44      38   242401      1338\n",
       "3 2019-08-02     B            45      43   266748      1294\n",
       "4 2019-08-03     A            68      62   354874      1845"
      ]
     },
     "execution_count": 16,
     "metadata": {},
     "output_type": "execute_result"
    }
   ],
   "source": [
    "cumulative_data = orders_aggregated.merge(\n",
    "    visitors_aggregated, left_on=['date', 'group'], right_on=['date', 'group'])\n",
    "\n",
    "cumulative_data.columns = ['date', 'group', 'transactions', 'buyers', 'revenue', 'visitors']\n",
    "cumulative_data.head()"
   ]
  },
  {
   "cell_type": "markdown",
   "metadata": {},
   "source": [
    "<div class=\"alert alert-success\"; style=\"border-left: 7px solid green\">\n",
    "<font size=\"4\"><b>Комментарий ревьюера 🚀</b></font>\n",
    "    <br />\n",
    "    <font size=\"3\", color = \"black\">\n",
    "    <br /> Супер! Получилась верная таблица с кумулятивными расчетами\n",
    "    </font>\n",
    "\n",
    "</div>"
   ]
  },
  {
   "cell_type": "markdown",
   "metadata": {},
   "source": [
    "### Построим график кумулятивной выручки по группам. Сделаем выводы и предположения."
   ]
  },
  {
   "cell_type": "markdown",
   "metadata": {},
   "source": [
    "Разделим куммулятивную выручку на группы:"
   ]
  },
  {
   "cell_type": "code",
   "execution_count": 17,
   "metadata": {},
   "outputs": [],
   "source": [
    "cumulative_revenue_A = cumulative_data[cumulative_data['group']=='A'][['date','revenue', 'transactions']]\n",
    "cumulative_revenue_B = cumulative_data[cumulative_data['group']=='B'][['date','revenue', 'transactions']]"
   ]
  },
  {
   "cell_type": "markdown",
   "metadata": {},
   "source": [
    "Построим график:"
   ]
  },
  {
   "cell_type": "code",
   "execution_count": 18,
   "metadata": {},
   "outputs": [
    {
     "data": {
      "image/png": "[encoded data removed]",
      "text/plain": [
       "<Figure size 1152x432 with 1 Axes>"
      ]
     },
     "metadata": {
      "needs_background": "light"
     },
     "output_type": "display_data"
    }
   ],
   "source": [
    "ax = plt.subplots(figsize=(16, 6))\n",
    "plt.plot(\n",
    "    cumulative_revenue_A['date'],\n",
    "    cumulative_revenue_A['revenue'],\n",
    "    label='Group A')\n",
    "plt.plot(\n",
    "    cumulative_revenue_B['date'],\n",
    "    cumulative_revenue_B['revenue'],\n",
    "    label='Group B')\n",
    "plt.legend()\n",
    "plt.grid(True)\n",
    "plt.title('График кумулятивной выручки по группам', fontsize='xx-large')\n",
    "plt.ylabel('Выручка, млн.');"
   ]
  },
  {
   "cell_type": "markdown",
   "metadata": {},
   "source": [
    "**Вывод:** в середине теста группа В вырвалась вперед и продолжила лидировать до конца теста. Возможно, имеются аномально большие заказы, которые влияют на результат. При заключительном анализе нужно проверить и удалить их."
   ]
  },
  {
   "cell_type": "markdown",
   "metadata": {},
   "source": [
    "<div class=\"alert alert-success\"; style=\"border-left: 7px solid green\">\n",
    "<font size=\"4\"><b>Комментарий ревьюера 🚀</b></font>\n",
    "    <br />\n",
    "    <font size=\"3\", color = \"black\">\n",
    "    <br /> Отличное построение графика выручки! Нравится описание полученных результатов, верно замечены выбросы\n",
    "     <br />\n",
    "    </font>\n",
    "\n",
    "</div>"
   ]
  },
  {
   "cell_type": "markdown",
   "metadata": {},
   "source": [
    "### Построим график кумулятивного среднего чека по группам. Сделаем выводы и предположения."
   ]
  },
  {
   "cell_type": "code",
   "execution_count": 19,
   "metadata": {},
   "outputs": [
    {
     "data": {
      "image/png": "[encoded data removed]",
      "text/plain": [
       "<Figure size 1152x432 with 1 Axes>"
      ]
     },
     "metadata": {
      "needs_background": "light"
     },
     "output_type": "display_data"
    }
   ],
   "source": [
    "ax = plt.subplots(figsize=(16, 6))\n",
    "plt.plot(\n",
    "    cumulative_revenue_A['date'],\n",
    "    cumulative_revenue_A['revenue']/cumulative_revenue_A['transactions'],\n",
    "    label='Group A')\n",
    "plt.plot(\n",
    "    cumulative_revenue_B['date'],\n",
    "    cumulative_revenue_B['revenue']/cumulative_revenue_B['transactions'],\n",
    "    label='Group B')\n",
    "plt.legend()\n",
    "plt.grid(True)\n",
    "plt.title('График кумулятивного среднего чека по группам', fontsize='xx-large')\n",
    "plt.ylabel('Выручка');"
   ]
  },
  {
   "cell_type": "markdown",
   "metadata": {},
   "source": [
    "**Вывод:** средний чек становится равномерным ближе к концу теста - установился для группы A и продолжает падать для группы B. Возможно, в группу B в середине теста попали крупные заказы (резкий всплеск на графике). Тогда ей нужно больше данных, чтобы прийти к реальному среднему чеку и установиться на его уровне."
   ]
  },
  {
   "cell_type": "markdown",
   "metadata": {},
   "source": [
    "<div class=\"alert alert-success\"; style=\"border-left: 7px solid green\">\n",
    "<font size=\"4\"><b>Комментарий ревьюера 🚀</b></font>\n",
    "    <br />\n",
    "    <font size=\"3\", color = \"black\">\n",
    "    <br /> Молодец, верный вывод!\n",
    "     <br />\n",
    "    </font>\n",
    "\n",
    "</div>"
   ]
  },
  {
   "cell_type": "markdown",
   "metadata": {},
   "source": [
    "### Построим график относительного изменения кумулятивного среднего чека группы B к группе A. Сделаем выводы и предположения."
   ]
  },
  {
   "cell_type": "code",
   "execution_count": 20,
   "metadata": {},
   "outputs": [
    {
     "data": {
      "image/png": "[encoded data removed]",
      "text/plain": [
       "<Figure size 1152x432 with 1 Axes>"
      ]
     },
     "metadata": {
      "needs_background": "light"
     },
     "output_type": "display_data"
    }
   ],
   "source": [
    "cumulative_revenue = cumulative_revenue_A.merge(\n",
    "    cumulative_revenue_B, left_on='date', right_on='date', how='left', suffixes=['A', 'B']\n",
    ")\n",
    "\n",
    "ax = plt.subplots(figsize=(16, 6))\n",
    "plt.plot(cumulative_revenue['date'],\n",
    "         (cumulative_revenue['revenueB']/cumulative_revenue['transactionsB'])\\\n",
    "         /(cumulative_revenue['revenueA']/cumulative_revenue['transactionsA'])-1)\n",
    "plt.title('График относительного изменения кумулятивного среднего чека группы B к группе A', fontsize='xx-large')\n",
    "plt.axhline(y=0, color='black', linestyle='--');"
   ]
  },
  {
   "cell_type": "markdown",
   "metadata": {},
   "source": [
    "**Вывод:** результаты теста значительно менялись в несколько дат, скорее всего в эти даты совершались аномальные покупки."
   ]
  },
  {
   "cell_type": "markdown",
   "metadata": {},
   "source": [
    "<div class=\"alert alert-success\"; style=\"border-left: 7px solid green\">\n",
    "<font size=\"4\"><b>Комментарий ревьюера 🚀</b></font>\n",
    "    <br />\n",
    "    <font size=\"3\", color = \"black\">\n",
    "    <br /> Отличное построение графика! Нравится выделение линии на уровне 0 по относительной разнице!\n",
    "     <br />\n",
    "    </font>\n",
    "\n",
    "</div>"
   ]
  },
  {
   "cell_type": "markdown",
   "metadata": {},
   "source": [
    "### Построим график кумулятивной конверсии по группам. Сделаем выводы и предположения."
   ]
  },
  {
   "cell_type": "markdown",
   "metadata": {},
   "source": [
    "Добавим в таблицу cumulative_data столбец с конверсией и разделим данные по группам:"
   ]
  },
  {
   "cell_type": "code",
   "execution_count": 21,
   "metadata": {},
   "outputs": [],
   "source": [
    "cumulative_data['conversion'] = cumulative_data['transactions']/cumulative_data['visitors']\n",
    "\n",
    "cumulative_data_A = cumulative_data[cumulative_data['group']=='A']\n",
    "cumulative_data_B = cumulative_data[cumulative_data['group']=='B']"
   ]
  },
  {
   "cell_type": "code",
   "execution_count": 22,
   "metadata": {},
   "outputs": [
    {
     "data": {
      "image/png": "[encoded data removed]",
      "text/plain": [
       "<Figure size 1152x432 with 1 Axes>"
      ]
     },
     "metadata": {
      "needs_background": "light"
     },
     "output_type": "display_data"
    }
   ],
   "source": [
    "ax = plt.subplots(figsize=(16, 6))\n",
    "plt.plot(\n",
    "    cumulative_data_A['date'],\n",
    "    cumulative_data_A['conversion'],\n",
    "    label='Group A')\n",
    "plt.plot(\n",
    "    cumulative_data_B['date'],\n",
    "    cumulative_data_B['conversion'],\n",
    "    label='Group B')\n",
    "plt.legend()\n",
    "plt.grid(True)\n",
    "plt.title('График кумулятивной конверсии по группам', fontsize='xx-large')\n",
    "plt.axis([dt.datetime(2019, 7, 31), dt.datetime(2019, 9, 1), 0, 0.05]);"
   ]
  },
  {
   "cell_type": "markdown",
   "metadata": {},
   "source": [
    "**Вывод:** в начале теста конверсия группы А была больше, но после нескольких дней конверсия группы В вырвалась вперед и стабильно была выше до конца теста."
   ]
  },
  {
   "cell_type": "markdown",
   "metadata": {},
   "source": [
    "<div class=\"alert alert-success\"; style=\"border-left: 7px solid green\">\n",
    "<font size=\"4\"><b>Комментарий ревьюера 🚀</b></font>\n",
    "    <br />\n",
    "    <font size=\"3\", color = \"black\">\n",
    "    <br />Молодец, верный подсчет конверсии!\n",
    "     <br /><br /> Также отличное построение графика! Верно замечен тренд\n",
    "    </font>\n",
    "\n",
    "</div>"
   ]
  },
  {
   "cell_type": "markdown",
   "metadata": {},
   "source": [
    "### Построим график относительного изменения кумулятивной конверсии группы B к группе A. Сделаем выводы и предположения."
   ]
  },
  {
   "cell_type": "code",
   "execution_count": 23,
   "metadata": {},
   "outputs": [],
   "source": [
    "сumulative_сonversions = cumulative_data_A[['date','conversion']].merge(\n",
    "    cumulative_data_B[['date','conversion']],\n",
    "    left_on='date',\n",
    "    right_on='date',\n",
    "    how='left', suffixes=['A', 'B'])"
   ]
  },
  {
   "cell_type": "code",
   "execution_count": 24,
   "metadata": {},
   "outputs": [
    {
     "data": {
      "image/png": "[encoded data removed]",
      "text/plain": [
       "<Figure size 1152x432 with 1 Axes>"
      ]
     },
     "metadata": {
      "needs_background": "light"
     },
     "output_type": "display_data"
    }
   ],
   "source": [
    "ax = plt.subplots(figsize=(16, 6))\n",
    "plt.plot(сumulative_сonversions['date'],\n",
    "         сumulative_сonversions['conversionB']/сumulative_сonversions['conversionA']-1)\n",
    "plt.title('Относительный прирост конверсии группы B относительно группы A', fontsize='xx-large')\n",
    "plt.axhline(y=0, color='black', linestyle='--')\n",
    "plt.axhline(y=0.2, color='grey', linestyle='--')\n",
    "plt.axis([dt.datetime(2019, 7, 31), dt.datetime(2019, 9, 1), -0.3, 0.3]);"
   ]
  },
  {
   "cell_type": "markdown",
   "metadata": {},
   "source": [
    "**Вывод:** почти с самого начала теста конверсия группы В стала больше и до конца теста сохранила лидерство, достигая прироста в 20% относительно группы А."
   ]
  },
  {
   "cell_type": "markdown",
   "metadata": {},
   "source": [
    "<div class=\"alert alert-success\"; style=\"border-left: 7px solid green\">\n",
    "<font size=\"4\"><b>Комментарий ревьюера 🚀</b></font>\n",
    "    <br />\n",
    "    <font size=\"3\", color = \"black\">\n",
    "    <br /> Да,все верно! Кроме этого, видим, что после 8-го дня конверсия уже стабилизровалась\n",
    "     <br />\n",
    "    </font>\n",
    "\n",
    "</div>"
   ]
  },
  {
   "cell_type": "markdown",
   "metadata": {},
   "source": [
    "### Построим точечный график количества заказов по пользователям. Сделаем выводы и предположения."
   ]
  },
  {
   "cell_type": "markdown",
   "metadata": {},
   "source": [
    "Найдем число заказов по пользователям:"
   ]
  },
  {
   "cell_type": "code",
   "execution_count": 25,
   "metadata": {},
   "outputs": [
    {
     "data": {
      "text/html": [
       "<div>\n",
       "<style scoped>\n",
       "    .dataframe tbody tr th:only-of-type {\n",
       "        vertical-align: middle;\n",
       "    }\n",
       "\n",
       "    .dataframe tbody tr th {\n",
       "        vertical-align: top;\n",
       "    }\n",
       "\n",
       "    .dataframe thead th {\n",
       "        text-align: right;\n",
       "    }\n",
       "</style>\n",
       "<table border=\"1\" class=\"dataframe\">\n",
       "  <thead>\n",
       "    <tr style=\"text-align: right;\">\n",
       "      <th></th>\n",
       "      <th>visitor_id</th>\n",
       "      <th>transaction_count</th>\n",
       "    </tr>\n",
       "  </thead>\n",
       "  <tbody>\n",
       "    <tr>\n",
       "      <th>0</th>\n",
       "      <td>5114589</td>\n",
       "      <td>1</td>\n",
       "    </tr>\n",
       "    <tr>\n",
       "      <th>1</th>\n",
       "      <td>6958315</td>\n",
       "      <td>1</td>\n",
       "    </tr>\n",
       "    <tr>\n",
       "      <th>2</th>\n",
       "      <td>8300375</td>\n",
       "      <td>2</td>\n",
       "    </tr>\n",
       "    <tr>\n",
       "      <th>3</th>\n",
       "      <td>11685486</td>\n",
       "      <td>1</td>\n",
       "    </tr>\n",
       "    <tr>\n",
       "      <th>4</th>\n",
       "      <td>39475350</td>\n",
       "      <td>1</td>\n",
       "    </tr>\n",
       "  </tbody>\n",
       "</table>\n",
       "</div>"
      ],
      "text/plain": [
       "   visitor_id  transaction_count\n",
       "0     5114589                  1\n",
       "1     6958315                  1\n",
       "2     8300375                  2\n",
       "3    11685486                  1\n",
       "4    39475350                  1"
      ]
     },
     "execution_count": 25,
     "metadata": {},
     "output_type": "execute_result"
    }
   ],
   "source": [
    "orders_users = (\n",
    "    orders.groupby('visitor_id', as_index=False)\n",
    "    .agg({'transaction_id': 'nunique'}))\n",
    "\n",
    "orders_users.columns = ['visitor_id', 'transaction_count']\n",
    "\n",
    "orders_users.head()"
   ]
  },
  {
   "cell_type": "code",
   "execution_count": 26,
   "metadata": {},
   "outputs": [
    {
     "data": {
      "image/png": "[encoded data removed]",
      "text/plain": [
       "<Figure size 1152x432 with 1 Axes>"
      ]
     },
     "metadata": {
      "needs_background": "light"
     },
     "output_type": "display_data"
    }
   ],
   "source": [
    "x_values = pd.Series(range(0, len(orders_users)))\n",
    "plt.subplots(figsize=(16, 6))\n",
    "plt.title('Количество заказов по пользователям', fontsize='xx-large')\n",
    "plt.scatter(x_values, orders_users['transaction_count'])\n",
    "plt.ylabel('Количество заказов');"
   ]
  },
  {
   "cell_type": "markdown",
   "metadata": {},
   "source": [
    "**Вывод:** пользователей, совершивших более 2-х транзакций мало, для определения тенденции делать 2 заказа, посчитаем перцентили."
   ]
  },
  {
   "cell_type": "markdown",
   "metadata": {},
   "source": [
    "<div class=\"alert alert-success\"; style=\"border-left: 7px solid green\">\n",
    "<font size=\"4\"><b>Комментарий ревьюера 🚀</b></font>\n",
    "    <br />\n",
    "    <font size=\"3\", color = \"black\">\n",
    "    <br /> Абсолютно верное построение точечного графика. Действительно, по графику видим, что аномальные значения начинаются от 3-4 заказов\n",
    "     <br />\n",
    "    </font>\n",
    "\n",
    "</div>"
   ]
  },
  {
   "cell_type": "markdown",
   "metadata": {},
   "source": [
    "### Посчитаем 95-й и 99-й перцентили количества заказов на пользователя. Выберим границу для определения аномальных пользователей."
   ]
  },
  {
   "cell_type": "code",
   "execution_count": 27,
   "metadata": {},
   "outputs": [
    {
     "data": {
      "text/plain": [
       "array([2., 4.])"
      ]
     },
     "execution_count": 27,
     "metadata": {},
     "output_type": "execute_result"
    }
   ],
   "source": [
    "np.percentile(orders_users['transaction_count'], [95, 99])"
   ]
  },
  {
   "cell_type": "markdown",
   "metadata": {},
   "source": [
    "**Вывод:** не более 5% пользователей совершали более 2 транзакций и не более 1% пользователей - больше 4 транзакций, похоже, что более 2 транзакций на пользователя это анамально."
   ]
  },
  {
   "cell_type": "markdown",
   "metadata": {},
   "source": [
    "<div class=\"alert alert-success\"; style=\"border-left: 7px solid green\">\n",
    "<font size=\"4\"><b>Комментарий ревьюера 🚀</b></font>\n",
    "    <br />\n",
    "    <font size=\"3\", color = \"black\">\n",
    "    <br /> Супер! Верно найдены перцентили\n",
    "     <br />\n",
    "    </font>\n",
    "\n",
    "</div>"
   ]
  },
  {
   "cell_type": "markdown",
   "metadata": {},
   "source": [
    "### Построим точечный график стоимостей заказов. Сделаем выводы и предположения."
   ]
  },
  {
   "cell_type": "code",
   "execution_count": 28,
   "metadata": {},
   "outputs": [
    {
     "data": {
      "image/png": "[encoded data removed]",
      "text/plain": [
       "<Figure size 1152x432 with 1 Axes>"
      ]
     },
     "metadata": {
      "needs_background": "light"
     },
     "output_type": "display_data"
    }
   ],
   "source": [
    "x_values = pd.Series(range(0, len(orders['revenue'])))\n",
    "plt.subplots(figsize=(16, 6))\n",
    "plt.title('Стоимость заказов', fontsize='xx-large')\n",
    "plt.scatter(x_values, orders['revenue'])\n",
    "plt.ylabel('Стоимость, млн');"
   ]
  },
  {
   "cell_type": "markdown",
   "metadata": {},
   "source": [
    "**Примечание:** мы видим явный выброс - единственный аномально большой заказ на более 1 млн и второй в районе 200 тысяч, посмотрим на график без этих заказов."
   ]
  },
  {
   "cell_type": "markdown",
   "metadata": {},
   "source": [
    "<div class=\"alert alert-success\"; style=\"border-left: 7px solid green\">\n",
    "<font size=\"4\"><b>Комментарий ревьюера 🚀</b></font>\n",
    "    <br />\n",
    "    <font size=\"3\", color = \"black\">\n",
    "    <br /> Действительно, по такому графику сразу можно заметить 2 выброса\n",
    "     <br />\n",
    "    </font>\n",
    "\n",
    "</div>"
   ]
  },
  {
   "cell_type": "code",
   "execution_count": 29,
   "metadata": {},
   "outputs": [],
   "source": [
    "orders_without_max_rev = orders.query('revenue < 200000')"
   ]
  },
  {
   "cell_type": "code",
   "execution_count": 30,
   "metadata": {},
   "outputs": [
    {
     "data": {
      "image/png": "[encoded data removed]",
      "text/plain": [
       "<Figure size 1152x432 with 1 Axes>"
      ]
     },
     "metadata": {
      "needs_background": "light"
     },
     "output_type": "display_data"
    }
   ],
   "source": [
    "x_values = pd.Series(range(0, len(orders_without_max_rev['revenue'])))\n",
    "plt.subplots(figsize=(16, 6))\n",
    "plt.title('Стоимость заказов', fontsize='xx-large')\n",
    "plt.scatter(x_values, orders_without_max_rev['revenue'])\n",
    "plt.ylabel('Стоимость');"
   ]
  },
  {
   "cell_type": "markdown",
   "metadata": {},
   "source": [
    "**Вывод:** основная масса заказов укладываются в стоимость до 20 тысяч, также в данных имеется 2 явных выброса в районе 200 тысяч и в районе 1 млн, посмотрим на перцентили."
   ]
  },
  {
   "cell_type": "markdown",
   "metadata": {},
   "source": [
    "<div class=\"alert alert-success\"; style=\"border-left: 7px solid green\">\n",
    "<font size=\"4\"><b>Комментарий ревьюера 🚀</b></font>\n",
    "    <br />\n",
    "    <font size=\"3\", color = \"black\">\n",
    "    <br /> Отлично, что детализируешь график для более углубленного изучения распределения!\n",
    "     <br />\n",
    "    </font>\n",
    "\n",
    "</div>"
   ]
  },
  {
   "cell_type": "markdown",
   "metadata": {},
   "source": [
    "### Посчитаем 95-й и 99-й перцентили стоимости заказов. Выберим границу для определения аномальных заказов."
   ]
  },
  {
   "cell_type": "code",
   "execution_count": 31,
   "metadata": {},
   "outputs": [
    {
     "data": {
      "text/plain": [
       "array([28000. , 58233.2])"
      ]
     },
     "execution_count": 31,
     "metadata": {},
     "output_type": "execute_result"
    }
   ],
   "source": [
    "np.percentile(orders['revenue'], [95, 99])"
   ]
  },
  {
   "cell_type": "markdown",
   "metadata": {},
   "source": [
    "**Вывод:** не более чем 5% транзакций превышают стоимсть в 28000 и не более, чем 1% транзакций превышают стоимость 58233."
   ]
  },
  {
   "cell_type": "markdown",
   "metadata": {},
   "source": [
    "<div class=\"alert alert-success\"; style=\"border-left: 7px solid green\">\n",
    "<font size=\"4\"><b>Комментарий ревьюера 🚀</b></font>\n",
    "    <br />\n",
    "    <font size=\"3\", color = \"black\">\n",
    "    <br /> Супер, абсолютно верно найдены границы аномальных значений\n",
    "     <br />\n",
    "    </font>\n",
    "\n",
    "</div>"
   ]
  },
  {
   "cell_type": "markdown",
   "metadata": {},
   "source": [
    "### Посчитаем статистическую значимость различий в конверсии между группами по «сырым» данным. Сделаем выводы и предположения."
   ]
  },
  {
   "cell_type": "markdown",
   "metadata": {},
   "source": [
    "Нулевая и альтернативная гипотезы:\n",
    "- нулевая гипотеза - конверсии между группами равна;\n",
    "- альтернативная гипотеза - конверсия между группами различается."
   ]
  },
  {
   "cell_type": "markdown",
   "metadata": {},
   "source": [
    "<div class=\"alert alert-danger\"; style=\"border-left: 7px solid red\">\n",
    "<font size=\"4\"><b>Комментарий ревьюера 🦔 </b></font>\n",
    "    <br />\n",
    "    <font size=\"3\", color = \"black\">\n",
    "    <br /> Следует сформулировать гипотезы: нулевую и альтернативную. Надо добавить везде\n",
    "    </font>\n",
    "\n",
    "</div>"
   ]
  },
  {
   "cell_type": "markdown",
   "metadata": {},
   "source": [
    "<div class=\"alert alert-info\"; style=\"border-left: 7px solid pink\">\n",
    "<font size=\"4\"><b>Комментарий студента</b></font>\n",
    "    <br /> \n",
    "    <font size=\"3\", color = \"black\">\n",
    "<br />\n",
    "      <br />Добавил)<br/>\n",
    "    </font>\n",
    "\n",
    "</div>"
   ]
  },
  {
   "cell_type": "markdown",
   "metadata": {},
   "source": [
    "<div class=\"alert alert-success\"; style=\"border-left: 7px solid green\">\n",
    "<font size=\"4\"><b>Комментарий ревьюера 🚀 v2</b></font>\n",
    "    <br />\n",
    "    <font size=\"3\", color = \"black\">\n",
    "    <br /> Принимается! \n",
    "     <br />\n",
    "    </font>\n",
    "\n",
    "</div>"
   ]
  },
  {
   "cell_type": "markdown",
   "metadata": {},
   "source": [
    "Посчитаем число заказов на каждого пользователя по группам, где пользователи делали хотя бы 1 заказ:"
   ]
  },
  {
   "cell_type": "code",
   "execution_count": 32,
   "metadata": {},
   "outputs": [],
   "source": [
    "orders_by_users_A = (\n",
    "    orders[orders['group'] == 'A']\n",
    "    .groupby('visitor_id', as_index=False)\n",
    "    .agg({'transaction_id': pd.Series.nunique})\n",
    ")\n",
    "orders_by_users_A.columns = ['visitor_id', 'transactions']\n",
    "\n",
    "orders_by_users_B = (\n",
    "    orders[orders['group'] == 'B']\n",
    "    .groupby('visitor_id', as_index=False)\n",
    "    .agg({'transaction_id': pd.Series.nunique})\n",
    ")\n",
    "orders_by_users_B.columns = ['visitor_id', 'transactions'] "
   ]
  },
  {
   "cell_type": "markdown",
   "metadata": {},
   "source": [
    "Разделим по группам значения в файле visitors с количеством посетителей ежедневно:"
   ]
  },
  {
   "cell_type": "code",
   "execution_count": 33,
   "metadata": {},
   "outputs": [],
   "source": [
    "visitors_per_date_A = visitors[visitors['group'] == 'A'][['date', 'visitors']]\n",
    "visitors_per_date_B = visitors[visitors['group'] == 'B'][['date', 'visitors']]"
   ]
  },
  {
   "cell_type": "markdown",
   "metadata": {},
   "source": [
    "Соотнесем количество заказов по пользователям, включая пользователей, которые не совершали заказы (присвоим им 0):"
   ]
  },
  {
   "cell_type": "code",
   "execution_count": 34,
   "metadata": {},
   "outputs": [],
   "source": [
    "total_orders_users_A = pd.concat(\n",
    "    [orders_by_users_A['transactions'],pd.Series(\n",
    "        0, index=np.arange(visitors_per_date_A['visitors'].sum() - len(orders_by_users_A['transactions'])\n",
    "                          ), name='transactions')],axis=0)\n",
    "\n",
    "total_orders_users_B = pd.concat(\n",
    "    [orders_by_users_B['transactions'],pd.Series(\n",
    "        0, index=np.arange(visitors_per_date_B['visitors'].sum() - len(orders_by_users_B['transactions'])\n",
    "                          ), name='transactions')],axis=0)"
   ]
  },
  {
   "cell_type": "code",
   "execution_count": 35,
   "metadata": {},
   "outputs": [
    {
     "data": {
      "text/plain": [
       "'p-value для сравнения конверсии между группами равно: 0.01679'"
      ]
     },
     "metadata": {},
     "output_type": "display_data"
    },
    {
     "data": {
      "text/plain": [
       "'Относительное различие в конверсии между группами равно: 0.138'"
      ]
     },
     "metadata": {},
     "output_type": "display_data"
    },
    {
     "data": {
      "text/plain": [
       "'Отвергаем нулевую гипотезу'"
      ]
     },
     "metadata": {},
     "output_type": "display_data"
    }
   ],
   "source": [
    "alpha = .05\n",
    "\n",
    "results = stats.mannwhitneyu(total_orders_users_A, total_orders_users_B)[1]\n",
    "\n",
    "display(\"p-value для сравнения конверсии между группами равно: {0:.5f}\".format(results))\n",
    "display(\"Относительное различие в конверсии между группами равно: {0:.3f}\"\\\n",
    "        .format(total_orders_users_B.mean() / total_orders_users_A.mean() - 1))\n",
    "\n",
    "if results < alpha:\n",
    "    display(\"Отвергаем нулевую гипотезу\")\n",
    "else:\n",
    "    display(\"Не получилось отвергнуть нулевую гипотезу\")"
   ]
  },
  {
   "cell_type": "markdown",
   "metadata": {},
   "source": [
    "**Выводы:**\n",
    "\n",
    "* p-value меньше 0.05, поэтому отвергаем нулевую гипотезу, это значит, что между группами есть статистически значимые различия;\n",
    "* относительный прирост конверсии группы В к группе А составляет 13.8%."
   ]
  },
  {
   "cell_type": "markdown",
   "metadata": {},
   "source": [
    "<div class=\"alert alert-success\"; style=\"border-left: 7px solid green\">\n",
    "<font size=\"4\"><b>Комментарий ревьюера 🚀</b></font>\n",
    "    <br />\n",
    "    <font size=\"3\", color = \"black\">\n",
    "    <br /> Супер! Получены верные результаты по проверке гипотез\n",
    "     <br />\n",
    "    </font>\n",
    "\n",
    "</div>"
   ]
  },
  {
   "cell_type": "markdown",
   "metadata": {},
   "source": [
    "<div class=\"alert alert-warning\" ; style=\"border-left: 7px solid orange\">\n",
    "<font size=\"4\"><b>Комментарий ревьюера 👀</b></font>\n",
    "    <br />\n",
    "    <font size=\"3\", color = \"black\">\n",
    "    <br /> Сравнение p-value с alpha следует делать в самом коде. Советую использовать условный оператор, чтобы код сразу говорил нам, отвергаем или не можем отвергнуть нулевую гипотезу. Надо бы добавить во всех проверках\n",
    "    <br />\n",
    "    </font>\n",
    "\n",
    "</div>"
   ]
  },
  {
   "cell_type": "markdown",
   "metadata": {},
   "source": [
    "<div class=\"alert alert-danger\"; style=\"border-left: 7px solid red\">\n",
    "<font size=\"4\"><b>Комментарий ревьюера 🦔 </b></font>\n",
    "    <br /> \n",
    "    <font size=\"3\", color = \"black\">\n",
    "    <br />\n",
    "    При подсчете относительного прироста следует поменять местами выборки. А то считается прирост группы А относительно группы В, а нам нужно наоброт\n",
    "    <br />\n",
    "    </font>\n",
    "\n",
    "</div>"
   ]
  },
  {
   "cell_type": "markdown",
   "metadata": {},
   "source": [
    "<div class=\"alert alert-info\"; style=\"border-left: 7px solid pink\">\n",
    "<font size=\"4\"><b>Комментарий студента</b></font>\n",
    "    <br /> \n",
    "    <font size=\"3\", color = \"black\">\n",
    "<br />\n",
    "      <br />Поправил. Надеюсь, что правильно.<br/>\n",
    "    </font>\n",
    "\n",
    "</div>"
   ]
  },
  {
   "cell_type": "markdown",
   "metadata": {},
   "source": [
    "<div class=\"alert alert-success\"; style=\"border-left: 7px solid green\">\n",
    "<font size=\"4\"><b>Комментарий ревьюера 🚀 v2</b></font>\n",
    "    <br />\n",
    "    <font size=\"3\", color = \"black\">\n",
    "    <br /> Отлично\n",
    "     <br />\n",
    "    </font>\n",
    "\n",
    "</div>"
   ]
  },
  {
   "cell_type": "markdown",
   "metadata": {},
   "source": [
    "### Посчитаем статистическую значимость различий в среднем чеке заказа между группами по «сырым» данным. Сделаем выводы и предположения."
   ]
  },
  {
   "cell_type": "markdown",
   "metadata": {},
   "source": [
    "Нулевая и альтернативная гипотезы:\n",
    "- нулевая гипотеза - средний чек заказа между группами одинаковый;\n",
    "- альтернативная гипотеза - средний чек заказа между группами различается."
   ]
  },
  {
   "cell_type": "code",
   "execution_count": 36,
   "metadata": {},
   "outputs": [
    {
     "data": {
      "text/plain": [
       "'p-value для сравнения среднего чека между группами равно: 0.729'"
      ]
     },
     "metadata": {},
     "output_type": "display_data"
    },
    {
     "data": {
      "text/plain": [
       "'Относительное различие среднего чека между группами равно: 0.259'"
      ]
     },
     "metadata": {},
     "output_type": "display_data"
    },
    {
     "data": {
      "text/plain": [
       "'Не получилось отвергнуть нулевую гипотезу'"
      ]
     },
     "metadata": {},
     "output_type": "display_data"
    }
   ],
   "source": [
    "alpha = .05\n",
    "\n",
    "results = stats.mannwhitneyu(\n",
    "    orders[orders['group']=='A']['revenue'], orders[orders['group']=='B']['revenue'])[1]\n",
    "\n",
    "display('p-value для сравнения среднего чека между группами равно: {0:.3f}'.format(results))\n",
    "\n",
    "display('Относительное различие среднего чека между группами равно: {0:.3f}'.format(\n",
    "    orders[orders['group']=='B']['revenue'].mean()/orders[orders['group']=='A']['revenue'].mean()-1\n",
    "))\n",
    "\n",
    "if results < alpha:\n",
    "    display(\"Отвергаем нулевую гипотезу\")\n",
    "else:\n",
    "    display(\"Не получилось отвергнуть нулевую гипотезу\")"
   ]
  },
  {
   "cell_type": "markdown",
   "metadata": {},
   "source": [
    "**Выводы:**\n",
    "\n",
    "* p-value больше 0.05 - статистически значимых различий между средними чеками в группах нет;\n",
    "* относительные различия среднего чека между группами составляют почти 26% (средний чек больше в группе В);\n",
    "* статистически значимых различий между средними чеками в группах нет, но при этом в группе В средний чек больше на 26% это может быть связано с выбросами - имеется несколько больших заказов, которые влияют на результат (мы видели выбросы на графике в п. 2.9)."
   ]
  },
  {
   "cell_type": "markdown",
   "metadata": {},
   "source": [
    "<div class=\"alert alert-success\"; style=\"border-left: 7px solid green\">\n",
    "<font size=\"4\"><b>Комментарий ревьюера 🚀</b></font>\n",
    "    <br />\n",
    "    <font size=\"3\", color = \"black\">\n",
    "    <br /> Правильная реализация стат теста! Верный вывод\n",
    "     <br />\n",
    "    </font>\n",
    "\n",
    "</div>"
   ]
  },
  {
   "cell_type": "markdown",
   "metadata": {},
   "source": [
    "<div class=\"alert alert-warning\" ; style=\"border-left: 7px solid orange\">\n",
    "<font size=\"4\"><b>Комментарий ревьюера 👀</b></font>\n",
    "    <br />\n",
    "    <font size=\"3\", color = \"black\">\n",
    "    <br /> Мы не смогли отвергнуть нулевую гипотез, то есть срдение должны быть приблизительно равны. Но тут мы видим прирост в пользу группы В в 26%. Стоит объяснить этот момент\n",
    "    <br />\n",
    "    </font>\n",
    "\n",
    "</div>"
   ]
  },
  {
   "cell_type": "markdown",
   "metadata": {},
   "source": [
    "<div class=\"alert alert-info\"; style=\"border-left: 7px solid pink\">\n",
    "<font size=\"4\"><b>Комментарий студента</b></font>\n",
    "    <br /> \n",
    "    <font size=\"3\", color = \"black\">\n",
    "<br />\n",
    "      <br />Поправил. Надеюсь, что правильно.<br/>\n",
    "    </font>\n",
    "\n",
    "</div>"
   ]
  },
  {
   "cell_type": "markdown",
   "metadata": {},
   "source": [
    "<div class=\"alert alert-success\"; style=\"border-left: 7px solid green\">\n",
    "<font size=\"4\"><b>Комментарий ревьюера 🚀 v2</b></font>\n",
    "    <br />\n",
    "    <font size=\"3\", color = \"black\">\n",
    "    <br /> Принимается!\n",
    "     <br />\n",
    "    </font>\n",
    "\n",
    "</div>"
   ]
  },
  {
   "cell_type": "markdown",
   "metadata": {},
   "source": [
    "### Посчитаем статистическую значимость различий в конверсии между группами по «очищенным» данным. Сделаем выводы и предположения."
   ]
  },
  {
   "cell_type": "markdown",
   "metadata": {},
   "source": [
    "Уберем аномальных пользователей с большим количеством заказов, которых мы определили в п.2.1 на этапе предобработке:"
   ]
  },
  {
   "cell_type": "code",
   "execution_count": 37,
   "metadata": {},
   "outputs": [
    {
     "data": {
      "text/plain": [
       "1016"
      ]
     },
     "execution_count": 37,
     "metadata": {},
     "output_type": "execute_result"
    }
   ],
   "source": [
    "orders = orders.query('visitor_id not in @doubling_visitors')\n",
    "len(orders)"
   ]
  },
  {
   "cell_type": "markdown",
   "metadata": {},
   "source": [
    "Сначала сделаем срезы пользователей с числом заказов больше 95% и пользователей, совершивших заказы дороже 95%:"
   ]
  },
  {
   "cell_type": "code",
   "execution_count": 38,
   "metadata": {},
   "outputs": [],
   "source": [
    "count_orders_percentile = np.percentile(orders_users['transaction_count'], [95])\n",
    "\n",
    "expensive__orders_percentile = np.percentile(orders['revenue'], [95])"
   ]
  },
  {
   "cell_type": "code",
   "execution_count": 39,
   "metadata": {},
   "outputs": [],
   "source": [
    "users_with_many_orders = pd.concat(\n",
    "    [\n",
    "        orders_by_users_A[orders_by_users_A['transactions'] > count_orders_percentile[0]]['visitor_id'],\n",
    "        orders_by_users_B[orders_by_users_B['transactions'] > count_orders_percentile[0]]['visitor_id'],\n",
    "    ],\n",
    "    axis=0,\n",
    ")"
   ]
  },
  {
   "cell_type": "code",
   "execution_count": 40,
   "metadata": {},
   "outputs": [],
   "source": [
    "users_with_expensive_orders = orders[orders['revenue'] > expensive__orders_percentile[0]]['visitor_id']"
   ]
  },
  {
   "cell_type": "code",
   "execution_count": 41,
   "metadata": {},
   "outputs": [
    {
     "data": {
      "text/plain": [
       "18      199603092\n",
       "23      237748145\n",
       "68      611059232\n",
       "146    1230306981\n",
       "189    1614305549\n",
       "Name: visitor_id, dtype: int64"
      ]
     },
     "execution_count": 41,
     "metadata": {},
     "output_type": "execute_result"
    }
   ],
   "source": [
    "abnormal_users = (\n",
    "    pd.concat([users_with_many_orders, users_with_expensive_orders], axis=0)\n",
    "    .drop_duplicates()\n",
    ")\n",
    "\n",
    "abnormal_users.head()"
   ]
  },
  {
   "cell_type": "markdown",
   "metadata": {},
   "source": [
    "<div class=\"alert alert-success\"; style=\"border-left: 7px solid green\">\n",
    "<font size=\"4\"><b>Комментарий ревьюера 🚀</b></font>\n",
    "    <br />\n",
    "    <font size=\"3\", color = \"black\">\n",
    "    <br /> Отличное выделение аномальных пользователей\n",
    "     <br />\n",
    "    </font>\n",
    "\n",
    "</div>"
   ]
  },
  {
   "cell_type": "markdown",
   "metadata": {},
   "source": [
    "<div class=\"alert alert-warning\" ; style=\"border-left: 7px solid orange\">\n",
    "<font size=\"4\"><b>Комментарий ревьюера 👀</b></font>\n",
    "    <br />\n",
    "    <font size=\"3\", color = \"black\">\n",
    "    <br /> Следует делать расчет с помощью кода (посчитать перцентили) и не вписывать значения вручную. Это приводит к отстутствию автоматизации, что может привести к ошибке\n",
    "    <br />\n",
    "    </font>\n",
    "\n",
    "</div>"
   ]
  },
  {
   "cell_type": "markdown",
   "metadata": {},
   "source": [
    "<div class=\"alert alert-info\"; style=\"border-left: 7px solid pink\">\n",
    "<font size=\"4\"><b>Комментарий студента</b></font>\n",
    "    <br /> \n",
    "    <font size=\"3\", color = \"black\">\n",
    "<br />\n",
    "      <br />Поправил. Надеюсь, что правильно.<br/>\n",
    "    </font>\n",
    "\n",
    "</div>"
   ]
  },
  {
   "cell_type": "markdown",
   "metadata": {},
   "source": [
    "<div class=\"alert alert-success\"; style=\"border-left: 7px solid green\">\n",
    "<font size=\"4\"><b>Комментарий ревьюера 🚀 v2</b></font>\n",
    "    <br />\n",
    "    <font size=\"3\", color = \"black\">\n",
    "    <br /> Все правильо\n",
    "     <br />\n",
    "    </font>\n",
    "\n",
    "</div>"
   ]
  },
  {
   "cell_type": "code",
   "execution_count": 42,
   "metadata": {},
   "outputs": [],
   "source": [
    "filtered_orders_users_A = pd.concat(\n",
    "    [\n",
    "        orders_by_users_A[\n",
    "            np.logical_not(orders_by_users_A['visitor_id'].isin(abnormal_users))\n",
    "        ]['transactions'],\n",
    "        pd.Series(\n",
    "            0,\n",
    "            index=np.arange(\n",
    "                visitors_per_date_A['visitors'].sum() - len(orders_by_users_A['transactions'])\n",
    "            ),\n",
    "            name='transactions',\n",
    "        ),\n",
    "    ],\n",
    "    axis=0,\n",
    ")\n",
    "\n",
    "filtered_orders_users_B = pd.concat(\n",
    "    [\n",
    "        orders_by_users_B[\n",
    "            np.logical_not(orders_by_users_B['visitor_id'].isin(abnormal_users))\n",
    "        ]['transactions'],\n",
    "        pd.Series(\n",
    "            0,\n",
    "            index=np.arange(\n",
    "                visitors_per_date_B['visitors'].sum() - len(orders_by_users_B['transactions'])\n",
    "            ),\n",
    "            name='transactions',\n",
    "        ),\n",
    "    ],\n",
    "    axis=0,\n",
    ")"
   ]
  },
  {
   "cell_type": "markdown",
   "metadata": {},
   "source": [
    "<div class=\"alert alert-success\"; style=\"border-left: 7px solid green\">\n",
    "<font size=\"4\"><b>Комментарий ревьюера 🚀</b></font>\n",
    "    <br />\n",
    "    <font size=\"3\", color = \"black\">\n",
    "    <br /> Верно сформированы таблицы по офтильтрованным пользователям\n",
    "     <br />\n",
    "    </font>\n",
    "\n",
    "</div>"
   ]
  },
  {
   "cell_type": "markdown",
   "metadata": {},
   "source": [
    "Нулевая и альтернативная гипотезы:\n",
    "- нулевая гипотеза - конверсии между группами равна;\n",
    "- альтернативная гипотеза - конверсии между группами различается."
   ]
  },
  {
   "cell_type": "code",
   "execution_count": 43,
   "metadata": {},
   "outputs": [
    {
     "data": {
      "text/plain": [
       "'p-value для сравнения конверсии между группами равно: 0.01741'"
      ]
     },
     "metadata": {},
     "output_type": "display_data"
    },
    {
     "data": {
      "text/plain": [
       "'Относительное различие в конверсии между группами равно: 0.166'"
      ]
     },
     "metadata": {},
     "output_type": "display_data"
    },
    {
     "data": {
      "text/plain": [
       "'Отвергаем нулевую гипотезу'"
      ]
     },
     "metadata": {},
     "output_type": "display_data"
    }
   ],
   "source": [
    "alpha = .05\n",
    "\n",
    "results = stats.mannwhitneyu(filtered_orders_users_A, filtered_orders_users_B)[1]\n",
    "\n",
    "display(\"p-value для сравнения конверсии между группами равно: {0:.5f}\".format(results))\n",
    "display(\"Относительное различие в конверсии между группами равно: {0:.3f}\"\\\n",
    "        .format(filtered_orders_users_B.mean() / filtered_orders_users_A.mean() - 1))\n",
    "\n",
    "if results < alpha:\n",
    "    display(\"Отвергаем нулевую гипотезу\")\n",
    "else:\n",
    "    display(\"Не получилось отвергнуть нулевую гипотезу\")"
   ]
  },
  {
   "cell_type": "markdown",
   "metadata": {},
   "source": [
    "**Выводы:**\n",
    "\n",
    "* как и в случае с сырыми данными p-value меньше 0.05, поэтому отвергаем нулевую гипотезу, это значит, что между группами есть статистически значимые различия;\n",
    "* относительный прирост конверсии группы В к группе А по \"очищенным\" данным больше и составляет 16.6%."
   ]
  },
  {
   "cell_type": "markdown",
   "metadata": {},
   "source": [
    "<div class=\"alert alert-danger\"; style=\"border-left: 7px solid red\">\n",
    "<font size=\"4\"><b>Комментарий ревьюера 🦔 </b></font>\n",
    "    <br />\n",
    "    <font size=\"3\", color = \"black\">\n",
    "    <br /> Тут тоже ошибочка с выборками при подсчете прироста\n",
    "    </font>\n",
    "\n",
    "</div>"
   ]
  },
  {
   "cell_type": "markdown",
   "metadata": {},
   "source": [
    "<div class=\"alert alert-success\"; style=\"border-left: 7px solid green\">\n",
    "<font size=\"4\"><b>Комментарий ревьюера 🚀</b></font>\n",
    "    <br />\n",
    "    <font size=\"3\", color = \"black\">\n",
    "    <br /> Получен верный результат по тесту\n",
    "     <br />\n",
    "    </font>\n",
    "\n",
    "</div>"
   ]
  },
  {
   "cell_type": "markdown",
   "metadata": {},
   "source": [
    "<div class=\"alert alert-info\"; style=\"border-left: 7px solid pink\">\n",
    "<font size=\"4\"><b>Комментарий студента</b></font>\n",
    "    <br /> \n",
    "    <font size=\"3\", color = \"black\">\n",
    "<br />\n",
    "      <br />Поправил. Надеюсь, что правильно.<br/>\n",
    "    </font>\n",
    "\n",
    "</div>"
   ]
  },
  {
   "cell_type": "markdown",
   "metadata": {},
   "source": [
    "<div class=\"alert alert-success\"; style=\"border-left: 7px solid green\">\n",
    "<font size=\"4\"><b>Комментарий ревьюера 🚀 v2</b></font>\n",
    "    <br />\n",
    "    <font size=\"3\", color = \"black\">\n",
    "    <br /> Принимается!\n",
    "     <br />\n",
    "    </font>\n",
    "\n",
    "</div>"
   ]
  },
  {
   "cell_type": "markdown",
   "metadata": {},
   "source": [
    "### Посчитаем статистическую значимость различий в среднем чеке заказа между группами по «очищенным» данным. Сделаем выводы и предположения."
   ]
  },
  {
   "cell_type": "code",
   "execution_count": 44,
   "metadata": {},
   "outputs": [
    {
     "data": {
      "text/plain": [
       "'p-value для сравнения среднего чека между группами равно: 0.646'"
      ]
     },
     "metadata": {},
     "output_type": "display_data"
    },
    {
     "data": {
      "text/plain": [
       "'Относительное различие среднего чека между группами равно: -0.048'"
      ]
     },
     "metadata": {},
     "output_type": "display_data"
    },
    {
     "data": {
      "text/plain": [
       "'Не получилось отвергнуть нулевую гипотезу'"
      ]
     },
     "metadata": {},
     "output_type": "display_data"
    }
   ],
   "source": [
    "alpha = .05\n",
    "\n",
    "results = stats.mannwhitneyu(\n",
    "            orders[\n",
    "                np.logical_and(\n",
    "                    orders['group'] == 'A',\n",
    "                    np.logical_not(orders['visitor_id'].isin(abnormal_users)),\n",
    "                )\n",
    "            ]['revenue'],\n",
    "            orders[\n",
    "                np.logical_and(\n",
    "                    orders['group'] == 'B',\n",
    "                    np.logical_not(orders['visitor_id'].isin(abnormal_users)),\n",
    "                )\n",
    "            ]['revenue'],\n",
    "        )[1]\n",
    "\n",
    "display('p-value для сравнения среднего чека между группами равно: {0:.3f}'.format(results))\n",
    "\n",
    "display('Относительное различие среднего чека между группами равно: {0:.3f}'.format(\n",
    "    orders[\n",
    "            np.logical_and(\n",
    "                orders['group'] == 'B',\n",
    "                np.logical_not(orders['visitor_id'].isin(abnormal_users)),\n",
    "            )\n",
    "        ]['revenue'].mean()\n",
    "        / orders[\n",
    "            np.logical_and(\n",
    "                orders['group'] == 'A',\n",
    "                np.logical_not(orders['visitor_id'].isin(abnormal_users)),\n",
    "            )\n",
    "        ]['revenue'].mean()\n",
    "        - 1\n",
    "))\n",
    "\n",
    "if results < alpha:\n",
    "    display(\"Отвергаем нулевую гипотезу\")\n",
    "else:\n",
    "    display(\"Не получилось отвергнуть нулевую гипотезу\")"
   ]
  },
  {
   "cell_type": "markdown",
   "metadata": {},
   "source": [
    "**Выводы:** \n",
    "\n",
    "* как и в случае с сырыми данными, статистически значимых различий между средними чеками в группах нет;\n",
    "* средний чек без аномальных транзакций в группе В меньше на 4.8%."
   ]
  },
  {
   "cell_type": "markdown",
   "metadata": {},
   "source": [
    "<div class=\"alert alert-success\"; style=\"border-left: 7px solid green\">\n",
    "<font size=\"4\"><b>Комментарий ревьюера 🚀</b></font>\n",
    "    <br />\n",
    "    <font size=\"3\", color = \"black\">\n",
    "    <br /> Абсолютная верная логика реализации стат теста и подсчета относительного увеличения среднего чека\n",
    "     <br />\n",
    "    </font>\n",
    "\n",
    "</div>"
   ]
  },
  {
   "cell_type": "markdown",
   "metadata": {},
   "source": [
    "### Примим решение по результатам теста и объясним его."
   ]
  },
  {
   "cell_type": "markdown",
   "metadata": {},
   "source": [
    "Предлагается продолжить тест, т.к. явного победителя нет - в группе А средний чек больше, но в группе В больше конверсия.\n",
    "Необходимо продолжить тест до момента, пока средний чек группы В не установится на реальном уровне, после этого необходимо расчитать, что для бизнеса выгоднее - более высокий средний чек в группе А или более высокая конверсия в группе В."
   ]
  },
  {
   "cell_type": "markdown",
   "metadata": {},
   "source": [
    "<div class=\"alert alert-danger\"; style=\"border-left: 7px solid red\">\n",
    "<font size=\"4\"><b>Комментарий ревьюера 🦔 </b></font>\n",
    "    <br />\n",
    "    <font size=\"3\", color = \"black\">\n",
    "    <br /> Стоит подправить вывод после исправлений прироста выше и пересмотреть окончательное решение\n",
    "    <br />\n",
    "    </font>\n",
    "\n",
    "</div>"
   ]
  },
  {
   "cell_type": "markdown",
   "metadata": {},
   "source": [
    "<div class=\"alert alert-info\"; style=\"border-left: 7px solid pink\">\n",
    "<font size=\"4\"><b>Комментарий студента</b></font>\n",
    "    <br /> \n",
    "    <font size=\"3\", color = \"black\">\n",
    "<br />\n",
    "      <br />Поправил вывод.<br/>\n",
    "    </font>\n",
    "\n",
    "</div>"
   ]
  },
  {
   "cell_type": "markdown",
   "metadata": {},
   "source": [
    "<div class=\"alert alert-warning\" ; style=\"border-left: 7px solid orange\">\n",
    "<font size=\"4\"><b>Комментарий ревьюера 👀 v2</b></font>\n",
    "    <br />\n",
    "    <font size=\"3\", color = \"black\">\n",
    "    <br /> На самом деле, выручка у нас будет иметь такую формулу:\n",
    "     <br /><br />\n",
    "        Выручка = количество посетителей * конверсия (средняя частота покупок на посетителя в нашем кейсе) * средний чек\n",
    "     <br /><br /> \n",
    "        Если брать грубо (без влияния факторов друг на друга), то мы получили повышение конверсии, а средний чек практически не изменился. То по данной формуле имеет место быть завершить тест и признать победителем группу В. У нас есть достаточно информации для того, чтобы сделать вывод. Продолжение теста - это дополнительная задержка времени для принятия решения и расход денег для бизнеса. Поэтому, чтобы продолжить тест, надо иметь очень веские причины и аргументы\n",
    "    </font>\n",
    "\n",
    "</div>"
   ]
  },
  {
   "cell_type": "markdown",
   "metadata": {},
   "source": [
    "<div class=\"alert alert-success\"; style=\"border-left: 7px solid green\">\n",
    "<font size=\"4\"><b>Комментарий ревьюера 🚀</b></font>\n",
    "    <br />\n",
    "    <font size=\"3\", color = \"black\">\n",
    "    <br /> \n",
    "        Спасибо тебе за работу! Она выполнена на высоком уровне. Чтобы я мог принять проект, следует исправить некоторые моменты (красные и желтые комментарии). Если будут вопросы, то с радостью отвечу на них!\n",
    "    </font>\n",
    "\n",
    "</div>"
   ]
  },
  {
   "cell_type": "markdown",
   "metadata": {},
   "source": [
    "<div class=\"alert alert-info\"; style=\"border-left: 7px solid pink\">\n",
    "<font size=\"4\"><b>Комментарий студента</b></font>\n",
    "    <br /> \n",
    "    <font size=\"3\", color = \"black\">\n",
    "<br />\n",
    "      <br />Тебе спасибо, Георгий ;)<br/>\n",
    "    </font>\n",
    "\n",
    "</div>"
   ]
  },
  {
   "cell_type": "markdown",
   "metadata": {},
   "source": [
    "<div class=\"alert alert-success\"; style=\"border-left: 7px solid green\">\n",
    "<font size=\"4\"><b>Комментарий ревьюера 🚀 v2</b></font>\n",
    "    <br />\n",
    "    <font size=\"3\", color = \"black\">\n",
    "    <br /> Всегда пожалуйста! Рад был пообщаться)\n",
    "    </font>\n",
    "\n",
    "</div>"
   ]
  }
 ],
 "metadata": {
  "ExecuteTimeLog": [
   {
    "duration": 808,
    "start_time": "2022-04-24T16:44:50.478Z"
   },
   {
    "duration": 10,
    "start_time": "2022-04-24T16:45:36.611Z"
   },
   {
    "duration": 14,
    "start_time": "2022-04-24T16:46:28.118Z"
   },
   {
    "duration": 24,
    "start_time": "2022-04-24T16:46:41.137Z"
   },
   {
    "duration": 15,
    "start_time": "2022-04-24T16:54:49.757Z"
   },
   {
    "duration": 8,
    "start_time": "2022-04-24T16:54:55.378Z"
   },
   {
    "duration": 4,
    "start_time": "2022-04-24T17:09:13.065Z"
   },
   {
    "duration": 6,
    "start_time": "2022-04-24T17:09:27.404Z"
   },
   {
    "duration": 5,
    "start_time": "2022-04-24T17:09:33.132Z"
   },
   {
    "duration": 16,
    "start_time": "2022-04-24T17:09:39.533Z"
   },
   {
    "duration": 692,
    "start_time": "2022-04-24T17:43:55.212Z"
   },
   {
    "duration": 17,
    "start_time": "2022-04-24T17:44:14.152Z"
   },
   {
    "duration": 16,
    "start_time": "2022-04-24T17:44:29.792Z"
   },
   {
    "duration": 16,
    "start_time": "2022-04-24T17:44:39.892Z"
   },
   {
    "duration": 23,
    "start_time": "2022-04-24T17:44:45.112Z"
   },
   {
    "duration": 1110,
    "start_time": "2022-04-24T17:44:57.816Z"
   },
   {
    "duration": 342,
    "start_time": "2022-04-24T17:44:58.928Z"
   },
   {
    "duration": 11,
    "start_time": "2022-04-24T17:45:11.467Z"
   },
   {
    "duration": 18,
    "start_time": "2022-04-24T17:45:19.576Z"
   },
   {
    "duration": 4,
    "start_time": "2022-04-24T19:37:28.527Z"
   },
   {
    "duration": 5,
    "start_time": "2022-04-24T19:37:33.934Z"
   },
   {
    "duration": 24,
    "start_time": "2022-04-24T19:47:24.735Z"
   },
   {
    "duration": 10,
    "start_time": "2022-04-24T19:47:46.615Z"
   },
   {
    "duration": 23,
    "start_time": "2022-04-24T19:48:18.095Z"
   },
   {
    "duration": 15,
    "start_time": "2022-04-24T19:48:41.047Z"
   },
   {
    "duration": 14,
    "start_time": "2022-04-24T19:53:21.735Z"
   },
   {
    "duration": 16,
    "start_time": "2022-04-24T19:54:18.647Z"
   },
   {
    "duration": 11,
    "start_time": "2022-04-24T19:54:32.735Z"
   },
   {
    "duration": 154,
    "start_time": "2022-04-24T19:54:38.707Z"
   },
   {
    "duration": 159,
    "start_time": "2022-04-24T19:54:59.035Z"
   },
   {
    "duration": 11,
    "start_time": "2022-04-24T19:55:16.415Z"
   },
   {
    "duration": 12,
    "start_time": "2022-04-24T19:55:38.635Z"
   },
   {
    "duration": 24,
    "start_time": "2022-04-24T20:51:56.153Z"
   },
   {
    "duration": 14,
    "start_time": "2022-04-24T20:52:56.661Z"
   },
   {
    "duration": 31,
    "start_time": "2022-04-24T20:53:24.473Z"
   },
   {
    "duration": 20,
    "start_time": "2022-04-24T20:53:38.121Z"
   },
   {
    "duration": 90,
    "start_time": "2022-04-24T20:58:31.053Z"
   },
   {
    "duration": 6,
    "start_time": "2022-04-24T20:58:38.113Z"
   },
   {
    "duration": 6,
    "start_time": "2022-04-24T21:08:13.013Z"
   },
   {
    "duration": 18,
    "start_time": "2022-04-24T21:08:27.732Z"
   },
   {
    "duration": 566,
    "start_time": "2022-04-24T21:09:16.050Z"
   },
   {
    "duration": 791,
    "start_time": "2022-04-24T21:09:26.999Z"
   },
   {
    "duration": 336,
    "start_time": "2022-04-24T21:09:27.792Z"
   },
   {
    "duration": 5,
    "start_time": "2022-04-24T21:09:28.129Z"
   },
   {
    "duration": 20,
    "start_time": "2022-04-24T21:09:28.135Z"
   },
   {
    "duration": 11,
    "start_time": "2022-04-24T21:09:28.157Z"
   },
   {
    "duration": 35,
    "start_time": "2022-04-24T21:09:28.169Z"
   },
   {
    "duration": 20,
    "start_time": "2022-04-24T21:09:28.205Z"
   },
   {
    "duration": 4,
    "start_time": "2022-04-24T21:09:28.227Z"
   },
   {
    "duration": 26,
    "start_time": "2022-04-24T21:09:32.118Z"
   },
   {
    "duration": 19,
    "start_time": "2022-04-24T21:09:53.038Z"
   },
   {
    "duration": 13,
    "start_time": "2022-04-24T21:10:03.378Z"
   },
   {
    "duration": 3,
    "start_time": "2022-04-24T21:10:07.898Z"
   },
   {
    "duration": 19,
    "start_time": "2022-04-24T21:10:07.905Z"
   },
   {
    "duration": 5,
    "start_time": "2022-04-24T21:10:07.925Z"
   },
   {
    "duration": 16,
    "start_time": "2022-04-24T21:10:07.931Z"
   },
   {
    "duration": 13,
    "start_time": "2022-04-24T21:10:07.949Z"
   },
   {
    "duration": 37,
    "start_time": "2022-04-24T21:10:07.963Z"
   },
   {
    "duration": 19,
    "start_time": "2022-04-24T21:10:08.002Z"
   },
   {
    "duration": 4,
    "start_time": "2022-04-24T21:10:08.023Z"
   },
   {
    "duration": 5,
    "start_time": "2022-04-24T21:10:09.677Z"
   },
   {
    "duration": 12,
    "start_time": "2022-04-24T21:10:10.378Z"
   },
   {
    "duration": 95,
    "start_time": "2022-04-24T21:11:57.378Z"
   },
   {
    "duration": 12,
    "start_time": "2022-04-24T21:12:04.609Z"
   },
   {
    "duration": 21,
    "start_time": "2022-04-24T21:12:15.417Z"
   },
   {
    "duration": 129,
    "start_time": "2022-04-24T21:12:48.790Z"
   },
   {
    "duration": 22,
    "start_time": "2022-04-24T21:12:57.226Z"
   },
   {
    "duration": 23,
    "start_time": "2022-04-24T21:13:11.978Z"
   },
   {
    "duration": 870,
    "start_time": "2022-04-24T21:14:39.422Z"
   },
   {
    "duration": 341,
    "start_time": "2022-04-24T21:14:40.294Z"
   },
   {
    "duration": 4,
    "start_time": "2022-04-24T21:14:40.637Z"
   },
   {
    "duration": 22,
    "start_time": "2022-04-24T21:14:40.643Z"
   },
   {
    "duration": 13,
    "start_time": "2022-04-24T21:14:40.667Z"
   },
   {
    "duration": 42,
    "start_time": "2022-04-24T21:14:40.682Z"
   },
   {
    "duration": 21,
    "start_time": "2022-04-24T21:14:40.726Z"
   },
   {
    "duration": 6,
    "start_time": "2022-04-24T21:14:40.749Z"
   },
   {
    "duration": 28,
    "start_time": "2022-04-24T21:14:40.756Z"
   },
   {
    "duration": 956,
    "start_time": "2022-04-25T18:23:06.663Z"
   },
   {
    "duration": 640,
    "start_time": "2022-04-25T18:23:07.622Z"
   },
   {
    "duration": 5,
    "start_time": "2022-04-25T18:23:08.264Z"
   },
   {
    "duration": 22,
    "start_time": "2022-04-25T18:23:08.272Z"
   },
   {
    "duration": 28,
    "start_time": "2022-04-25T18:23:08.296Z"
   },
   {
    "duration": 95,
    "start_time": "2022-04-25T18:23:08.326Z"
   },
   {
    "duration": 56,
    "start_time": "2022-04-25T18:23:08.422Z"
   },
   {
    "duration": 6,
    "start_time": "2022-04-25T18:23:08.480Z"
   },
   {
    "duration": 40,
    "start_time": "2022-04-25T18:23:08.487Z"
   },
   {
    "duration": 9,
    "start_time": "2022-04-25T18:59:10.362Z"
   },
   {
    "duration": 15,
    "start_time": "2022-04-25T19:35:09.955Z"
   },
   {
    "duration": 11,
    "start_time": "2022-04-25T19:35:17.636Z"
   },
   {
    "duration": 98,
    "start_time": "2022-04-25T19:52:57.470Z"
   },
   {
    "duration": 28,
    "start_time": "2022-04-25T19:58:52.893Z"
   },
   {
    "duration": 161,
    "start_time": "2022-04-25T19:59:31.673Z"
   },
   {
    "duration": 128,
    "start_time": "2022-04-25T19:59:36.805Z"
   },
   {
    "duration": 7,
    "start_time": "2022-04-25T19:59:50.934Z"
   },
   {
    "duration": 11,
    "start_time": "2022-04-25T20:00:03.894Z"
   },
   {
    "duration": 17,
    "start_time": "2022-04-25T20:08:29.261Z"
   },
   {
    "duration": 13,
    "start_time": "2022-04-25T20:08:36.110Z"
   },
   {
    "duration": 6,
    "start_time": "2022-04-25T20:11:30.290Z"
   },
   {
    "duration": 9,
    "start_time": "2022-04-25T20:13:49.802Z"
   },
   {
    "duration": 1076,
    "start_time": "2022-04-25T20:15:05.973Z"
   },
   {
    "duration": 112,
    "start_time": "2022-04-25T20:15:07.051Z"
   },
   {
    "duration": 5,
    "start_time": "2022-04-25T20:15:07.165Z"
   },
   {
    "duration": 12,
    "start_time": "2022-04-25T20:15:07.172Z"
   },
   {
    "duration": 11,
    "start_time": "2022-04-25T20:15:07.187Z"
   },
   {
    "duration": 74,
    "start_time": "2022-04-25T20:15:07.199Z"
   },
   {
    "duration": 27,
    "start_time": "2022-04-25T20:15:07.275Z"
   },
   {
    "duration": 5,
    "start_time": "2022-04-25T20:15:07.304Z"
   },
   {
    "duration": 27,
    "start_time": "2022-04-25T20:15:07.311Z"
   },
   {
    "duration": 8,
    "start_time": "2022-04-25T20:15:07.340Z"
   },
   {
    "duration": 10,
    "start_time": "2022-04-25T20:15:07.350Z"
   },
   {
    "duration": 178,
    "start_time": "2022-04-25T20:15:07.361Z"
   },
   {
    "duration": 134,
    "start_time": "2022-04-25T20:15:07.540Z"
   },
   {
    "duration": 13,
    "start_time": "2022-04-25T20:15:07.676Z"
   },
   {
    "duration": 25,
    "start_time": "2022-04-25T20:15:07.691Z"
   },
   {
    "duration": 249,
    "start_time": "2022-04-25T20:15:07.718Z"
   },
   {
    "duration": 90,
    "start_time": "2022-04-25T20:36:52.003Z"
   },
   {
    "duration": 175,
    "start_time": "2022-04-25T20:37:00.718Z"
   },
   {
    "duration": 182,
    "start_time": "2022-04-25T20:38:26.703Z"
   },
   {
    "duration": 5,
    "start_time": "2022-04-25T20:38:38.131Z"
   },
   {
    "duration": 258,
    "start_time": "2022-04-25T20:38:41.930Z"
   },
   {
    "duration": 281,
    "start_time": "2022-04-25T20:39:53.424Z"
   },
   {
    "duration": 202,
    "start_time": "2022-04-25T20:42:31.290Z"
   },
   {
    "duration": 196,
    "start_time": "2022-04-25T20:43:39.011Z"
   },
   {
    "duration": 251,
    "start_time": "2022-04-25T20:44:46.151Z"
   },
   {
    "duration": 384,
    "start_time": "2022-04-25T20:45:25.131Z"
   },
   {
    "duration": 243,
    "start_time": "2022-04-25T20:46:13.042Z"
   },
   {
    "duration": 203,
    "start_time": "2022-04-25T20:48:22.942Z"
   },
   {
    "duration": 202,
    "start_time": "2022-04-25T20:49:31.091Z"
   },
   {
    "duration": 197,
    "start_time": "2022-04-25T20:49:39.190Z"
   },
   {
    "duration": 183,
    "start_time": "2022-04-25T20:49:43.062Z"
   },
   {
    "duration": 291,
    "start_time": "2022-04-25T20:49:48.430Z"
   },
   {
    "duration": 227,
    "start_time": "2022-04-25T20:50:04.910Z"
   },
   {
    "duration": 318,
    "start_time": "2022-04-25T20:50:15.011Z"
   },
   {
    "duration": 296,
    "start_time": "2022-04-25T20:50:22.650Z"
   },
   {
    "duration": 230,
    "start_time": "2022-04-25T20:50:42.450Z"
   },
   {
    "duration": 206,
    "start_time": "2022-04-25T20:52:03.470Z"
   },
   {
    "duration": 198,
    "start_time": "2022-04-25T20:52:58.831Z"
   },
   {
    "duration": 194,
    "start_time": "2022-04-25T20:53:35.590Z"
   },
   {
    "duration": 203,
    "start_time": "2022-04-25T20:53:58.270Z"
   },
   {
    "duration": 316,
    "start_time": "2022-04-25T20:54:08.151Z"
   },
   {
    "duration": 217,
    "start_time": "2022-04-25T20:54:15.270Z"
   },
   {
    "duration": 12,
    "start_time": "2022-04-25T21:01:38.051Z"
   },
   {
    "duration": 3109,
    "start_time": "2022-04-25T21:02:21.751Z"
   },
   {
    "duration": 152,
    "start_time": "2022-04-25T21:03:51.770Z"
   },
   {
    "duration": 271,
    "start_time": "2022-04-25T21:04:05.151Z"
   },
   {
    "duration": 182,
    "start_time": "2022-04-25T21:04:38.731Z"
   },
   {
    "duration": 205,
    "start_time": "2022-04-25T21:05:21.930Z"
   },
   {
    "duration": 195,
    "start_time": "2022-04-25T21:05:28.383Z"
   },
   {
    "duration": 4,
    "start_time": "2022-04-25T21:15:26.471Z"
   },
   {
    "duration": 298,
    "start_time": "2022-04-25T21:19:57.062Z"
   },
   {
    "duration": 358,
    "start_time": "2022-04-25T21:20:23.002Z"
   },
   {
    "duration": 431,
    "start_time": "2022-04-25T21:20:50.991Z"
   },
   {
    "duration": 410,
    "start_time": "2022-04-25T21:21:15.831Z"
   },
   {
    "duration": 340,
    "start_time": "2022-04-25T21:21:43.105Z"
   },
   {
    "duration": 382,
    "start_time": "2022-04-25T21:21:52.881Z"
   },
   {
    "duration": 356,
    "start_time": "2022-04-25T21:22:04.661Z"
   },
   {
    "duration": 1083,
    "start_time": "2022-04-25T21:24:06.504Z"
   },
   {
    "duration": 106,
    "start_time": "2022-04-25T21:24:07.589Z"
   },
   {
    "duration": 5,
    "start_time": "2022-04-25T21:24:07.696Z"
   },
   {
    "duration": 12,
    "start_time": "2022-04-25T21:24:07.702Z"
   },
   {
    "duration": 12,
    "start_time": "2022-04-25T21:24:07.716Z"
   },
   {
    "duration": 53,
    "start_time": "2022-04-25T21:24:07.730Z"
   },
   {
    "duration": 25,
    "start_time": "2022-04-25T21:24:07.785Z"
   },
   {
    "duration": 4,
    "start_time": "2022-04-25T21:24:07.812Z"
   },
   {
    "duration": 19,
    "start_time": "2022-04-25T21:24:07.818Z"
   },
   {
    "duration": 7,
    "start_time": "2022-04-25T21:24:07.839Z"
   },
   {
    "duration": 9,
    "start_time": "2022-04-25T21:24:07.848Z"
   },
   {
    "duration": 179,
    "start_time": "2022-04-25T21:24:07.859Z"
   },
   {
    "duration": 131,
    "start_time": "2022-04-25T21:24:08.040Z"
   },
   {
    "duration": 13,
    "start_time": "2022-04-25T21:24:08.174Z"
   },
   {
    "duration": 9,
    "start_time": "2022-04-25T21:24:08.188Z"
   },
   {
    "duration": 301,
    "start_time": "2022-04-25T21:24:08.198Z"
   },
   {
    "duration": 223,
    "start_time": "2022-04-25T21:24:08.501Z"
   },
   {
    "duration": 329,
    "start_time": "2022-04-25T21:24:08.726Z"
   },
   {
    "duration": 279,
    "start_time": "2022-04-25T21:24:32.084Z"
   },
   {
    "duration": 294,
    "start_time": "2022-04-25T21:24:38.544Z"
   },
   {
    "duration": 188,
    "start_time": "2022-04-25T21:24:53.165Z"
   },
   {
    "duration": 319,
    "start_time": "2022-04-25T21:24:56.803Z"
   },
   {
    "duration": 285,
    "start_time": "2022-04-25T21:25:08.665Z"
   },
   {
    "duration": 400,
    "start_time": "2022-04-25T21:25:16.334Z"
   },
   {
    "duration": 43,
    "start_time": "2022-04-27T19:36:10.588Z"
   },
   {
    "duration": 1719,
    "start_time": "2022-04-27T19:36:13.356Z"
   },
   {
    "duration": 126,
    "start_time": "2022-04-27T19:36:15.078Z"
   },
   {
    "duration": 4,
    "start_time": "2022-04-27T19:36:15.206Z"
   },
   {
    "duration": 25,
    "start_time": "2022-04-27T19:36:15.213Z"
   },
   {
    "duration": 16,
    "start_time": "2022-04-27T19:36:15.240Z"
   },
   {
    "duration": 96,
    "start_time": "2022-04-27T19:36:15.258Z"
   },
   {
    "duration": 53,
    "start_time": "2022-04-27T19:36:15.356Z"
   },
   {
    "duration": 5,
    "start_time": "2022-04-27T19:36:15.411Z"
   },
   {
    "duration": 24,
    "start_time": "2022-04-27T19:36:15.417Z"
   },
   {
    "duration": 8,
    "start_time": "2022-04-27T19:36:15.443Z"
   },
   {
    "duration": 11,
    "start_time": "2022-04-27T19:36:15.452Z"
   },
   {
    "duration": 181,
    "start_time": "2022-04-27T19:36:15.464Z"
   },
   {
    "duration": 108,
    "start_time": "2022-04-27T19:36:15.647Z"
   },
   {
    "duration": 10,
    "start_time": "2022-04-27T19:36:15.757Z"
   },
   {
    "duration": 8,
    "start_time": "2022-04-27T19:36:15.769Z"
   },
   {
    "duration": 267,
    "start_time": "2022-04-27T19:36:15.778Z"
   },
   {
    "duration": 198,
    "start_time": "2022-04-27T19:36:16.046Z"
   },
   {
    "duration": 352,
    "start_time": "2022-04-27T19:36:16.246Z"
   },
   {
    "duration": 8,
    "start_time": "2022-04-27T19:36:18.783Z"
   },
   {
    "duration": 7,
    "start_time": "2022-04-27T19:38:15.956Z"
   },
   {
    "duration": 154,
    "start_time": "2022-04-27T19:38:51.036Z"
   },
   {
    "duration": 189,
    "start_time": "2022-04-27T19:41:02.335Z"
   },
   {
    "duration": 196,
    "start_time": "2022-04-27T19:41:30.295Z"
   },
   {
    "duration": 10,
    "start_time": "2022-04-27T19:51:37.114Z"
   },
   {
    "duration": 6,
    "start_time": "2022-04-27T19:52:08.787Z"
   },
   {
    "duration": 4,
    "start_time": "2022-04-27T19:52:12.266Z"
   },
   {
    "duration": 203,
    "start_time": "2022-04-27T19:53:44.755Z"
   },
   {
    "duration": 219,
    "start_time": "2022-04-27T19:54:03.335Z"
   },
   {
    "duration": 334,
    "start_time": "2022-04-27T19:54:15.255Z"
   },
   {
    "duration": 198,
    "start_time": "2022-04-27T19:54:53.355Z"
   },
   {
    "duration": 15,
    "start_time": "2022-04-27T20:01:30.275Z"
   },
   {
    "duration": 62,
    "start_time": "2022-04-27T20:02:18.275Z"
   },
   {
    "duration": 8,
    "start_time": "2022-04-27T20:02:25.847Z"
   },
   {
    "duration": 8,
    "start_time": "2022-04-27T20:17:36.114Z"
   },
   {
    "duration": 8,
    "start_time": "2022-04-27T20:17:44.052Z"
   },
   {
    "duration": 275,
    "start_time": "2022-04-27T20:19:10.653Z"
   },
   {
    "duration": 343,
    "start_time": "2022-04-27T20:20:55.166Z"
   },
   {
    "duration": 314,
    "start_time": "2022-04-27T20:21:05.494Z"
   },
   {
    "duration": 314,
    "start_time": "2022-04-27T20:21:28.014Z"
   },
   {
    "duration": 298,
    "start_time": "2022-04-27T20:21:37.614Z"
   },
   {
    "duration": 293,
    "start_time": "2022-04-27T20:22:46.394Z"
   },
   {
    "duration": 276,
    "start_time": "2022-04-27T20:22:57.534Z"
   },
   {
    "duration": 281,
    "start_time": "2022-04-27T20:23:13.934Z"
   },
   {
    "duration": 12,
    "start_time": "2022-04-27T20:44:04.066Z"
   },
   {
    "duration": 191,
    "start_time": "2022-04-27T20:44:49.854Z"
   },
   {
    "duration": 7,
    "start_time": "2022-04-27T20:44:56.166Z"
   },
   {
    "duration": 7,
    "start_time": "2022-04-27T20:45:08.034Z"
   },
   {
    "duration": 10,
    "start_time": "2022-04-27T20:45:17.334Z"
   },
   {
    "duration": 9,
    "start_time": "2022-04-27T20:46:42.474Z"
   },
   {
    "duration": 13,
    "start_time": "2022-04-27T20:47:33.494Z"
   },
   {
    "duration": 96,
    "start_time": "2022-04-27T20:49:08.026Z"
   },
   {
    "duration": 96,
    "start_time": "2022-04-27T20:49:12.553Z"
   },
   {
    "duration": 176,
    "start_time": "2022-04-27T20:49:41.154Z"
   },
   {
    "duration": 179,
    "start_time": "2022-04-27T20:50:21.847Z"
   },
   {
    "duration": 107,
    "start_time": "2022-04-27T20:50:31.914Z"
   },
   {
    "duration": 2409,
    "start_time": "2022-04-28T17:22:02.468Z"
   },
   {
    "duration": 203,
    "start_time": "2022-04-28T17:22:04.880Z"
   },
   {
    "duration": 8,
    "start_time": "2022-04-28T17:22:05.085Z"
   },
   {
    "duration": 53,
    "start_time": "2022-04-28T17:22:05.095Z"
   },
   {
    "duration": 24,
    "start_time": "2022-04-28T17:22:05.153Z"
   },
   {
    "duration": 77,
    "start_time": "2022-04-28T17:22:05.179Z"
   },
   {
    "duration": 36,
    "start_time": "2022-04-28T17:22:05.259Z"
   },
   {
    "duration": 8,
    "start_time": "2022-04-28T17:22:05.297Z"
   },
   {
    "duration": 57,
    "start_time": "2022-04-28T17:22:05.308Z"
   },
   {
    "duration": 13,
    "start_time": "2022-04-28T17:22:05.367Z"
   },
   {
    "duration": 53,
    "start_time": "2022-04-28T17:22:05.382Z"
   },
   {
    "duration": 447,
    "start_time": "2022-04-28T17:22:05.439Z"
   },
   {
    "duration": 230,
    "start_time": "2022-04-28T17:22:05.890Z"
   },
   {
    "duration": 24,
    "start_time": "2022-04-28T17:22:06.125Z"
   },
   {
    "duration": 18,
    "start_time": "2022-04-28T17:22:06.152Z"
   },
   {
    "duration": 529,
    "start_time": "2022-04-28T17:22:06.172Z"
   },
   {
    "duration": 382,
    "start_time": "2022-04-28T17:22:06.704Z"
   },
   {
    "duration": 661,
    "start_time": "2022-04-28T17:22:07.089Z"
   },
   {
    "duration": 9,
    "start_time": "2022-04-28T17:22:07.753Z"
   },
   {
    "duration": 826,
    "start_time": "2022-04-28T17:22:07.765Z"
   },
   {
    "duration": 0,
    "start_time": "2022-04-28T17:22:08.593Z"
   },
   {
    "duration": 0,
    "start_time": "2022-04-28T17:22:08.595Z"
   },
   {
    "duration": 0,
    "start_time": "2022-04-28T17:22:08.597Z"
   },
   {
    "duration": 0,
    "start_time": "2022-04-28T17:22:08.598Z"
   },
   {
    "duration": 5,
    "start_time": "2022-04-28T18:41:57.011Z"
   },
   {
    "duration": 49,
    "start_time": "2022-04-28T18:41:57.025Z"
   },
   {
    "duration": 8,
    "start_time": "2022-04-28T18:41:57.078Z"
   },
   {
    "duration": 30,
    "start_time": "2022-04-28T18:41:57.089Z"
   },
   {
    "duration": 37,
    "start_time": "2022-04-28T18:41:57.132Z"
   },
   {
    "duration": 59,
    "start_time": "2022-04-28T18:41:57.172Z"
   },
   {
    "duration": 44,
    "start_time": "2022-04-28T18:41:57.235Z"
   },
   {
    "duration": 10,
    "start_time": "2022-04-28T18:41:57.551Z"
   },
   {
    "duration": 43,
    "start_time": "2022-04-28T18:41:57.564Z"
   },
   {
    "duration": 16,
    "start_time": "2022-04-28T18:41:57.610Z"
   },
   {
    "duration": 49,
    "start_time": "2022-04-28T18:41:57.629Z"
   },
   {
    "duration": 297,
    "start_time": "2022-04-28T18:41:57.681Z"
   },
   {
    "duration": 219,
    "start_time": "2022-04-28T18:41:57.980Z"
   },
   {
    "duration": 28,
    "start_time": "2022-04-28T18:41:58.201Z"
   },
   {
    "duration": 31,
    "start_time": "2022-04-28T18:41:58.232Z"
   },
   {
    "duration": 401,
    "start_time": "2022-04-28T18:41:58.266Z"
   },
   {
    "duration": 470,
    "start_time": "2022-04-28T18:41:58.671Z"
   },
   {
    "duration": 560,
    "start_time": "2022-04-28T18:41:59.144Z"
   },
   {
    "duration": 8,
    "start_time": "2022-04-28T18:41:59.706Z"
   },
   {
    "duration": 587,
    "start_time": "2022-04-28T18:41:59.725Z"
   },
   {
    "duration": 0,
    "start_time": "2022-04-28T18:42:00.315Z"
   },
   {
    "duration": 0,
    "start_time": "2022-04-28T18:42:00.324Z"
   },
   {
    "duration": 0,
    "start_time": "2022-04-28T18:42:00.325Z"
   },
   {
    "duration": 0,
    "start_time": "2022-04-28T18:42:00.327Z"
   },
   {
    "duration": 5,
    "start_time": "2022-04-28T18:42:25.298Z"
   },
   {
    "duration": 28,
    "start_time": "2022-04-28T18:42:25.308Z"
   },
   {
    "duration": 7,
    "start_time": "2022-04-28T18:42:25.339Z"
   },
   {
    "duration": 19,
    "start_time": "2022-04-28T18:42:25.348Z"
   },
   {
    "duration": 21,
    "start_time": "2022-04-28T18:42:25.369Z"
   },
   {
    "duration": 77,
    "start_time": "2022-04-28T18:42:25.393Z"
   },
   {
    "duration": 36,
    "start_time": "2022-04-28T18:42:25.472Z"
   },
   {
    "duration": 16,
    "start_time": "2022-04-28T18:42:25.511Z"
   },
   {
    "duration": 55,
    "start_time": "2022-04-28T18:42:25.529Z"
   },
   {
    "duration": 12,
    "start_time": "2022-04-28T18:42:25.586Z"
   },
   {
    "duration": 45,
    "start_time": "2022-04-28T18:42:25.600Z"
   },
   {
    "duration": 297,
    "start_time": "2022-04-28T18:42:25.648Z"
   },
   {
    "duration": 217,
    "start_time": "2022-04-28T18:42:25.947Z"
   },
   {
    "duration": 18,
    "start_time": "2022-04-28T18:42:26.167Z"
   },
   {
    "duration": 35,
    "start_time": "2022-04-28T18:42:26.191Z"
   },
   {
    "duration": 380,
    "start_time": "2022-04-28T18:42:26.231Z"
   },
   {
    "duration": 393,
    "start_time": "2022-04-28T18:42:26.614Z"
   },
   {
    "duration": 491,
    "start_time": "2022-04-28T18:42:27.010Z"
   },
   {
    "duration": 8,
    "start_time": "2022-04-28T18:42:27.503Z"
   },
   {
    "duration": 359,
    "start_time": "2022-04-28T18:42:27.513Z"
   },
   {
    "duration": 11,
    "start_time": "2022-04-28T18:42:27.874Z"
   },
   {
    "duration": 636,
    "start_time": "2022-04-28T18:42:27.888Z"
   },
   {
    "duration": 20,
    "start_time": "2022-04-28T18:42:28.527Z"
   },
   {
    "duration": 263,
    "start_time": "2022-04-28T18:42:28.552Z"
   },
   {
    "duration": 1987,
    "start_time": "2022-04-28T18:46:39.149Z"
   },
   {
    "duration": 8,
    "start_time": "2022-04-28T18:46:54.709Z"
   },
   {
    "duration": 347,
    "start_time": "2022-04-28T19:01:23.733Z"
   },
   {
    "duration": 280,
    "start_time": "2022-04-28T19:01:28.865Z"
   },
   {
    "duration": 351,
    "start_time": "2022-04-28T19:11:10.386Z"
   },
   {
    "duration": 272,
    "start_time": "2022-04-28T19:11:41.053Z"
   },
   {
    "duration": 365,
    "start_time": "2022-04-28T19:18:17.414Z"
   },
   {
    "duration": 257,
    "start_time": "2022-04-28T19:18:24.552Z"
   },
   {
    "duration": 1473,
    "start_time": "2022-04-28T19:18:32.599Z"
   },
   {
    "duration": 163,
    "start_time": "2022-04-28T19:18:34.074Z"
   },
   {
    "duration": 7,
    "start_time": "2022-04-28T19:18:34.239Z"
   },
   {
    "duration": 22,
    "start_time": "2022-04-28T19:18:34.249Z"
   },
   {
    "duration": 18,
    "start_time": "2022-04-28T19:18:34.273Z"
   },
   {
    "duration": 94,
    "start_time": "2022-04-28T19:18:34.294Z"
   },
   {
    "duration": 30,
    "start_time": "2022-04-28T19:18:34.392Z"
   },
   {
    "duration": 7,
    "start_time": "2022-04-28T19:18:34.427Z"
   },
   {
    "duration": 39,
    "start_time": "2022-04-28T19:18:34.436Z"
   },
   {
    "duration": 13,
    "start_time": "2022-04-28T19:18:34.479Z"
   },
   {
    "duration": 47,
    "start_time": "2022-04-28T19:18:34.494Z"
   },
   {
    "duration": 301,
    "start_time": "2022-04-28T19:18:34.543Z"
   },
   {
    "duration": 234,
    "start_time": "2022-04-28T19:18:34.846Z"
   },
   {
    "duration": 19,
    "start_time": "2022-04-28T19:18:35.082Z"
   },
   {
    "duration": 29,
    "start_time": "2022-04-28T19:18:35.103Z"
   },
   {
    "duration": 528,
    "start_time": "2022-04-28T19:18:35.134Z"
   },
   {
    "duration": 380,
    "start_time": "2022-04-28T19:18:35.665Z"
   },
   {
    "duration": 445,
    "start_time": "2022-04-28T19:18:36.048Z"
   },
   {
    "duration": 8,
    "start_time": "2022-04-28T19:18:36.495Z"
   },
   {
    "duration": 377,
    "start_time": "2022-04-28T19:18:36.505Z"
   },
   {
    "duration": 13,
    "start_time": "2022-04-28T19:18:36.885Z"
   },
   {
    "duration": 470,
    "start_time": "2022-04-28T19:18:36.901Z"
   },
   {
    "duration": 16,
    "start_time": "2022-04-28T19:18:37.373Z"
   },
   {
    "duration": 298,
    "start_time": "2022-04-28T19:18:37.391Z"
   },
   {
    "duration": 267,
    "start_time": "2022-04-28T19:19:06.524Z"
   },
   {
    "duration": 151,
    "start_time": "2022-04-28T19:19:38.071Z"
   },
   {
    "duration": 13,
    "start_time": "2022-04-28T19:19:47.444Z"
   },
   {
    "duration": 274,
    "start_time": "2022-04-28T19:22:28.488Z"
   },
   {
    "duration": 372,
    "start_time": "2022-04-28T19:23:43.963Z"
   },
   {
    "duration": 278,
    "start_time": "2022-04-28T19:23:53.551Z"
   },
   {
    "duration": 13,
    "start_time": "2022-04-28T19:23:54.280Z"
   },
   {
    "duration": 7,
    "start_time": "2022-04-28T19:25:45.171Z"
   },
   {
    "duration": 10,
    "start_time": "2022-04-28T19:27:42.799Z"
   },
   {
    "duration": 292,
    "start_time": "2022-04-28T19:39:34.678Z"
   },
   {
    "duration": 11,
    "start_time": "2022-04-28T19:41:09.471Z"
   },
   {
    "duration": 7,
    "start_time": "2022-04-28T19:41:14.459Z"
   },
   {
    "duration": 275,
    "start_time": "2022-04-28T19:41:17.838Z"
   },
   {
    "duration": 7,
    "start_time": "2022-04-28T19:54:55.486Z"
   },
   {
    "duration": 13,
    "start_time": "2022-04-28T20:24:17.770Z"
   },
   {
    "duration": 302,
    "start_time": "2022-04-28T20:25:08.593Z"
   },
   {
    "duration": 271,
    "start_time": "2022-04-28T20:25:35.866Z"
   },
   {
    "duration": 14,
    "start_time": "2022-04-28T20:52:17.622Z"
   },
   {
    "duration": 9,
    "start_time": "2022-04-28T20:56:03.710Z"
   },
   {
    "duration": 1963,
    "start_time": "2022-04-28T20:57:52.942Z"
   },
   {
    "duration": 11,
    "start_time": "2022-04-28T20:58:30.531Z"
   },
   {
    "duration": 8,
    "start_time": "2022-04-28T20:59:35.111Z"
   },
   {
    "duration": 1396,
    "start_time": "2022-04-28T21:03:11.646Z"
   },
   {
    "duration": 159,
    "start_time": "2022-04-28T21:03:13.044Z"
   },
   {
    "duration": 24,
    "start_time": "2022-04-28T21:03:13.206Z"
   },
   {
    "duration": 30,
    "start_time": "2022-04-28T21:03:13.234Z"
   },
   {
    "duration": 56,
    "start_time": "2022-04-28T21:03:13.268Z"
   },
   {
    "duration": 58,
    "start_time": "2022-04-28T21:03:13.328Z"
   },
   {
    "duration": 29,
    "start_time": "2022-04-28T21:03:13.389Z"
   },
   {
    "duration": 8,
    "start_time": "2022-04-28T21:03:13.426Z"
   },
   {
    "duration": 55,
    "start_time": "2022-04-28T21:03:13.437Z"
   },
   {
    "duration": 35,
    "start_time": "2022-04-28T21:03:13.496Z"
   },
   {
    "duration": 28,
    "start_time": "2022-04-28T21:03:13.533Z"
   },
   {
    "duration": 289,
    "start_time": "2022-04-28T21:03:13.563Z"
   },
   {
    "duration": 235,
    "start_time": "2022-04-28T21:03:13.857Z"
   },
   {
    "duration": 67,
    "start_time": "2022-04-28T21:03:14.095Z"
   },
   {
    "duration": 21,
    "start_time": "2022-04-28T21:03:14.166Z"
   },
   {
    "duration": 1157,
    "start_time": "2022-04-28T21:03:14.192Z"
   },
   {
    "duration": 388,
    "start_time": "2022-04-28T21:03:15.351Z"
   },
   {
    "duration": 446,
    "start_time": "2022-04-28T21:03:15.741Z"
   },
   {
    "duration": 8,
    "start_time": "2022-04-28T21:03:16.189Z"
   },
   {
    "duration": 363,
    "start_time": "2022-04-28T21:03:16.200Z"
   },
   {
    "duration": 11,
    "start_time": "2022-04-28T21:03:16.565Z"
   },
   {
    "duration": 467,
    "start_time": "2022-04-28T21:03:16.579Z"
   },
   {
    "duration": 15,
    "start_time": "2022-04-28T21:03:17.048Z"
   },
   {
    "duration": 289,
    "start_time": "2022-04-28T21:03:17.065Z"
   },
   {
    "duration": 7,
    "start_time": "2022-04-28T21:03:17.357Z"
   },
   {
    "duration": 301,
    "start_time": "2022-04-28T21:03:17.367Z"
   },
   {
    "duration": 7,
    "start_time": "2022-04-28T21:03:17.671Z"
   },
   {
    "duration": 297,
    "start_time": "2022-04-28T21:03:17.680Z"
   },
   {
    "duration": 6,
    "start_time": "2022-04-28T21:03:17.980Z"
   },
   {
    "duration": 34,
    "start_time": "2022-04-28T21:03:17.989Z"
   },
   {
    "duration": 306,
    "start_time": "2022-04-28T21:03:18.026Z"
   },
   {
    "duration": 8,
    "start_time": "2022-04-28T21:03:18.334Z"
   },
   {
    "duration": 9,
    "start_time": "2022-04-28T21:03:18.345Z"
   },
   {
    "duration": 37,
    "start_time": "2022-04-28T21:03:18.357Z"
   },
   {
    "duration": 31,
    "start_time": "2022-04-28T21:05:12.912Z"
   },
   {
    "duration": 30,
    "start_time": "2022-04-28T21:05:39.872Z"
   },
   {
    "duration": 35,
    "start_time": "2022-04-28T21:13:43.232Z"
   },
   {
    "duration": 16,
    "start_time": "2022-04-28T21:14:27.572Z"
   },
   {
    "duration": 20,
    "start_time": "2022-04-28T21:14:39.850Z"
   },
   {
    "duration": 17,
    "start_time": "2022-04-28T21:15:04.051Z"
   },
   {
    "duration": 19,
    "start_time": "2022-04-28T21:15:12.551Z"
   },
   {
    "duration": 2014,
    "start_time": "2022-04-28T21:20:03.982Z"
   },
   {
    "duration": 240,
    "start_time": "2022-04-28T21:20:06.000Z"
   },
   {
    "duration": 8,
    "start_time": "2022-04-28T21:20:06.243Z"
   },
   {
    "duration": 28,
    "start_time": "2022-04-28T21:20:06.254Z"
   },
   {
    "duration": 52,
    "start_time": "2022-04-28T21:20:06.287Z"
   },
   {
    "duration": 56,
    "start_time": "2022-04-28T21:20:06.342Z"
   },
   {
    "duration": 49,
    "start_time": "2022-04-28T21:20:06.401Z"
   },
   {
    "duration": 9,
    "start_time": "2022-04-28T21:20:06.453Z"
   },
   {
    "duration": 61,
    "start_time": "2022-04-28T21:20:06.464Z"
   },
   {
    "duration": 13,
    "start_time": "2022-04-28T21:20:06.528Z"
   },
   {
    "duration": 17,
    "start_time": "2022-04-28T21:20:06.544Z"
   },
   {
    "duration": 328,
    "start_time": "2022-04-28T21:20:06.564Z"
   },
   {
    "duration": 236,
    "start_time": "2022-04-28T21:20:06.894Z"
   },
   {
    "duration": 20,
    "start_time": "2022-04-28T21:20:07.135Z"
   },
   {
    "duration": 11,
    "start_time": "2022-04-28T21:20:07.157Z"
   },
   {
    "duration": 587,
    "start_time": "2022-04-28T21:20:07.170Z"
   },
   {
    "duration": 486,
    "start_time": "2022-04-28T21:20:07.759Z"
   },
   {
    "duration": 433,
    "start_time": "2022-04-28T21:20:08.248Z"
   },
   {
    "duration": 9,
    "start_time": "2022-04-28T21:20:08.683Z"
   },
   {
    "duration": 367,
    "start_time": "2022-04-28T21:20:08.695Z"
   },
   {
    "duration": 13,
    "start_time": "2022-04-28T21:20:09.065Z"
   },
   {
    "duration": 495,
    "start_time": "2022-04-28T21:20:09.081Z"
   },
   {
    "duration": 15,
    "start_time": "2022-04-28T21:20:09.578Z"
   },
   {
    "duration": 284,
    "start_time": "2022-04-28T21:20:09.595Z"
   },
   {
    "duration": 7,
    "start_time": "2022-04-28T21:20:09.881Z"
   },
   {
    "duration": 306,
    "start_time": "2022-04-28T21:20:09.890Z"
   },
   {
    "duration": 8,
    "start_time": "2022-04-28T21:20:10.199Z"
   },
   {
    "duration": 306,
    "start_time": "2022-04-28T21:20:10.226Z"
   },
   {
    "duration": 7,
    "start_time": "2022-04-28T21:20:10.535Z"
   },
   {
    "duration": 280,
    "start_time": "2022-04-28T21:20:10.544Z"
   },
   {
    "duration": 9,
    "start_time": "2022-04-28T21:20:10.827Z"
   },
   {
    "duration": 22,
    "start_time": "2022-04-28T21:20:10.838Z"
   },
   {
    "duration": 71,
    "start_time": "2022-04-28T21:20:10.862Z"
   },
   {
    "duration": 118,
    "start_time": "2022-04-28T21:20:10.935Z"
   },
   {
    "duration": 1241,
    "start_time": "2022-04-29T16:14:33.462Z"
   },
   {
    "duration": 106,
    "start_time": "2022-04-29T16:14:34.705Z"
   },
   {
    "duration": 11,
    "start_time": "2022-04-29T16:14:34.812Z"
   },
   {
    "duration": 13,
    "start_time": "2022-04-29T16:14:34.825Z"
   },
   {
    "duration": 10,
    "start_time": "2022-04-29T16:14:34.839Z"
   },
   {
    "duration": 34,
    "start_time": "2022-04-29T16:14:34.851Z"
   },
   {
    "duration": 22,
    "start_time": "2022-04-29T16:14:34.886Z"
   },
   {
    "duration": 16,
    "start_time": "2022-04-29T16:14:34.909Z"
   },
   {
    "duration": 23,
    "start_time": "2022-04-29T16:14:34.926Z"
   },
   {
    "duration": 8,
    "start_time": "2022-04-29T16:14:34.951Z"
   },
   {
    "duration": 11,
    "start_time": "2022-04-29T16:14:34.961Z"
   },
   {
    "duration": 192,
    "start_time": "2022-04-29T16:14:34.974Z"
   },
   {
    "duration": 120,
    "start_time": "2022-04-29T16:14:35.167Z"
   },
   {
    "duration": 12,
    "start_time": "2022-04-29T16:14:35.288Z"
   },
   {
    "duration": 9,
    "start_time": "2022-04-29T16:14:35.301Z"
   },
   {
    "duration": 274,
    "start_time": "2022-04-29T16:14:35.311Z"
   },
   {
    "duration": 205,
    "start_time": "2022-04-29T16:14:35.587Z"
   },
   {
    "duration": 371,
    "start_time": "2022-04-29T16:14:35.794Z"
   },
   {
    "duration": 5,
    "start_time": "2022-04-29T16:14:36.167Z"
   },
   {
    "duration": 188,
    "start_time": "2022-04-29T16:14:36.173Z"
   },
   {
    "duration": 8,
    "start_time": "2022-04-29T16:14:36.363Z"
   },
   {
    "duration": 281,
    "start_time": "2022-04-29T16:14:36.372Z"
   },
   {
    "duration": 11,
    "start_time": "2022-04-29T16:14:36.654Z"
   },
   {
    "duration": 147,
    "start_time": "2022-04-29T16:14:36.666Z"
   },
   {
    "duration": 10,
    "start_time": "2022-04-29T16:14:36.815Z"
   },
   {
    "duration": 156,
    "start_time": "2022-04-29T16:14:36.826Z"
   },
   {
    "duration": 5,
    "start_time": "2022-04-29T16:14:36.983Z"
   },
   {
    "duration": 152,
    "start_time": "2022-04-29T16:14:36.991Z"
   },
   {
    "duration": 5,
    "start_time": "2022-04-29T16:14:37.144Z"
   },
   {
    "duration": 135,
    "start_time": "2022-04-29T16:14:37.151Z"
   },
   {
    "duration": 5,
    "start_time": "2022-04-29T16:14:37.288Z"
   },
   {
    "duration": 8,
    "start_time": "2022-04-29T16:14:37.294Z"
   },
   {
    "duration": 33,
    "start_time": "2022-04-29T16:14:37.304Z"
   },
   {
    "duration": 94,
    "start_time": "2022-04-29T16:14:37.339Z"
   },
   {
    "duration": 25,
    "start_time": "2022-04-29T16:23:20.489Z"
   },
   {
    "duration": 13,
    "start_time": "2022-04-29T16:24:19.829Z"
   },
   {
    "duration": 7,
    "start_time": "2022-04-29T17:25:44.035Z"
   },
   {
    "duration": 8,
    "start_time": "2022-04-29T17:30:24.803Z"
   },
   {
    "duration": 8,
    "start_time": "2022-04-29T17:31:12.566Z"
   },
   {
    "duration": 6,
    "start_time": "2022-04-29T17:32:04.126Z"
   },
   {
    "duration": 6,
    "start_time": "2022-04-29T17:32:27.347Z"
   },
   {
    "duration": 6,
    "start_time": "2022-04-29T17:32:58.047Z"
   },
   {
    "duration": 5,
    "start_time": "2022-04-29T17:35:29.466Z"
   },
   {
    "duration": 6,
    "start_time": "2022-04-29T17:35:38.986Z"
   },
   {
    "duration": 7,
    "start_time": "2022-04-29T17:36:54.527Z"
   },
   {
    "duration": 5,
    "start_time": "2022-04-29T17:36:55.947Z"
   },
   {
    "duration": 8,
    "start_time": "2022-04-29T17:36:57.486Z"
   },
   {
    "duration": 2402,
    "start_time": "2022-04-29T17:45:12.235Z"
   },
   {
    "duration": 6,
    "start_time": "2022-04-29T17:45:23.873Z"
   },
   {
    "duration": 8,
    "start_time": "2022-04-29T17:45:58.035Z"
   },
   {
    "duration": 21,
    "start_time": "2022-04-29T17:47:23.856Z"
   },
   {
    "duration": 1046,
    "start_time": "2022-04-29T17:47:50.031Z"
   },
   {
    "duration": 102,
    "start_time": "2022-04-29T17:47:51.079Z"
   },
   {
    "duration": 4,
    "start_time": "2022-04-29T17:47:51.183Z"
   },
   {
    "duration": 21,
    "start_time": "2022-04-29T17:47:51.188Z"
   },
   {
    "duration": 20,
    "start_time": "2022-04-29T17:47:51.212Z"
   },
   {
    "duration": 36,
    "start_time": "2022-04-29T17:47:51.234Z"
   },
   {
    "duration": 20,
    "start_time": "2022-04-29T17:47:51.272Z"
   },
   {
    "duration": 7,
    "start_time": "2022-04-29T17:47:51.293Z"
   },
   {
    "duration": 35,
    "start_time": "2022-04-29T17:47:51.302Z"
   },
   {
    "duration": 8,
    "start_time": "2022-04-29T17:47:51.339Z"
   },
   {
    "duration": 11,
    "start_time": "2022-04-29T17:47:51.349Z"
   },
   {
    "duration": 186,
    "start_time": "2022-04-29T17:47:51.362Z"
   },
   {
    "duration": 124,
    "start_time": "2022-04-29T17:47:51.550Z"
   },
   {
    "duration": 15,
    "start_time": "2022-04-29T17:47:51.677Z"
   },
   {
    "duration": 13,
    "start_time": "2022-04-29T17:47:51.693Z"
   },
   {
    "duration": 277,
    "start_time": "2022-04-29T17:47:51.708Z"
   },
   {
    "duration": 199,
    "start_time": "2022-04-29T17:47:51.986Z"
   },
   {
    "duration": 345,
    "start_time": "2022-04-29T17:47:52.187Z"
   },
   {
    "duration": 6,
    "start_time": "2022-04-29T17:47:52.535Z"
   },
   {
    "duration": 398,
    "start_time": "2022-04-29T17:47:52.543Z"
   },
   {
    "duration": 11,
    "start_time": "2022-04-29T17:47:52.943Z"
   },
   {
    "duration": 363,
    "start_time": "2022-04-29T17:47:52.956Z"
   },
   {
    "duration": 15,
    "start_time": "2022-04-29T17:47:53.323Z"
   },
   {
    "duration": 150,
    "start_time": "2022-04-29T17:47:53.340Z"
   },
   {
    "duration": 4,
    "start_time": "2022-04-29T17:47:53.492Z"
   },
   {
    "duration": 157,
    "start_time": "2022-04-29T17:47:53.498Z"
   },
   {
    "duration": 6,
    "start_time": "2022-04-29T17:47:53.657Z"
   },
   {
    "duration": 148,
    "start_time": "2022-04-29T17:47:53.665Z"
   },
   {
    "duration": 13,
    "start_time": "2022-04-29T17:47:53.815Z"
   },
   {
    "duration": 132,
    "start_time": "2022-04-29T17:47:53.829Z"
   },
   {
    "duration": 5,
    "start_time": "2022-04-29T17:47:53.962Z"
   },
   {
    "duration": 7,
    "start_time": "2022-04-29T17:47:53.969Z"
   },
   {
    "duration": 20,
    "start_time": "2022-04-29T17:47:53.978Z"
   },
   {
    "duration": 100,
    "start_time": "2022-04-29T17:47:54.000Z"
   },
   {
    "duration": 6,
    "start_time": "2022-04-29T17:47:54.102Z"
   },
   {
    "duration": 5,
    "start_time": "2022-04-29T17:47:54.124Z"
   },
   {
    "duration": 9,
    "start_time": "2022-04-29T17:47:54.130Z"
   },
   {
    "duration": 8,
    "start_time": "2022-04-29T17:47:54.141Z"
   },
   {
    "duration": 22,
    "start_time": "2022-04-29T17:47:54.151Z"
   },
   {
    "duration": 14,
    "start_time": "2022-04-29T17:55:03.559Z"
   },
   {
    "duration": 1091,
    "start_time": "2022-04-29T18:05:27.998Z"
   },
   {
    "duration": 110,
    "start_time": "2022-04-29T18:05:29.091Z"
   },
   {
    "duration": 5,
    "start_time": "2022-04-29T18:05:29.203Z"
   },
   {
    "duration": 22,
    "start_time": "2022-04-29T18:05:29.211Z"
   },
   {
    "duration": 11,
    "start_time": "2022-04-29T18:05:29.235Z"
   },
   {
    "duration": 34,
    "start_time": "2022-04-29T18:05:29.247Z"
   },
   {
    "duration": 21,
    "start_time": "2022-04-29T18:05:29.283Z"
   },
   {
    "duration": 5,
    "start_time": "2022-04-29T18:05:29.305Z"
   },
   {
    "duration": 23,
    "start_time": "2022-04-29T18:05:29.324Z"
   },
   {
    "duration": 8,
    "start_time": "2022-04-29T18:05:29.350Z"
   },
   {
    "duration": 12,
    "start_time": "2022-04-29T18:05:29.360Z"
   },
   {
    "duration": 202,
    "start_time": "2022-04-29T18:05:29.374Z"
   },
   {
    "duration": 133,
    "start_time": "2022-04-29T18:05:29.578Z"
   },
   {
    "duration": 24,
    "start_time": "2022-04-29T18:05:29.712Z"
   },
   {
    "duration": 12,
    "start_time": "2022-04-29T18:05:29.738Z"
   },
   {
    "duration": 457,
    "start_time": "2022-04-29T18:05:29.752Z"
   },
   {
    "duration": 291,
    "start_time": "2022-04-29T18:05:30.211Z"
   },
   {
    "duration": 352,
    "start_time": "2022-04-29T18:05:30.504Z"
   },
   {
    "duration": 7,
    "start_time": "2022-04-29T18:05:30.858Z"
   },
   {
    "duration": 218,
    "start_time": "2022-04-29T18:05:30.867Z"
   },
   {
    "duration": 8,
    "start_time": "2022-04-29T18:05:31.088Z"
   },
   {
    "duration": 350,
    "start_time": "2022-04-29T18:05:31.098Z"
   },
   {
    "duration": 11,
    "start_time": "2022-04-29T18:05:31.451Z"
   },
   {
    "duration": 163,
    "start_time": "2022-04-29T18:05:31.464Z"
   },
   {
    "duration": 5,
    "start_time": "2022-04-29T18:05:31.629Z"
   },
   {
    "duration": 174,
    "start_time": "2022-04-29T18:05:31.637Z"
   },
   {
    "duration": 14,
    "start_time": "2022-04-29T18:05:31.813Z"
   },
   {
    "duration": 153,
    "start_time": "2022-04-29T18:05:31.833Z"
   },
   {
    "duration": 5,
    "start_time": "2022-04-29T18:05:31.988Z"
   },
   {
    "duration": 171,
    "start_time": "2022-04-29T18:05:31.995Z"
   },
   {
    "duration": 5,
    "start_time": "2022-04-29T18:05:32.168Z"
   },
   {
    "duration": 7,
    "start_time": "2022-04-29T18:05:32.175Z"
   },
   {
    "duration": 41,
    "start_time": "2022-04-29T18:05:32.183Z"
   },
   {
    "duration": 92,
    "start_time": "2022-04-29T18:05:32.232Z"
   },
   {
    "duration": 6,
    "start_time": "2022-04-29T18:05:36.611Z"
   },
   {
    "duration": 5,
    "start_time": "2022-04-29T18:05:37.138Z"
   },
   {
    "duration": 8,
    "start_time": "2022-04-29T18:05:38.838Z"
   },
   {
    "duration": 11,
    "start_time": "2022-04-29T18:05:47.459Z"
   },
   {
    "duration": 34,
    "start_time": "2022-04-29T18:05:49.159Z"
   },
   {
    "duration": 21,
    "start_time": "2022-04-29T18:06:08.399Z"
   },
   {
    "duration": 1050,
    "start_time": "2022-04-29T18:06:40.253Z"
   },
   {
    "duration": 107,
    "start_time": "2022-04-29T18:06:41.306Z"
   },
   {
    "duration": 5,
    "start_time": "2022-04-29T18:06:41.416Z"
   },
   {
    "duration": 14,
    "start_time": "2022-04-29T18:06:41.423Z"
   },
   {
    "duration": 12,
    "start_time": "2022-04-29T18:06:41.440Z"
   },
   {
    "duration": 41,
    "start_time": "2022-04-29T18:06:41.453Z"
   },
   {
    "duration": 21,
    "start_time": "2022-04-29T18:06:41.496Z"
   },
   {
    "duration": 5,
    "start_time": "2022-04-29T18:06:41.524Z"
   },
   {
    "duration": 26,
    "start_time": "2022-04-29T18:06:41.530Z"
   },
   {
    "duration": 9,
    "start_time": "2022-04-29T18:06:41.557Z"
   },
   {
    "duration": 11,
    "start_time": "2022-04-29T18:06:41.568Z"
   },
   {
    "duration": 201,
    "start_time": "2022-04-29T18:06:41.582Z"
   },
   {
    "duration": 126,
    "start_time": "2022-04-29T18:06:41.785Z"
   },
   {
    "duration": 13,
    "start_time": "2022-04-29T18:06:41.923Z"
   },
   {
    "duration": 8,
    "start_time": "2022-04-29T18:06:41.938Z"
   },
   {
    "duration": 455,
    "start_time": "2022-04-29T18:06:41.948Z"
   },
   {
    "duration": 208,
    "start_time": "2022-04-29T18:06:42.405Z"
   },
   {
    "duration": 326,
    "start_time": "2022-04-29T18:06:42.623Z"
   },
   {
    "duration": 6,
    "start_time": "2022-04-29T18:06:42.951Z"
   },
   {
    "duration": 195,
    "start_time": "2022-04-29T18:06:42.959Z"
   },
   {
    "duration": 8,
    "start_time": "2022-04-29T18:06:43.156Z"
   },
   {
    "duration": 283,
    "start_time": "2022-04-29T18:06:43.166Z"
   },
   {
    "duration": 12,
    "start_time": "2022-04-29T18:06:43.451Z"
   },
   {
    "duration": 151,
    "start_time": "2022-04-29T18:06:43.464Z"
   },
   {
    "duration": 10,
    "start_time": "2022-04-29T18:06:43.617Z"
   },
   {
    "duration": 155,
    "start_time": "2022-04-29T18:06:43.629Z"
   },
   {
    "duration": 6,
    "start_time": "2022-04-29T18:06:43.786Z"
   },
   {
    "duration": 242,
    "start_time": "2022-04-29T18:06:43.794Z"
   },
   {
    "duration": 6,
    "start_time": "2022-04-29T18:06:44.039Z"
   },
   {
    "duration": 147,
    "start_time": "2022-04-29T18:06:44.047Z"
   },
   {
    "duration": 6,
    "start_time": "2022-04-29T18:06:44.196Z"
   },
   {
    "duration": 20,
    "start_time": "2022-04-29T18:06:44.204Z"
   },
   {
    "duration": 24,
    "start_time": "2022-04-29T18:06:44.226Z"
   },
   {
    "duration": 107,
    "start_time": "2022-04-29T18:06:44.252Z"
   },
   {
    "duration": 5,
    "start_time": "2022-04-29T18:06:46.952Z"
   },
   {
    "duration": 3,
    "start_time": "2022-04-29T18:06:47.513Z"
   },
   {
    "duration": 6,
    "start_time": "2022-04-29T18:06:48.492Z"
   },
   {
    "duration": 8,
    "start_time": "2022-04-29T18:06:49.333Z"
   },
   {
    "duration": 23,
    "start_time": "2022-04-29T18:06:50.992Z"
   },
   {
    "duration": 16,
    "start_time": "2022-04-29T18:06:54.360Z"
   },
   {
    "duration": 1053,
    "start_time": "2022-04-29T18:22:21.051Z"
   },
   {
    "duration": 101,
    "start_time": "2022-04-29T18:22:22.106Z"
   },
   {
    "duration": 5,
    "start_time": "2022-04-29T18:22:22.209Z"
   },
   {
    "duration": 12,
    "start_time": "2022-04-29T18:22:22.223Z"
   },
   {
    "duration": 11,
    "start_time": "2022-04-29T18:22:22.237Z"
   },
   {
    "duration": 35,
    "start_time": "2022-04-29T18:22:22.249Z"
   },
   {
    "duration": 19,
    "start_time": "2022-04-29T18:22:22.286Z"
   },
   {
    "duration": 19,
    "start_time": "2022-04-29T18:22:22.306Z"
   },
   {
    "duration": 25,
    "start_time": "2022-04-29T18:22:22.326Z"
   },
   {
    "duration": 10,
    "start_time": "2022-04-29T18:22:22.354Z"
   },
   {
    "duration": 16,
    "start_time": "2022-04-29T18:22:22.366Z"
   },
   {
    "duration": 238,
    "start_time": "2022-04-29T18:22:22.383Z"
   },
   {
    "duration": 160,
    "start_time": "2022-04-29T18:22:22.624Z"
   },
   {
    "duration": 16,
    "start_time": "2022-04-29T18:22:22.786Z"
   },
   {
    "duration": 23,
    "start_time": "2022-04-29T18:22:22.803Z"
   },
   {
    "duration": 298,
    "start_time": "2022-04-29T18:22:22.828Z"
   },
   {
    "duration": 222,
    "start_time": "2022-04-29T18:22:23.128Z"
   },
   {
    "duration": 301,
    "start_time": "2022-04-29T18:22:23.351Z"
   },
   {
    "duration": 6,
    "start_time": "2022-04-29T18:22:23.653Z"
   },
   {
    "duration": 187,
    "start_time": "2022-04-29T18:22:23.661Z"
   },
   {
    "duration": 8,
    "start_time": "2022-04-29T18:22:23.850Z"
   },
   {
    "duration": 289,
    "start_time": "2022-04-29T18:22:23.860Z"
   },
   {
    "duration": 11,
    "start_time": "2022-04-29T18:22:24.150Z"
   },
   {
    "duration": 160,
    "start_time": "2022-04-29T18:22:24.163Z"
   },
   {
    "duration": 4,
    "start_time": "2022-04-29T18:22:24.325Z"
   },
   {
    "duration": 163,
    "start_time": "2022-04-29T18:22:24.331Z"
   },
   {
    "duration": 6,
    "start_time": "2022-04-29T18:22:24.495Z"
   },
   {
    "duration": 161,
    "start_time": "2022-04-29T18:22:24.504Z"
   },
   {
    "duration": 4,
    "start_time": "2022-04-29T18:22:24.667Z"
   },
   {
    "duration": 135,
    "start_time": "2022-04-29T18:22:24.673Z"
   },
   {
    "duration": 5,
    "start_time": "2022-04-29T18:22:24.810Z"
   },
   {
    "duration": 10,
    "start_time": "2022-04-29T18:22:24.816Z"
   },
   {
    "duration": 23,
    "start_time": "2022-04-29T18:22:24.828Z"
   },
   {
    "duration": 106,
    "start_time": "2022-04-29T18:22:24.853Z"
   },
   {
    "duration": 5,
    "start_time": "2022-04-29T18:22:24.961Z"
   },
   {
    "duration": 7,
    "start_time": "2022-04-29T18:22:24.967Z"
   },
   {
    "duration": 8,
    "start_time": "2022-04-29T18:22:24.976Z"
   },
   {
    "duration": 8,
    "start_time": "2022-04-29T18:22:24.986Z"
   },
   {
    "duration": 42,
    "start_time": "2022-04-29T18:22:24.995Z"
   },
   {
    "duration": 14,
    "start_time": "2022-04-29T18:22:25.038Z"
   },
   {
    "duration": 1063,
    "start_time": "2022-04-30T17:55:57.786Z"
   },
   {
    "duration": 115,
    "start_time": "2022-04-30T17:55:58.851Z"
   },
   {
    "duration": 8,
    "start_time": "2022-04-30T17:55:58.967Z"
   },
   {
    "duration": 25,
    "start_time": "2022-04-30T17:55:58.977Z"
   },
   {
    "duration": 12,
    "start_time": "2022-04-30T17:55:59.003Z"
   },
   {
    "duration": 34,
    "start_time": "2022-04-30T17:55:59.017Z"
   },
   {
    "duration": 21,
    "start_time": "2022-04-30T17:55:59.053Z"
   },
   {
    "duration": 5,
    "start_time": "2022-04-30T17:55:59.075Z"
   },
   {
    "duration": 22,
    "start_time": "2022-04-30T17:55:59.093Z"
   },
   {
    "duration": 8,
    "start_time": "2022-04-30T17:55:59.118Z"
   },
   {
    "duration": 11,
    "start_time": "2022-04-30T17:55:59.128Z"
   },
   {
    "duration": 189,
    "start_time": "2022-04-30T17:55:59.141Z"
   },
   {
    "duration": 132,
    "start_time": "2022-04-30T17:55:59.331Z"
   },
   {
    "duration": 13,
    "start_time": "2022-04-30T17:55:59.464Z"
   },
   {
    "duration": 23,
    "start_time": "2022-04-30T17:55:59.479Z"
   },
   {
    "duration": 284,
    "start_time": "2022-04-30T17:55:59.504Z"
   },
   {
    "duration": 213,
    "start_time": "2022-04-30T17:55:59.790Z"
   },
   {
    "duration": 300,
    "start_time": "2022-04-30T17:56:00.006Z"
   },
   {
    "duration": 7,
    "start_time": "2022-04-30T17:56:00.308Z"
   },
   {
    "duration": 203,
    "start_time": "2022-04-30T17:56:00.317Z"
   },
   {
    "duration": 9,
    "start_time": "2022-04-30T17:56:00.523Z"
   },
   {
    "duration": 333,
    "start_time": "2022-04-30T17:56:00.534Z"
   },
   {
    "duration": 11,
    "start_time": "2022-04-30T17:56:00.869Z"
   },
   {
    "duration": 158,
    "start_time": "2022-04-30T17:56:00.893Z"
   },
   {
    "duration": 5,
    "start_time": "2022-04-30T17:56:01.054Z"
   },
   {
    "duration": 171,
    "start_time": "2022-04-30T17:56:01.061Z"
   },
   {
    "duration": 6,
    "start_time": "2022-04-30T17:56:01.235Z"
   },
   {
    "duration": 160,
    "start_time": "2022-04-30T17:56:01.245Z"
   },
   {
    "duration": 6,
    "start_time": "2022-04-30T17:56:01.407Z"
   },
   {
    "duration": 153,
    "start_time": "2022-04-30T17:56:01.415Z"
   },
   {
    "duration": 6,
    "start_time": "2022-04-30T17:56:01.569Z"
   },
   {
    "duration": 72,
    "start_time": "2022-04-30T17:56:01.576Z"
   },
   {
    "duration": 7,
    "start_time": "2022-04-30T17:56:40.658Z"
   },
   {
    "duration": 24,
    "start_time": "2022-04-30T17:56:40.891Z"
   },
   {
    "duration": 8,
    "start_time": "2022-04-30T18:00:53.806Z"
   },
   {
    "duration": 13,
    "start_time": "2022-04-30T18:01:24.652Z"
   },
   {
    "duration": 10,
    "start_time": "2022-04-30T18:01:27.511Z"
   },
   {
    "duration": 9,
    "start_time": "2022-04-30T18:03:12.072Z"
   },
   {
    "duration": 4,
    "start_time": "2022-04-30T18:03:41.723Z"
   },
   {
    "duration": 4,
    "start_time": "2022-04-30T18:05:39.423Z"
   },
   {
    "duration": 25,
    "start_time": "2022-04-30T18:08:03.067Z"
   },
   {
    "duration": 25,
    "start_time": "2022-04-30T18:08:07.853Z"
   },
   {
    "duration": 1268,
    "start_time": "2022-04-30T19:59:22.506Z"
   },
   {
    "duration": 149,
    "start_time": "2022-04-30T19:59:23.777Z"
   },
   {
    "duration": 5,
    "start_time": "2022-04-30T19:59:23.928Z"
   },
   {
    "duration": 26,
    "start_time": "2022-04-30T19:59:23.935Z"
   },
   {
    "duration": 11,
    "start_time": "2022-04-30T19:59:23.963Z"
   },
   {
    "duration": 40,
    "start_time": "2022-04-30T19:59:23.976Z"
   },
   {
    "duration": 20,
    "start_time": "2022-04-30T19:59:24.018Z"
   },
   {
    "duration": 4,
    "start_time": "2022-04-30T19:59:24.040Z"
   },
   {
    "duration": 12,
    "start_time": "2022-04-30T19:59:29.426Z"
   },
   {
    "duration": 710,
    "start_time": "2022-04-30T20:00:02.758Z"
   },
   {
    "duration": 1191,
    "start_time": "2022-04-30T20:00:19.882Z"
   },
   {
    "duration": 115,
    "start_time": "2022-04-30T20:00:21.075Z"
   },
   {
    "duration": 5,
    "start_time": "2022-04-30T20:00:21.192Z"
   },
   {
    "duration": 28,
    "start_time": "2022-04-30T20:00:21.199Z"
   },
   {
    "duration": 15,
    "start_time": "2022-04-30T20:00:21.230Z"
   },
   {
    "duration": 34,
    "start_time": "2022-04-30T20:00:21.254Z"
   },
   {
    "duration": 20,
    "start_time": "2022-04-30T20:00:21.290Z"
   },
   {
    "duration": 5,
    "start_time": "2022-04-30T20:00:24.243Z"
   },
   {
    "duration": 671,
    "start_time": "2022-04-30T20:00:25.461Z"
   },
   {
    "duration": 657,
    "start_time": "2022-04-30T20:01:16.722Z"
   },
   {
    "duration": 1097,
    "start_time": "2022-04-30T20:01:27.043Z"
   },
   {
    "duration": 100,
    "start_time": "2022-04-30T20:01:28.142Z"
   },
   {
    "duration": 5,
    "start_time": "2022-04-30T20:01:28.244Z"
   },
   {
    "duration": 13,
    "start_time": "2022-04-30T20:01:28.255Z"
   },
   {
    "duration": 11,
    "start_time": "2022-04-30T20:01:28.270Z"
   },
   {
    "duration": 37,
    "start_time": "2022-04-30T20:01:28.282Z"
   },
   {
    "duration": 19,
    "start_time": "2022-04-30T20:01:28.320Z"
   },
   {
    "duration": 17,
    "start_time": "2022-04-30T20:01:28.340Z"
   },
   {
    "duration": 30,
    "start_time": "2022-04-30T20:01:28.358Z"
   },
   {
    "duration": 20,
    "start_time": "2022-04-30T20:01:28.390Z"
   },
   {
    "duration": 7,
    "start_time": "2022-04-30T20:01:28.412Z"
   },
   {
    "duration": 43,
    "start_time": "2022-04-30T20:01:28.420Z"
   },
   {
    "duration": 171,
    "start_time": "2022-04-30T20:01:28.465Z"
   },
   {
    "duration": 126,
    "start_time": "2022-04-30T20:01:28.638Z"
   },
   {
    "duration": 14,
    "start_time": "2022-04-30T20:01:28.766Z"
   },
   {
    "duration": 7,
    "start_time": "2022-04-30T20:01:28.782Z"
   },
   {
    "duration": 286,
    "start_time": "2022-04-30T20:01:28.791Z"
   },
   {
    "duration": 203,
    "start_time": "2022-04-30T20:01:29.080Z"
   },
   {
    "duration": 292,
    "start_time": "2022-04-30T20:01:29.285Z"
   },
   {
    "duration": 6,
    "start_time": "2022-04-30T20:01:29.579Z"
   },
   {
    "duration": 190,
    "start_time": "2022-04-30T20:01:29.587Z"
   },
   {
    "duration": 7,
    "start_time": "2022-04-30T20:01:29.779Z"
   },
   {
    "duration": 301,
    "start_time": "2022-04-30T20:01:29.789Z"
   },
   {
    "duration": 64,
    "start_time": "2022-04-30T20:01:30.092Z"
   },
   {
    "duration": 413,
    "start_time": "2022-04-30T20:01:30.159Z"
   },
   {
    "duration": 6,
    "start_time": "2022-04-30T20:01:30.574Z"
   },
   {
    "duration": 488,
    "start_time": "2022-04-30T20:01:30.582Z"
   },
   {
    "duration": 6,
    "start_time": "2022-04-30T20:01:31.075Z"
   },
   {
    "duration": 485,
    "start_time": "2022-04-30T20:01:31.083Z"
   },
   {
    "duration": 5,
    "start_time": "2022-04-30T20:01:31.570Z"
   },
   {
    "duration": 212,
    "start_time": "2022-04-30T20:01:31.577Z"
   },
   {
    "duration": 6,
    "start_time": "2022-04-30T20:01:31.791Z"
   },
   {
    "duration": 147,
    "start_time": "2022-04-30T20:01:31.799Z"
   },
   {
    "duration": 0,
    "start_time": "2022-04-30T20:01:31.948Z"
   },
   {
    "duration": 1,
    "start_time": "2022-04-30T20:01:31.949Z"
   },
   {
    "duration": 0,
    "start_time": "2022-04-30T20:01:31.951Z"
   },
   {
    "duration": 0,
    "start_time": "2022-04-30T20:01:31.952Z"
   },
   {
    "duration": 0,
    "start_time": "2022-04-30T20:01:31.954Z"
   },
   {
    "duration": 0,
    "start_time": "2022-04-30T20:01:31.956Z"
   },
   {
    "duration": 0,
    "start_time": "2022-04-30T20:01:31.957Z"
   },
   {
    "duration": 0,
    "start_time": "2022-04-30T20:01:31.958Z"
   },
   {
    "duration": 0,
    "start_time": "2022-04-30T20:01:31.959Z"
   },
   {
    "duration": 1077,
    "start_time": "2022-04-30T20:01:43.082Z"
   },
   {
    "duration": 123,
    "start_time": "2022-04-30T20:01:44.161Z"
   },
   {
    "duration": 5,
    "start_time": "2022-04-30T20:01:44.285Z"
   },
   {
    "duration": 16,
    "start_time": "2022-04-30T20:01:44.292Z"
   },
   {
    "duration": 15,
    "start_time": "2022-04-30T20:01:44.309Z"
   },
   {
    "duration": 36,
    "start_time": "2022-04-30T20:01:44.325Z"
   },
   {
    "duration": 20,
    "start_time": "2022-04-30T20:01:44.363Z"
   },
   {
    "duration": 5,
    "start_time": "2022-04-30T20:01:44.384Z"
   },
   {
    "duration": 33,
    "start_time": "2022-04-30T20:01:44.390Z"
   },
   {
    "duration": 53,
    "start_time": "2022-05-01T17:21:24.156Z"
   },
   {
    "duration": 1196,
    "start_time": "2022-05-01T17:21:34.588Z"
   },
   {
    "duration": 94,
    "start_time": "2022-05-01T17:21:35.786Z"
   },
   {
    "duration": 4,
    "start_time": "2022-05-01T17:21:35.882Z"
   },
   {
    "duration": 21,
    "start_time": "2022-05-01T17:21:35.887Z"
   },
   {
    "duration": 9,
    "start_time": "2022-05-01T17:21:35.909Z"
   },
   {
    "duration": 51,
    "start_time": "2022-05-01T17:21:35.920Z"
   },
   {
    "duration": 24,
    "start_time": "2022-05-01T17:21:35.973Z"
   },
   {
    "duration": 5,
    "start_time": "2022-05-01T17:21:35.998Z"
   },
   {
    "duration": 32,
    "start_time": "2022-05-01T17:21:36.004Z"
   },
   {
    "duration": 7,
    "start_time": "2022-05-01T17:21:36.038Z"
   },
   {
    "duration": 10,
    "start_time": "2022-05-01T17:21:38.107Z"
   },
   {
    "duration": 7,
    "start_time": "2022-05-01T17:22:00.708Z"
   },
   {
    "duration": 3,
    "start_time": "2022-05-01T17:24:12.107Z"
   },
   {
    "duration": 5,
    "start_time": "2022-05-01T17:24:20.519Z"
   },
   {
    "duration": 5,
    "start_time": "2022-05-01T17:24:51.108Z"
   },
   {
    "duration": 5,
    "start_time": "2022-05-01T17:25:03.367Z"
   },
   {
    "duration": 5,
    "start_time": "2022-05-01T17:25:29.767Z"
   },
   {
    "duration": 6,
    "start_time": "2022-05-01T17:25:47.567Z"
   },
   {
    "duration": 3,
    "start_time": "2022-05-01T17:26:23.887Z"
   },
   {
    "duration": 7,
    "start_time": "2022-05-01T17:27:17.227Z"
   },
   {
    "duration": 6,
    "start_time": "2022-05-01T17:31:31.189Z"
   },
   {
    "duration": 6,
    "start_time": "2022-05-01T17:31:34.169Z"
   },
   {
    "duration": 1089,
    "start_time": "2022-05-01T17:33:27.657Z"
   },
   {
    "duration": 93,
    "start_time": "2022-05-01T17:33:28.748Z"
   },
   {
    "duration": 4,
    "start_time": "2022-05-01T17:33:28.843Z"
   },
   {
    "duration": 11,
    "start_time": "2022-05-01T17:33:28.848Z"
   },
   {
    "duration": 10,
    "start_time": "2022-05-01T17:33:28.861Z"
   },
   {
    "duration": 51,
    "start_time": "2022-05-01T17:33:28.872Z"
   },
   {
    "duration": 24,
    "start_time": "2022-05-01T17:33:28.924Z"
   },
   {
    "duration": 4,
    "start_time": "2022-05-01T17:33:28.949Z"
   },
   {
    "duration": 26,
    "start_time": "2022-05-01T17:33:28.954Z"
   },
   {
    "duration": 7,
    "start_time": "2022-05-01T17:33:28.981Z"
   },
   {
    "duration": 7,
    "start_time": "2022-05-01T17:33:31.537Z"
   },
   {
    "duration": 9,
    "start_time": "2022-05-01T17:33:32.597Z"
   },
   {
    "duration": 8,
    "start_time": "2022-05-01T17:33:58.917Z"
   },
   {
    "duration": 138,
    "start_time": "2022-05-01T17:34:28.989Z"
   },
   {
    "duration": 12,
    "start_time": "2022-05-01T17:34:45.097Z"
   },
   {
    "duration": 8,
    "start_time": "2022-05-01T17:35:09.857Z"
   },
   {
    "duration": 4,
    "start_time": "2022-05-01T17:39:03.470Z"
   },
   {
    "duration": 7,
    "start_time": "2022-05-01T17:48:16.209Z"
   },
   {
    "duration": 4,
    "start_time": "2022-05-01T17:48:44.157Z"
   },
   {
    "duration": 4,
    "start_time": "2022-05-01T17:49:42.589Z"
   },
   {
    "duration": 1259,
    "start_time": "2022-05-01T17:49:59.474Z"
   },
   {
    "duration": 117,
    "start_time": "2022-05-01T17:50:00.735Z"
   },
   {
    "duration": 4,
    "start_time": "2022-05-01T17:50:00.854Z"
   },
   {
    "duration": 27,
    "start_time": "2022-05-01T17:50:00.860Z"
   },
   {
    "duration": 14,
    "start_time": "2022-05-01T17:50:00.888Z"
   },
   {
    "duration": 62,
    "start_time": "2022-05-01T17:50:00.905Z"
   },
   {
    "duration": 26,
    "start_time": "2022-05-01T17:50:00.968Z"
   },
   {
    "duration": 4,
    "start_time": "2022-05-01T17:50:00.996Z"
   },
   {
    "duration": 42,
    "start_time": "2022-05-01T17:50:01.002Z"
   },
   {
    "duration": 10,
    "start_time": "2022-05-01T17:50:01.046Z"
   },
   {
    "duration": 14,
    "start_time": "2022-05-01T17:50:01.058Z"
   },
   {
    "duration": 17,
    "start_time": "2022-05-01T17:50:01.073Z"
   },
   {
    "duration": 8,
    "start_time": "2022-05-01T17:50:01.092Z"
   },
   {
    "duration": 93,
    "start_time": "2022-05-01T18:02:14.671Z"
   },
   {
    "duration": 6,
    "start_time": "2022-05-01T18:08:23.397Z"
   },
   {
    "duration": 1132,
    "start_time": "2022-05-01T18:09:06.629Z"
   },
   {
    "duration": 115,
    "start_time": "2022-05-01T18:09:07.763Z"
   },
   {
    "duration": 5,
    "start_time": "2022-05-01T18:09:07.879Z"
   },
   {
    "duration": 23,
    "start_time": "2022-05-01T18:09:07.885Z"
   },
   {
    "duration": 11,
    "start_time": "2022-05-01T18:09:07.910Z"
   },
   {
    "duration": 47,
    "start_time": "2022-05-01T18:09:07.923Z"
   },
   {
    "duration": 26,
    "start_time": "2022-05-01T18:09:07.972Z"
   },
   {
    "duration": 5,
    "start_time": "2022-05-01T18:09:07.999Z"
   },
   {
    "duration": 32,
    "start_time": "2022-05-01T18:09:08.005Z"
   },
   {
    "duration": 8,
    "start_time": "2022-05-01T18:09:08.039Z"
   },
   {
    "duration": 24,
    "start_time": "2022-05-01T18:09:08.049Z"
   },
   {
    "duration": 30,
    "start_time": "2022-05-01T18:09:08.075Z"
   },
   {
    "duration": 7,
    "start_time": "2022-05-01T18:09:08.106Z"
   },
   {
    "duration": 11,
    "start_time": "2022-05-01T18:09:11.896Z"
   },
   {
    "duration": 147,
    "start_time": "2022-05-01T18:10:43.672Z"
   },
   {
    "duration": 115,
    "start_time": "2022-05-01T18:10:47.412Z"
   },
   {
    "duration": 12,
    "start_time": "2022-05-01T18:10:50.823Z"
   },
   {
    "duration": 6,
    "start_time": "2022-05-01T18:11:06.137Z"
   },
   {
    "duration": 450,
    "start_time": "2022-05-01T18:11:15.148Z"
   },
   {
    "duration": 190,
    "start_time": "2022-05-01T18:11:53.868Z"
   },
   {
    "duration": 292,
    "start_time": "2022-05-01T18:12:26.255Z"
   },
   {
    "duration": 7,
    "start_time": "2022-05-01T18:12:53.200Z"
   },
   {
    "duration": 288,
    "start_time": "2022-05-01T18:12:56.648Z"
   },
   {
    "duration": 11,
    "start_time": "2022-05-01T18:13:31.150Z"
   },
   {
    "duration": 336,
    "start_time": "2022-05-01T18:13:32.250Z"
   },
   {
    "duration": 11,
    "start_time": "2022-05-01T18:14:07.271Z"
   },
   {
    "duration": 240,
    "start_time": "2022-05-01T18:14:08.339Z"
   },
   {
    "duration": 93,
    "start_time": "2022-05-01T18:18:22.697Z"
   },
   {
    "duration": 3,
    "start_time": "2022-05-01T18:26:25.945Z"
   },
   {
    "duration": 5,
    "start_time": "2022-05-01T18:26:48.844Z"
   },
   {
    "duration": 1062,
    "start_time": "2022-05-01T18:28:15.101Z"
   },
   {
    "duration": 99,
    "start_time": "2022-05-01T18:28:16.165Z"
   },
   {
    "duration": 4,
    "start_time": "2022-05-01T18:28:16.266Z"
   },
   {
    "duration": 17,
    "start_time": "2022-05-01T18:28:16.272Z"
   },
   {
    "duration": 25,
    "start_time": "2022-05-01T18:28:16.290Z"
   },
   {
    "duration": 56,
    "start_time": "2022-05-01T18:28:16.316Z"
   },
   {
    "duration": 25,
    "start_time": "2022-05-01T18:28:16.373Z"
   },
   {
    "duration": 5,
    "start_time": "2022-05-01T18:28:16.401Z"
   },
   {
    "duration": 37,
    "start_time": "2022-05-01T18:28:16.408Z"
   },
   {
    "duration": 6,
    "start_time": "2022-05-01T18:28:16.448Z"
   },
   {
    "duration": 10,
    "start_time": "2022-05-01T18:28:18.568Z"
   },
   {
    "duration": 6,
    "start_time": "2022-05-01T18:28:19.823Z"
   },
   {
    "duration": 6,
    "start_time": "2022-05-01T18:31:30.649Z"
   },
   {
    "duration": 1236,
    "start_time": "2022-05-01T18:36:05.061Z"
   },
   {
    "duration": 95,
    "start_time": "2022-05-01T18:36:06.299Z"
   },
   {
    "duration": 4,
    "start_time": "2022-05-01T18:36:06.400Z"
   },
   {
    "duration": 12,
    "start_time": "2022-05-01T18:36:06.406Z"
   },
   {
    "duration": 9,
    "start_time": "2022-05-01T18:36:06.420Z"
   },
   {
    "duration": 56,
    "start_time": "2022-05-01T18:36:06.430Z"
   },
   {
    "duration": 24,
    "start_time": "2022-05-01T18:36:06.488Z"
   },
   {
    "duration": 5,
    "start_time": "2022-05-01T18:36:06.513Z"
   },
   {
    "duration": 28,
    "start_time": "2022-05-01T18:36:06.519Z"
   },
   {
    "duration": 5,
    "start_time": "2022-05-01T18:36:06.549Z"
   },
   {
    "duration": 10,
    "start_time": "2022-05-01T18:36:06.556Z"
   },
   {
    "duration": 8,
    "start_time": "2022-05-01T18:36:06.568Z"
   },
   {
    "duration": 9,
    "start_time": "2022-05-01T18:36:48.672Z"
   },
   {
    "duration": 145,
    "start_time": "2022-05-01T18:36:51.841Z"
   },
   {
    "duration": 109,
    "start_time": "2022-05-01T18:36:52.393Z"
   },
   {
    "duration": 12,
    "start_time": "2022-05-01T18:36:52.852Z"
   },
   {
    "duration": 6,
    "start_time": "2022-05-01T18:36:54.100Z"
   },
   {
    "duration": 255,
    "start_time": "2022-05-01T18:36:54.922Z"
   },
   {
    "duration": 185,
    "start_time": "2022-05-01T18:36:56.917Z"
   },
   {
    "duration": 279,
    "start_time": "2022-05-01T18:36:58.402Z"
   },
   {
    "duration": 4,
    "start_time": "2022-05-01T18:37:00.801Z"
   },
   {
    "duration": 175,
    "start_time": "2022-05-01T18:37:00.921Z"
   },
   {
    "duration": 7,
    "start_time": "2022-05-01T18:37:04.900Z"
   },
   {
    "duration": 251,
    "start_time": "2022-05-01T18:37:05.621Z"
   },
   {
    "duration": 10,
    "start_time": "2022-05-01T18:37:08.561Z"
   },
   {
    "duration": 124,
    "start_time": "2022-05-01T18:37:11.749Z"
   },
   {
    "duration": 4,
    "start_time": "2022-05-01T18:37:35.053Z"
   },
   {
    "duration": 140,
    "start_time": "2022-05-01T18:37:38.934Z"
   },
   {
    "duration": 6,
    "start_time": "2022-05-01T18:37:47.880Z"
   },
   {
    "duration": 138,
    "start_time": "2022-05-01T18:37:48.721Z"
   },
   {
    "duration": 6,
    "start_time": "2022-05-01T18:38:29.974Z"
   },
   {
    "duration": 129,
    "start_time": "2022-05-01T18:41:17.950Z"
   },
   {
    "duration": 6,
    "start_time": "2022-05-01T18:41:18.660Z"
   },
   {
    "duration": 90,
    "start_time": "2022-05-01T18:41:19.658Z"
   },
   {
    "duration": 7,
    "start_time": "2022-05-01T18:42:03.548Z"
   },
   {
    "duration": 22,
    "start_time": "2022-05-01T18:42:03.948Z"
   },
   {
    "duration": 1044,
    "start_time": "2022-05-01T18:52:57.105Z"
   },
   {
    "duration": 97,
    "start_time": "2022-05-01T18:52:58.150Z"
   },
   {
    "duration": 5,
    "start_time": "2022-05-01T18:52:58.248Z"
   },
   {
    "duration": 14,
    "start_time": "2022-05-01T18:52:58.255Z"
   },
   {
    "duration": 10,
    "start_time": "2022-05-01T18:52:58.270Z"
   },
   {
    "duration": 52,
    "start_time": "2022-05-01T18:52:58.282Z"
   },
   {
    "duration": 25,
    "start_time": "2022-05-01T18:52:58.336Z"
   },
   {
    "duration": 5,
    "start_time": "2022-05-01T18:52:58.362Z"
   },
   {
    "duration": 30,
    "start_time": "2022-05-01T18:52:58.368Z"
   },
   {
    "duration": 6,
    "start_time": "2022-05-01T18:52:58.401Z"
   },
   {
    "duration": 11,
    "start_time": "2022-05-01T18:52:58.408Z"
   },
   {
    "duration": 8,
    "start_time": "2022-05-01T18:52:58.420Z"
   },
   {
    "duration": 10,
    "start_time": "2022-05-01T18:52:58.429Z"
   },
   {
    "duration": 166,
    "start_time": "2022-05-01T18:52:58.441Z"
   },
   {
    "duration": 117,
    "start_time": "2022-05-01T18:52:58.608Z"
   },
   {
    "duration": 11,
    "start_time": "2022-05-01T18:52:58.727Z"
   },
   {
    "duration": 7,
    "start_time": "2022-05-01T18:52:58.740Z"
   },
   {
    "duration": 264,
    "start_time": "2022-05-01T18:52:58.749Z"
   },
   {
    "duration": 208,
    "start_time": "2022-05-01T18:52:59.014Z"
   },
   {
    "duration": 277,
    "start_time": "2022-05-01T18:52:59.223Z"
   },
   {
    "duration": 5,
    "start_time": "2022-05-01T18:52:59.502Z"
   },
   {
    "duration": 183,
    "start_time": "2022-05-01T18:52:59.509Z"
   },
   {
    "duration": 12,
    "start_time": "2022-05-01T18:52:59.693Z"
   },
   {
    "duration": 271,
    "start_time": "2022-05-01T18:52:59.706Z"
   },
   {
    "duration": 22,
    "start_time": "2022-05-01T18:52:59.978Z"
   },
   {
    "duration": 131,
    "start_time": "2022-05-01T18:53:00.001Z"
   },
   {
    "duration": 4,
    "start_time": "2022-05-01T18:53:00.134Z"
   },
   {
    "duration": 149,
    "start_time": "2022-05-01T18:53:00.141Z"
   },
   {
    "duration": 11,
    "start_time": "2022-05-01T18:53:00.291Z"
   },
   {
    "duration": 142,
    "start_time": "2022-05-01T18:53:00.303Z"
   },
   {
    "duration": 4,
    "start_time": "2022-05-01T18:53:00.447Z"
   },
   {
    "duration": 136,
    "start_time": "2022-05-01T18:53:00.453Z"
   },
   {
    "duration": 9,
    "start_time": "2022-05-01T18:53:00.591Z"
   },
   {
    "duration": 6,
    "start_time": "2022-05-01T18:53:02.717Z"
   },
   {
    "duration": 22,
    "start_time": "2022-05-01T18:53:59.344Z"
   },
   {
    "duration": 104,
    "start_time": "2022-05-01T18:58:50.784Z"
   },
   {
    "duration": 24,
    "start_time": "2022-05-01T19:00:14.724Z"
   },
   {
    "duration": 26,
    "start_time": "2022-05-01T19:00:40.225Z"
   },
   {
    "duration": 23,
    "start_time": "2022-05-01T19:01:41.204Z"
   },
   {
    "duration": 11,
    "start_time": "2022-05-01T19:06:34.989Z"
   },
   {
    "duration": 11,
    "start_time": "2022-05-01T19:11:05.139Z"
   },
   {
    "duration": 14,
    "start_time": "2022-05-01T19:13:32.294Z"
   },
   {
    "duration": 17,
    "start_time": "2022-05-01T19:13:42.585Z"
   },
   {
    "duration": 9,
    "start_time": "2022-05-01T19:18:36.816Z"
   },
   {
    "duration": 5,
    "start_time": "2022-05-01T19:19:06.914Z"
   },
   {
    "duration": 4,
    "start_time": "2022-05-01T19:19:24.389Z"
   },
   {
    "duration": 7,
    "start_time": "2022-05-01T19:19:27.855Z"
   },
   {
    "duration": 10,
    "start_time": "2022-05-01T19:21:21.970Z"
   },
   {
    "duration": 8,
    "start_time": "2022-05-01T19:21:38.250Z"
   },
   {
    "duration": 4,
    "start_time": "2022-05-01T19:25:31.245Z"
   },
   {
    "duration": 4,
    "start_time": "2022-05-01T19:25:37.177Z"
   },
   {
    "duration": 4,
    "start_time": "2022-05-01T19:25:43.699Z"
   },
   {
    "duration": 3,
    "start_time": "2022-05-01T19:26:04.090Z"
   },
   {
    "duration": 4,
    "start_time": "2022-05-01T19:26:08.766Z"
   },
   {
    "duration": 4,
    "start_time": "2022-05-01T19:26:14.980Z"
   },
   {
    "duration": 4,
    "start_time": "2022-05-01T19:28:02.597Z"
   },
   {
    "duration": 4,
    "start_time": "2022-05-01T19:28:04.913Z"
   },
   {
    "duration": 1058,
    "start_time": "2022-05-01T19:28:49.486Z"
   },
   {
    "duration": 105,
    "start_time": "2022-05-01T19:28:50.546Z"
   },
   {
    "duration": 4,
    "start_time": "2022-05-01T19:28:50.653Z"
   },
   {
    "duration": 11,
    "start_time": "2022-05-01T19:28:50.659Z"
   },
   {
    "duration": 10,
    "start_time": "2022-05-01T19:28:50.671Z"
   },
   {
    "duration": 57,
    "start_time": "2022-05-01T19:28:50.682Z"
   },
   {
    "duration": 25,
    "start_time": "2022-05-01T19:28:50.740Z"
   },
   {
    "duration": 4,
    "start_time": "2022-05-01T19:28:50.766Z"
   },
   {
    "duration": 28,
    "start_time": "2022-05-01T19:28:50.771Z"
   },
   {
    "duration": 7,
    "start_time": "2022-05-01T19:28:50.802Z"
   },
   {
    "duration": 19,
    "start_time": "2022-05-01T19:28:50.811Z"
   },
   {
    "duration": 16,
    "start_time": "2022-05-01T19:28:50.831Z"
   },
   {
    "duration": 14,
    "start_time": "2022-05-01T19:28:50.849Z"
   },
   {
    "duration": 158,
    "start_time": "2022-05-01T19:28:50.865Z"
   },
   {
    "duration": 122,
    "start_time": "2022-05-01T19:28:51.024Z"
   },
   {
    "duration": 12,
    "start_time": "2022-05-01T19:28:51.147Z"
   },
   {
    "duration": 10,
    "start_time": "2022-05-01T19:28:51.161Z"
   },
   {
    "duration": 284,
    "start_time": "2022-05-01T19:28:51.173Z"
   },
   {
    "duration": 195,
    "start_time": "2022-05-01T19:28:51.458Z"
   },
   {
    "duration": 302,
    "start_time": "2022-05-01T19:28:51.655Z"
   },
   {
    "duration": 6,
    "start_time": "2022-05-01T19:28:51.958Z"
   },
   {
    "duration": 185,
    "start_time": "2022-05-01T19:28:51.965Z"
   },
   {
    "duration": 7,
    "start_time": "2022-05-01T19:28:52.152Z"
   },
   {
    "duration": 284,
    "start_time": "2022-05-01T19:28:52.160Z"
   },
   {
    "duration": 9,
    "start_time": "2022-05-01T19:28:52.446Z"
   },
   {
    "duration": 136,
    "start_time": "2022-05-01T19:28:52.457Z"
   },
   {
    "duration": 11,
    "start_time": "2022-05-01T19:28:52.595Z"
   },
   {
    "duration": 139,
    "start_time": "2022-05-01T19:28:52.611Z"
   },
   {
    "duration": 5,
    "start_time": "2022-05-01T19:28:52.752Z"
   },
   {
    "duration": 156,
    "start_time": "2022-05-01T19:28:52.759Z"
   },
   {
    "duration": 5,
    "start_time": "2022-05-01T19:28:52.916Z"
   },
   {
    "duration": 145,
    "start_time": "2022-05-01T19:28:52.922Z"
   },
   {
    "duration": 6,
    "start_time": "2022-05-01T19:28:53.068Z"
   },
   {
    "duration": 7,
    "start_time": "2022-05-01T19:28:53.075Z"
   },
   {
    "duration": 27,
    "start_time": "2022-05-01T19:28:53.083Z"
   },
   {
    "duration": 94,
    "start_time": "2022-05-01T19:28:53.113Z"
   },
   {
    "duration": 10,
    "start_time": "2022-05-01T19:28:53.209Z"
   },
   {
    "duration": 5,
    "start_time": "2022-05-01T19:28:56.611Z"
   },
   {
    "duration": 96,
    "start_time": "2022-05-01T19:28:59.336Z"
   },
   {
    "duration": 4,
    "start_time": "2022-05-01T19:29:19.628Z"
   },
   {
    "duration": 12,
    "start_time": "2022-05-01T19:29:25.720Z"
   },
   {
    "duration": 4,
    "start_time": "2022-05-01T19:29:38.500Z"
   },
   {
    "duration": 6,
    "start_time": "2022-05-01T19:29:59.380Z"
   },
   {
    "duration": 4,
    "start_time": "2022-05-01T19:30:01.661Z"
   },
   {
    "duration": 6,
    "start_time": "2022-05-01T19:30:04.536Z"
   },
   {
    "duration": 8,
    "start_time": "2022-05-01T19:44:27.110Z"
   },
   {
    "duration": 23,
    "start_time": "2022-05-01T19:44:32.090Z"
   },
   {
    "duration": 21,
    "start_time": "2022-05-01T19:45:22.250Z"
   },
   {
    "duration": 25,
    "start_time": "2022-05-01T19:45:54.649Z"
   },
   {
    "duration": 25,
    "start_time": "2022-05-01T19:46:50.030Z"
   },
   {
    "duration": 15,
    "start_time": "2022-05-01T19:58:46.374Z"
   },
   {
    "duration": 14,
    "start_time": "2022-05-01T20:00:24.842Z"
   },
   {
    "duration": 15,
    "start_time": "2022-05-01T20:02:59.439Z"
   },
   {
    "duration": 1072,
    "start_time": "2022-05-01T20:38:30.317Z"
   },
   {
    "duration": 112,
    "start_time": "2022-05-01T20:38:31.391Z"
   },
   {
    "duration": 8,
    "start_time": "2022-05-01T20:38:31.507Z"
   },
   {
    "duration": 25,
    "start_time": "2022-05-01T20:38:31.522Z"
   },
   {
    "duration": 10,
    "start_time": "2022-05-01T20:38:31.549Z"
   },
   {
    "duration": 75,
    "start_time": "2022-05-01T20:38:31.560Z"
   },
   {
    "duration": 25,
    "start_time": "2022-05-01T20:38:31.637Z"
   },
   {
    "duration": 5,
    "start_time": "2022-05-01T20:38:31.663Z"
   },
   {
    "duration": 42,
    "start_time": "2022-05-01T20:38:31.669Z"
   },
   {
    "duration": 40,
    "start_time": "2022-05-01T20:38:31.714Z"
   },
   {
    "duration": 15,
    "start_time": "2022-05-01T20:38:31.755Z"
   },
   {
    "duration": 5,
    "start_time": "2022-05-01T20:38:31.772Z"
   },
   {
    "duration": 12,
    "start_time": "2022-05-01T20:38:31.779Z"
   },
   {
    "duration": 172,
    "start_time": "2022-05-01T20:38:31.792Z"
   },
   {
    "duration": 147,
    "start_time": "2022-05-01T20:38:31.966Z"
   },
   {
    "duration": 32,
    "start_time": "2022-05-01T20:38:32.115Z"
   },
   {
    "duration": 9,
    "start_time": "2022-05-01T20:38:32.149Z"
   },
   {
    "duration": 299,
    "start_time": "2022-05-01T20:38:32.159Z"
   },
   {
    "duration": 224,
    "start_time": "2022-05-01T20:38:32.460Z"
   },
   {
    "duration": 323,
    "start_time": "2022-05-01T20:38:32.686Z"
   },
   {
    "duration": 6,
    "start_time": "2022-05-01T20:38:33.013Z"
   },
   {
    "duration": 286,
    "start_time": "2022-05-01T20:38:33.022Z"
   },
   {
    "duration": 11,
    "start_time": "2022-05-01T20:38:33.310Z"
   },
   {
    "duration": 303,
    "start_time": "2022-05-01T20:38:33.322Z"
   },
   {
    "duration": 11,
    "start_time": "2022-05-01T20:38:33.629Z"
   },
   {
    "duration": 141,
    "start_time": "2022-05-01T20:38:33.652Z"
   },
   {
    "duration": 6,
    "start_time": "2022-05-01T20:38:33.795Z"
   },
   {
    "duration": 171,
    "start_time": "2022-05-01T20:38:33.804Z"
   },
   {
    "duration": 4,
    "start_time": "2022-05-01T20:38:33.977Z"
   },
   {
    "duration": 207,
    "start_time": "2022-05-01T20:38:33.983Z"
   },
   {
    "duration": 16,
    "start_time": "2022-05-01T20:38:34.192Z"
   },
   {
    "duration": 153,
    "start_time": "2022-05-01T20:38:34.212Z"
   },
   {
    "duration": 5,
    "start_time": "2022-05-01T20:38:34.367Z"
   },
   {
    "duration": 7,
    "start_time": "2022-05-01T20:38:34.373Z"
   },
   {
    "duration": 40,
    "start_time": "2022-05-01T20:38:34.382Z"
   },
   {
    "duration": 86,
    "start_time": "2022-05-01T20:38:34.430Z"
   },
   {
    "duration": 19,
    "start_time": "2022-05-01T20:38:34.520Z"
   },
   {
    "duration": 10,
    "start_time": "2022-05-01T20:38:34.540Z"
   },
   {
    "duration": 6,
    "start_time": "2022-05-01T20:38:34.551Z"
   },
   {
    "duration": 7,
    "start_time": "2022-05-01T20:38:34.559Z"
   },
   {
    "duration": 7,
    "start_time": "2022-05-01T20:38:34.567Z"
   },
   {
    "duration": 13,
    "start_time": "2022-05-01T20:38:34.575Z"
   },
   {
    "duration": 43,
    "start_time": "2022-05-01T20:38:34.590Z"
   },
   {
    "duration": 18,
    "start_time": "2022-05-01T20:38:34.634Z"
   },
   {
    "duration": 1238,
    "start_time": "2022-05-02T11:35:54.837Z"
   },
   {
    "duration": 121,
    "start_time": "2022-05-02T11:35:56.077Z"
   },
   {
    "duration": 5,
    "start_time": "2022-05-02T11:35:56.200Z"
   },
   {
    "duration": 12,
    "start_time": "2022-05-02T11:35:56.208Z"
   },
   {
    "duration": 13,
    "start_time": "2022-05-02T11:35:56.222Z"
   },
   {
    "duration": 35,
    "start_time": "2022-05-02T11:35:56.237Z"
   },
   {
    "duration": 5,
    "start_time": "2022-05-02T11:36:30.500Z"
   },
   {
    "duration": 141,
    "start_time": "2022-05-02T11:39:25.219Z"
   },
   {
    "duration": 3,
    "start_time": "2022-05-02T11:39:28.374Z"
   },
   {
    "duration": 18,
    "start_time": "2022-05-02T11:39:28.394Z"
   },
   {
    "duration": 6,
    "start_time": "2022-05-02T11:39:28.415Z"
   },
   {
    "duration": 12,
    "start_time": "2022-05-02T11:39:28.423Z"
   },
   {
    "duration": 12,
    "start_time": "2022-05-02T11:39:28.438Z"
   },
   {
    "duration": 32,
    "start_time": "2022-05-02T11:39:28.452Z"
   },
   {
    "duration": 23,
    "start_time": "2022-05-02T11:39:28.508Z"
   },
   {
    "duration": 6,
    "start_time": "2022-05-02T11:39:28.533Z"
   },
   {
    "duration": 31,
    "start_time": "2022-05-02T11:39:28.541Z"
   },
   {
    "duration": 39,
    "start_time": "2022-05-02T11:39:28.573Z"
   },
   {
    "duration": 12,
    "start_time": "2022-05-02T11:39:28.615Z"
   },
   {
    "duration": 7,
    "start_time": "2022-05-02T11:39:28.629Z"
   },
   {
    "duration": 21,
    "start_time": "2022-05-02T11:40:49.218Z"
   },
   {
    "duration": 8,
    "start_time": "2022-05-02T11:41:12.032Z"
   },
   {
    "duration": 9,
    "start_time": "2022-05-02T11:41:18.700Z"
   }
  ],
  "kernelspec": {
   "display_name": "Python 3 (ipykernel)",
   "language": "python",
   "name": "python3"
  },
  "language_info": {
   "codemirror_mode": {
    "name": "ipython",
    "version": 3
   },
   "file_extension": ".py",
   "mimetype": "text/x-python",
   "name": "python",
   "nbconvert_exporter": "python",
   "pygments_lexer": "ipython3",
   "version": "3.9.5"
  },
  "toc": {
   "base_numbering": 1,
   "nav_menu": {},
   "number_sections": true,
   "sideBar": true,
   "skip_h1_title": true,
   "title_cell": "Table of Contents",
   "title_sidebar": "Contents",
   "toc_cell": false,
   "toc_position": {
    "height": "calc(100% - 180px)",
    "left": "10px",
    "top": "150px",
    "width": "302.391px"
   },
   "toc_section_display": true,
   "toc_window_display": true
  }
 },
 "nbformat": 4,
 "nbformat_minor": 2
}
